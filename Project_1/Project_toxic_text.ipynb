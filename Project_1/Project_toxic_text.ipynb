{
 "cells": [
  {
   "cell_type": "markdown",
   "metadata": {
    "toc": true
   },
   "source": [
    "<h1>Содержание<span class=\"tocSkip\"></span></h1>\n",
    "<div class=\"toc\"><ul class=\"toc-item\"><li><span><a href=\"#Подготовка\" data-toc-modified-id=\"Подготовка-1\"><span class=\"toc-item-num\">1&nbsp;&nbsp;</span>Подготовка</a></span><ul class=\"toc-item\"><li><span><a href=\"#Загрузка-библиотек\" data-toc-modified-id=\"Загрузка-библиотек-1.1\"><span class=\"toc-item-num\">1.1&nbsp;&nbsp;</span>Загрузка библиотек</a></span></li><li><span><a href=\"#Загрузка-и-изучение-данных\" data-toc-modified-id=\"Загрузка-и-изучение-данных-1.2\"><span class=\"toc-item-num\">1.2&nbsp;&nbsp;</span>Загрузка и изучение данных</a></span></li><li><span><a href=\"#Лемматизация-и-работа-с-регулярными-выражениями\" data-toc-modified-id=\"Лемматизация-и-работа-с-регулярными-выражениями-1.3\"><span class=\"toc-item-num\">1.3&nbsp;&nbsp;</span>Лемматизация и работа с регулярными выражениями</a></span></li><li><span><a href=\"#Целевая-переменная-и-признаки\" data-toc-modified-id=\"Целевая-переменная-и-признаки-1.4\"><span class=\"toc-item-num\">1.4&nbsp;&nbsp;</span>Целевая переменная и признаки</a></span></li><li><span><a href=\"#Разделение-на-обучающую-и-тестовую-выборки\" data-toc-modified-id=\"Разделение-на-обучающую-и-тестовую-выборки-1.5\"><span class=\"toc-item-num\">1.5&nbsp;&nbsp;</span>Разделение на обучающую и тестовую выборки</a></span></li></ul></li><li><span><a href=\"#Обучение\" data-toc-modified-id=\"Обучение-2\"><span class=\"toc-item-num\">2&nbsp;&nbsp;</span>Обучение</a></span><ul class=\"toc-item\"><li><span><a href=\"#Модель-LogisticRegression\" data-toc-modified-id=\"Модель-LogisticRegression-2.1\"><span class=\"toc-item-num\">2.1&nbsp;&nbsp;</span>Модель LogisticRegression</a></span></li><li><span><a href=\"#Модель-CatBoostClassifier\" data-toc-modified-id=\"Модель-CatBoostClassifier-2.2\"><span class=\"toc-item-num\">2.2&nbsp;&nbsp;</span>Модель CatBoostClassifier</a></span></li><li><span><a href=\"#Подбор-порога-для-модели-LogisticRegression\" data-toc-modified-id=\"Подбор-порога-для-модели-LogisticRegression-2.3\"><span class=\"toc-item-num\">2.3&nbsp;&nbsp;</span>Подбор порога для модели LogisticRegression</a></span></li></ul></li><li><span><a href=\"#Тестирование-лучшей-модели\" data-toc-modified-id=\"Тестирование-лучшей-модели-3\"><span class=\"toc-item-num\">3&nbsp;&nbsp;</span>Тестирование лучшей модели</a></span></li><li><span><a href=\"#Проверка-модели-на-адекватность\" data-toc-modified-id=\"Проверка-модели-на-адекватность-4\"><span class=\"toc-item-num\">4&nbsp;&nbsp;</span>Проверка модели на адекватность</a></span></li><li><span><a href=\"#Выводы\" data-toc-modified-id=\"Выводы-5\"><span class=\"toc-item-num\">5&nbsp;&nbsp;</span>Выводы</a></span></li><li><span><a href=\"#Чек-лист-проверки\" data-toc-modified-id=\"Чек-лист-проверки-6\"><span class=\"toc-item-num\">6&nbsp;&nbsp;</span>Чек-лист проверки</a></span></li></ul></div>"
   ]
  },
  {
   "cell_type": "markdown",
   "metadata": {},
   "source": [
    "# Проект для «Викишоп»"
   ]
  },
  {
   "cell_type": "markdown",
   "metadata": {},
   "source": [
    "Интернет-магазин «Викишоп» запускает новый сервис. Теперь пользователи могут редактировать и дополнять описания товаров, как в вики-сообществах. То есть клиенты предлагают свои правки и комментируют изменения других. Магазину нужен инструмент, который будет искать токсичные комментарии и отправлять их на модерацию. \n",
    "\n",
    "Задача: обучить модель классифицировать комментарии на позитивные и негативные на основании набора данных с разметкой о токсичности правок.\n",
    "\n",
    "Метрика качества *F1* модели должна быть не меньше 0.75.. \n",
    "\n",
    "**План проекта**\n",
    "\n",
    "1. Загрузка и подготовка данных.\n",
    "2. Обучение разных моделей. \n",
    "3. Выводы.\n",
    "\n",
    "\n",
    "**Описание данных**\n",
    "\n",
    "Данные находятся в файле `toxic_comments.csv`. Столбец *text* в нём содержит текст комментария, а *toxic* — целевой признак."
   ]
  },
  {
   "cell_type": "markdown",
   "metadata": {},
   "source": [
    "## Подготовка"
   ]
  },
  {
   "cell_type": "markdown",
   "metadata": {},
   "source": [
    "### Загрузка библиотек"
   ]
  },
  {
   "cell_type": "code",
   "execution_count": 1,
   "metadata": {},
   "outputs": [],
   "source": [
    "import pandas as pd\n",
    "import numpy as np\n",
    "from nltk.corpus import wordnet\n",
    "from nltk.stem import WordNetLemmatizer\n",
    "import re\n",
    "from sklearn.feature_extraction.text import TfidfVectorizer\n",
    "import nltk\n",
    "from nltk.corpus import stopwords\n",
    "from sklearn.model_selection import train_test_split\n",
    "from sklearn.metrics import f1_score\n",
    "from sklearn.pipeline import make_pipeline, Pipeline\n",
    "from sklearn.model_selection import GridSearchCV\n",
    "from sklearn.linear_model import LogisticRegression\n",
    "from catboost import CatBoostClassifier\n",
    "from sklearn.dummy import DummyClassifier"
   ]
  },
  {
   "cell_type": "markdown",
   "metadata": {},
   "source": [
    "### Загрузка и изучение данных"
   ]
  },
  {
   "cell_type": "code",
   "execution_count": 2,
   "metadata": {},
   "outputs": [],
   "source": [
    "data = pd.read_csv('/datasets/toxic_comments.csv', index_col=0)"
   ]
  },
  {
   "cell_type": "code",
   "execution_count": 3,
   "metadata": {},
   "outputs": [
    {
     "data": {
      "text/html": [
       "<div>\n",
       "<style scoped>\n",
       "    .dataframe tbody tr th:only-of-type {\n",
       "        vertical-align: middle;\n",
       "    }\n",
       "\n",
       "    .dataframe tbody tr th {\n",
       "        vertical-align: top;\n",
       "    }\n",
       "\n",
       "    .dataframe thead th {\n",
       "        text-align: right;\n",
       "    }\n",
       "</style>\n",
       "<table border=\"1\" class=\"dataframe\">\n",
       "  <thead>\n",
       "    <tr style=\"text-align: right;\">\n",
       "      <th></th>\n",
       "      <th>text</th>\n",
       "      <th>toxic</th>\n",
       "    </tr>\n",
       "  </thead>\n",
       "  <tbody>\n",
       "    <tr>\n",
       "      <th>111361</th>\n",
       "      <td>PDchick was NOT my account. QUIT SAYING IT IS!!</td>\n",
       "      <td>0</td>\n",
       "    </tr>\n",
       "    <tr>\n",
       "      <th>157981</th>\n",
       "      <td>February 2008 (UTC)\\n\\nIt IS wikipedia, the in...</td>\n",
       "      <td>0</td>\n",
       "    </tr>\n",
       "    <tr>\n",
       "      <th>23812</th>\n",
       "      <td>or American http://www.voanews.com/content/eur...</td>\n",
       "      <td>0</td>\n",
       "    </tr>\n",
       "    <tr>\n",
       "      <th>35947</th>\n",
       "      <td>Welcome!\\n\\nHello, حياتنا, and welcome to Wiki...</td>\n",
       "      <td>0</td>\n",
       "    </tr>\n",
       "    <tr>\n",
       "      <th>112415</th>\n",
       "      <td>Question\\n\\nHi Striver,\\n\\nIve got a question ...</td>\n",
       "      <td>0</td>\n",
       "    </tr>\n",
       "    <tr>\n",
       "      <th>76124</th>\n",
       "      <td>You are a faggot!68.33.41.181</td>\n",
       "      <td>1</td>\n",
       "    </tr>\n",
       "    <tr>\n",
       "      <th>61995</th>\n",
       "      <td>Democracy and blue water navy are not interlin...</td>\n",
       "      <td>0</td>\n",
       "    </tr>\n",
       "    <tr>\n",
       "      <th>39264</th>\n",
       "      <td>Can I Eye\\nFUCK YOU YOU NEGRO SEE GROW  05:45,...</td>\n",
       "      <td>1</td>\n",
       "    </tr>\n",
       "    <tr>\n",
       "      <th>93359</th>\n",
       "      <td>\"\\nWell, this is bad... but thanks. I can now ...</td>\n",
       "      <td>0</td>\n",
       "    </tr>\n",
       "    <tr>\n",
       "      <th>145346</th>\n",
       "      <td>\"\\nYou're the one who's making an \"\"edit war\"\"...</td>\n",
       "      <td>0</td>\n",
       "    </tr>\n",
       "  </tbody>\n",
       "</table>\n",
       "</div>"
      ],
      "text/plain": [
       "                                                     text  toxic\n",
       "111361    PDchick was NOT my account. QUIT SAYING IT IS!!      0\n",
       "157981  February 2008 (UTC)\\n\\nIt IS wikipedia, the in...      0\n",
       "23812   or American http://www.voanews.com/content/eur...      0\n",
       "35947   Welcome!\\n\\nHello, حياتنا, and welcome to Wiki...      0\n",
       "112415  Question\\n\\nHi Striver,\\n\\nIve got a question ...      0\n",
       "76124                       You are a faggot!68.33.41.181      1\n",
       "61995   Democracy and blue water navy are not interlin...      0\n",
       "39264   Can I Eye\\nFUCK YOU YOU NEGRO SEE GROW  05:45,...      1\n",
       "93359   \"\\nWell, this is bad... but thanks. I can now ...      0\n",
       "145346  \"\\nYou're the one who's making an \"\"edit war\"\"...      0"
      ]
     },
     "execution_count": 3,
     "metadata": {},
     "output_type": "execute_result"
    }
   ],
   "source": [
    "data.sample(10)"
   ]
  },
  {
   "cell_type": "code",
   "execution_count": 4,
   "metadata": {},
   "outputs": [
    {
     "name": "stdout",
     "output_type": "stream",
     "text": [
      "<class 'pandas.core.frame.DataFrame'>\n",
      "Int64Index: 159292 entries, 0 to 159450\n",
      "Data columns (total 2 columns):\n",
      " #   Column  Non-Null Count   Dtype \n",
      "---  ------  --------------   ----- \n",
      " 0   text    159292 non-null  object\n",
      " 1   toxic   159292 non-null  int64 \n",
      "dtypes: int64(1), object(1)\n",
      "memory usage: 3.6+ MB\n"
     ]
    }
   ],
   "source": [
    "data.info()"
   ]
  },
  {
   "cell_type": "code",
   "execution_count": 5,
   "metadata": {},
   "outputs": [
    {
     "data": {
      "text/plain": [
       "text     0\n",
       "toxic    0\n",
       "dtype: int64"
      ]
     },
     "execution_count": 5,
     "metadata": {},
     "output_type": "execute_result"
    }
   ],
   "source": [
    "data.isna().sum()"
   ]
  },
  {
   "cell_type": "code",
   "execution_count": 6,
   "metadata": {},
   "outputs": [
    {
     "name": "stdout",
     "output_type": "stream",
     "text": [
      "(16186, 2)\n",
      "(143106, 2)\n"
     ]
    }
   ],
   "source": [
    "print(data[data['toxic']==1].shape)\n",
    "print(data[data['toxic']==0].shape)"
   ]
  },
  {
   "cell_type": "markdown",
   "metadata": {},
   "source": [
    "### Лемматизация и работа с регулярными выражениями "
   ]
  },
  {
   "cell_type": "code",
   "execution_count": 7,
   "metadata": {},
   "outputs": [
    {
     "name": "stderr",
     "output_type": "stream",
     "text": [
      "[nltk_data] Downloading package averaged_perceptron_tagger to\n",
      "[nltk_data]     /home/jovyan/nltk_data...\n",
      "[nltk_data]   Package averaged_perceptron_tagger is already up-to-\n",
      "[nltk_data]       date!\n"
     ]
    },
    {
     "name": "stdout",
     "output_type": "stream",
     "text": [
      "CPU times: user 19min 15s, sys: 1min 57s, total: 21min 12s\n",
      "Wall time: 21min 13s\n"
     ]
    }
   ],
   "source": [
    "%%time\n",
    "# Lemmatize with POS Tag\n",
    "from nltk.corpus import wordnet\n",
    "import nltk\n",
    "nltk.download('averaged_perceptron_tagger')\n",
    "def get_wordnet_pos(word):\n",
    "    tag = nltk.pos_tag([word])[0][1][0].upper()\n",
    "    tag_dict = {\"J\": wordnet.ADJ,\n",
    "                \"N\": wordnet.NOUN,\n",
    "                \"V\": wordnet.VERB,\n",
    "                \"R\": wordnet.ADV}\n",
    "    return tag_dict.get(tag, wordnet.NOUN)\n",
    "\n",
    "lemmatizer = WordNetLemmatizer()\n",
    "tokens = []\n",
    "for sentence in data['text']:\n",
    "    token = [lemmatizer.lemmatize(w, get_wordnet_pos(w)) for w in nltk.word_tokenize(sentence)]\n",
    "    tokens.append(' '.join(token))\n",
    "data['lemm_text'] = tokens\n",
    "\n"
   ]
  },
  {
   "cell_type": "code",
   "execution_count": 8,
   "metadata": {},
   "outputs": [
    {
     "name": "stdout",
     "output_type": "stream",
     "text": [
      "CPU times: user 4.1 s, sys: 72 ms, total: 4.17 s\n",
      "Wall time: 4.18 s\n"
     ]
    }
   ],
   "source": [
    "%%time\n",
    "def clear_text(text):\n",
    "    text_new = re.sub(r'[^a-zA-Z]', ' ', text).lower()\n",
    "    text_split = text_new.split()\n",
    "    return ' '.join(text_split)\n",
    "\n",
    "data['lemm_text'] = data['lemm_text'].apply(lambda x: clear_text(x))\n"
   ]
  },
  {
   "cell_type": "code",
   "execution_count": 9,
   "metadata": {},
   "outputs": [
    {
     "data": {
      "text/html": [
       "<div>\n",
       "<style scoped>\n",
       "    .dataframe tbody tr th:only-of-type {\n",
       "        vertical-align: middle;\n",
       "    }\n",
       "\n",
       "    .dataframe tbody tr th {\n",
       "        vertical-align: top;\n",
       "    }\n",
       "\n",
       "    .dataframe thead th {\n",
       "        text-align: right;\n",
       "    }\n",
       "</style>\n",
       "<table border=\"1\" class=\"dataframe\">\n",
       "  <thead>\n",
       "    <tr style=\"text-align: right;\">\n",
       "      <th></th>\n",
       "      <th>text</th>\n",
       "      <th>toxic</th>\n",
       "      <th>lemm_text</th>\n",
       "    </tr>\n",
       "  </thead>\n",
       "  <tbody>\n",
       "    <tr>\n",
       "      <th>86968</th>\n",
       "      <td>\"\\nYou appear to be misunderstanding.  Surely ...</td>\n",
       "      <td>0</td>\n",
       "      <td>you appear to be misunderstand surely a sectio...</td>\n",
       "    </tr>\n",
       "    <tr>\n",
       "      <th>19270</th>\n",
       "      <td>\"\\n\\n Ethiopia christian nation? \\nSince there...</td>\n",
       "      <td>0</td>\n",
       "      <td>ethiopia christian nation since there be more ...</td>\n",
       "    </tr>\n",
       "    <tr>\n",
       "      <th>33106</th>\n",
       "      <td>Removed links \\n\\nDear Cyberjunkie - can you p...</td>\n",
       "      <td>0</td>\n",
       "      <td>removed link dear cyberjunkie can you please l...</td>\n",
       "    </tr>\n",
       "    <tr>\n",
       "      <th>10019</th>\n",
       "      <td>Nuh-uh, I see track loaders used a lot more on...</td>\n",
       "      <td>0</td>\n",
       "      <td>nuh uh i see track loader use a lot more on ba...</td>\n",
       "    </tr>\n",
       "    <tr>\n",
       "      <th>110570</th>\n",
       "      <td>Not really developed enough at all. Might be h...</td>\n",
       "      <td>0</td>\n",
       "      <td>not really developed enough at all might be he...</td>\n",
       "    </tr>\n",
       "  </tbody>\n",
       "</table>\n",
       "</div>"
      ],
      "text/plain": [
       "                                                     text  toxic  \\\n",
       "86968   \"\\nYou appear to be misunderstanding.  Surely ...      0   \n",
       "19270   \"\\n\\n Ethiopia christian nation? \\nSince there...      0   \n",
       "33106   Removed links \\n\\nDear Cyberjunkie - can you p...      0   \n",
       "10019   Nuh-uh, I see track loaders used a lot more on...      0   \n",
       "110570  Not really developed enough at all. Might be h...      0   \n",
       "\n",
       "                                                lemm_text  \n",
       "86968   you appear to be misunderstand surely a sectio...  \n",
       "19270   ethiopia christian nation since there be more ...  \n",
       "33106   removed link dear cyberjunkie can you please l...  \n",
       "10019   nuh uh i see track loader use a lot more on ba...  \n",
       "110570  not really developed enough at all might be he...  "
      ]
     },
     "execution_count": 9,
     "metadata": {},
     "output_type": "execute_result"
    }
   ],
   "source": [
    "data.sample(5)"
   ]
  },
  {
   "cell_type": "markdown",
   "metadata": {},
   "source": [
    "### Целевая переменная и признаки "
   ]
  },
  {
   "cell_type": "code",
   "execution_count": 10,
   "metadata": {},
   "outputs": [],
   "source": [
    "target = data['toxic']\n",
    "features = data['lemm_text']\n"
   ]
  },
  {
   "cell_type": "markdown",
   "metadata": {},
   "source": [
    "### Разделение на обучающую и тестовую выборки"
   ]
  },
  {
   "cell_type": "code",
   "execution_count": 11,
   "metadata": {},
   "outputs": [],
   "source": [
    "features_train, features_test, target_train, target_test = train_test_split(\n",
    "    features, target, test_size=0.25, stratify=target, random_state=12345)\n"
   ]
  },
  {
   "cell_type": "code",
   "execution_count": 12,
   "metadata": {},
   "outputs": [
    {
     "name": "stdout",
     "output_type": "stream",
     "text": [
      "(119469,)\n",
      "(39823,)\n"
     ]
    }
   ],
   "source": [
    "print(features_train.shape)\n",
    "print(features_test.shape)"
   ]
  },
  {
   "cell_type": "markdown",
   "metadata": {},
   "source": [
    "**Вывод:** Данные успешно выгружены и изучены. Наблюдаем сильный дисбаланс классов. Данные по текстам обработаны: проведена лемматизация текста и работа с регулярными выражениями. Определена целевая переменная и признак, данные поделены на обучающую и тестовые выборки."
   ]
  },
  {
   "cell_type": "markdown",
   "metadata": {},
   "source": [
    "## Обучение"
   ]
  },
  {
   "cell_type": "markdown",
   "metadata": {},
   "source": [
    "### Модель LogisticRegression"
   ]
  },
  {
   "cell_type": "code",
   "execution_count": 13,
   "metadata": {},
   "outputs": [
    {
     "name": "stdout",
     "output_type": "stream",
     "text": [
      "Fitting 3 folds for each of 3 candidates, totalling 9 fits\n",
      "[CV 1/3; 1/3] START vect__ngram_range=(1, 1)....................................\n",
      "[CV 1/3; 1/3] END ..................vect__ngram_range=(1, 1); total time=  36.9s\n",
      "[CV 2/3; 1/3] START vect__ngram_range=(1, 1)....................................\n",
      "[CV 2/3; 1/3] END ..................vect__ngram_range=(1, 1); total time=  29.4s\n",
      "[CV 3/3; 1/3] START vect__ngram_range=(1, 1)....................................\n"
     ]
    },
    {
     "name": "stderr",
     "output_type": "stream",
     "text": [
      "/opt/conda/lib/python3.9/site-packages/sklearn/linear_model/_logistic.py:763: ConvergenceWarning: lbfgs failed to converge (status=1):\n",
      "STOP: TOTAL NO. of ITERATIONS REACHED LIMIT.\n",
      "\n",
      "Increase the number of iterations (max_iter) or scale the data as shown in:\n",
      "    https://scikit-learn.org/stable/modules/preprocessing.html\n",
      "Please also refer to the documentation for alternative solver options:\n",
      "    https://scikit-learn.org/stable/modules/linear_model.html#logistic-regression\n",
      "  n_iter_i = _check_optimize_result(\n"
     ]
    },
    {
     "name": "stdout",
     "output_type": "stream",
     "text": [
      "[CV 3/3; 1/3] END ..................vect__ngram_range=(1, 1); total time=  42.7s\n",
      "[CV 1/3; 2/3] START vect__ngram_range=(1, 2)....................................\n",
      "[CV 1/3; 2/3] END ..................vect__ngram_range=(1, 2); total time= 1.6min\n",
      "[CV 2/3; 2/3] START vect__ngram_range=(1, 2)....................................\n",
      "[CV 2/3; 2/3] END ..................vect__ngram_range=(1, 2); total time= 1.5min\n",
      "[CV 3/3; 2/3] START vect__ngram_range=(1, 2)....................................\n"
     ]
    },
    {
     "name": "stderr",
     "output_type": "stream",
     "text": [
      "/opt/conda/lib/python3.9/site-packages/sklearn/linear_model/_logistic.py:763: ConvergenceWarning: lbfgs failed to converge (status=1):\n",
      "STOP: TOTAL NO. of ITERATIONS REACHED LIMIT.\n",
      "\n",
      "Increase the number of iterations (max_iter) or scale the data as shown in:\n",
      "    https://scikit-learn.org/stable/modules/preprocessing.html\n",
      "Please also refer to the documentation for alternative solver options:\n",
      "    https://scikit-learn.org/stable/modules/linear_model.html#logistic-regression\n",
      "  n_iter_i = _check_optimize_result(\n"
     ]
    },
    {
     "name": "stdout",
     "output_type": "stream",
     "text": [
      "[CV 3/3; 2/3] END ..................vect__ngram_range=(1, 2); total time= 2.0min\n",
      "[CV 1/3; 3/3] START vect__ngram_range=(1, 3)....................................\n",
      "[CV 1/3; 3/3] END ..................vect__ngram_range=(1, 3); total time= 2.4min\n",
      "[CV 2/3; 3/3] START vect__ngram_range=(1, 3)....................................\n",
      "[CV 2/3; 3/3] END ..................vect__ngram_range=(1, 3); total time= 2.9min\n",
      "[CV 3/3; 3/3] START vect__ngram_range=(1, 3)....................................\n",
      "[CV 3/3; 3/3] END ..................vect__ngram_range=(1, 3); total time= 1.9min\n",
      "Оценка F1: 0.7398584988927892\n",
      "CPU times: user 8min 34s, sys: 6min 16s, total: 14min 51s\n",
      "Wall time: 14min 52s\n"
     ]
    },
    {
     "name": "stderr",
     "output_type": "stream",
     "text": [
      "/opt/conda/lib/python3.9/site-packages/sklearn/linear_model/_logistic.py:763: ConvergenceWarning: lbfgs failed to converge (status=1):\n",
      "STOP: TOTAL NO. of ITERATIONS REACHED LIMIT.\n",
      "\n",
      "Increase the number of iterations (max_iter) or scale the data as shown in:\n",
      "    https://scikit-learn.org/stable/modules/preprocessing.html\n",
      "Please also refer to the documentation for alternative solver options:\n",
      "    https://scikit-learn.org/stable/modules/linear_model.html#logistic-regression\n",
      "  n_iter_i = _check_optimize_result(\n"
     ]
    }
   ],
   "source": [
    "%%time\n",
    "pipeline = Pipeline([\n",
    "           ('vect', TfidfVectorizer(stop_words=stopwords.words('english'))),\n",
    "           ('clf', LogisticRegression(class_weight='balanced')),\n",
    "])\n",
    "parameters = [{\n",
    "    \n",
    "    'vect__ngram_range': ((1, 1), (1, 2), (1,3),),\n",
    "    \n",
    "}]\n",
    "\n",
    "grid_search = GridSearchCV(pipeline, parameters, n_jobs=-1, verbose=10, cv=3, scoring=\"f1\")\n",
    "grid_search.fit(features_train, target_train)\n",
    "best_score = grid_search.best_score_\n",
    "\n",
    "print('Оценка F1:', best_score)"
   ]
  },
  {
   "cell_type": "markdown",
   "metadata": {},
   "source": [
    "Fitting 3 folds for each of 3 candidates, totalling 9 fits\n",
    "\n",
    "Оценка F1: 0.7398584988927892"
   ]
  },
  {
   "cell_type": "markdown",
   "metadata": {},
   "source": [
    "### Модель CatBoostClassifier"
   ]
  },
  {
   "cell_type": "code",
   "execution_count": null,
   "metadata": {},
   "outputs": [],
   "source": [
    "pipeline = Pipeline([\n",
    "           ('vect', TfidfVectorizer(stop_words=stopwords.words('english'))),\n",
    "           ('cat', CatBoostClassifier(n_estimators=50)),\n",
    "])\n",
    "parameters = [{\n",
    "    \n",
    "    'vect__ngram_range': ((1, 1), (1, 2), (1,3),),\n",
    "            \n",
    "}]\n",
    "\n",
    "grid_search_cat = GridSearchCV(pipeline, parameters, n_jobs=-1, verbose=10, cv=3, scoring=\"f1\")\n",
    "grid_search_cat.fit(features_train, target_train)\n",
    "best_score = grid_search.best_score_\n",
    "\n",
    "print('Оценка F1:', best_score)"
   ]
  },
  {
   "cell_type": "markdown",
   "metadata": {},
   "source": [
    "Оценка F1: 0.7137507298178837"
   ]
  },
  {
   "cell_type": "markdown",
   "metadata": {},
   "source": [
    "### Подбор порога для модели LogisticRegression"
   ]
  },
  {
   "cell_type": "code",
   "execution_count": 14,
   "metadata": {},
   "outputs": [],
   "source": [
    "def to_labels(pos_probs, threshold):\n",
    " return (pos_probs >= threshold).astype('int')"
   ]
  },
  {
   "cell_type": "code",
   "execution_count": 15,
   "metadata": {},
   "outputs": [
    {
     "name": "stdout",
     "output_type": "stream",
     "text": [
      "Threshold=0.620, F1-Score=0.85766\n",
      "CPU times: user 34.6 s, sys: 207 ms, total: 34.8 s\n",
      "Wall time: 34.8 s\n"
     ]
    }
   ],
   "source": [
    "%%time\n",
    "# predict probabilities\n",
    "yhat = grid_search.best_estimator_.predict_proba(features_train)\n",
    "# keep probabilities for the positive outcome only\n",
    "probs = yhat[:, 1]\n",
    "# define thresholds\n",
    "thresholds = np.arange(0, 1, 0.001)\n",
    "# evaluate each threshold\n",
    "scores = [f1_score(target_train, to_labels(probs, t)) for t in thresholds]\n",
    "# get best threshold\n",
    "ix = np.argmax(scores)\n",
    "print('Threshold=%.3f, F1-Score=%.5f' % (thresholds[ix], scores[ix]))"
   ]
  },
  {
   "cell_type": "markdown",
   "metadata": {},
   "source": [
    "**Вывод:** Обучены несколько моделей с различными гиперпараметрами: LogisticRegression, CatBoostClassifier. Метрика качества выбрана F1. \n",
    "\n",
    "Наилучший результат показала модель LogisticRegression c подбором порога: Threshold=0.620, F1-Score=0.85766."
   ]
  },
  {
   "cell_type": "markdown",
   "metadata": {},
   "source": [
    "## Тестирование лучшей модели"
   ]
  },
  {
   "cell_type": "code",
   "execution_count": 16,
   "metadata": {},
   "outputs": [
    {
     "name": "stdout",
     "output_type": "stream",
     "text": [
      "На тестовой выборке: Threshold=0.675, F1-Score=0.78215\n",
      "CPU times: user 11.7 s, sys: 85.1 ms, total: 11.8 s\n",
      "Wall time: 11.8 s\n"
     ]
    }
   ],
   "source": [
    "%%time\n",
    "# predict probabilities\n",
    "yhat = grid_search.best_estimator_.predict_proba(features_test)\n",
    "# keep probabilities for the positive outcome only\n",
    "probs = yhat[:, 1]\n",
    "# define thresholds\n",
    "thresholds = np.arange(0, 1, 0.001)\n",
    "# evaluate each threshold\n",
    "scores = [f1_score(target_test, to_labels(probs, t)) for t in thresholds]\n",
    "# get best threshold\n",
    "ix = np.argmax(scores)\n",
    "print('На тестовой выборке:', 'Threshold=%.3f, F1-Score=%.5f' % (thresholds[ix], scores[ix]))"
   ]
  },
  {
   "cell_type": "markdown",
   "metadata": {},
   "source": [
    "**Вывод:** Проведено тестирование модели LogisticRegression на тестовых данных: лучшая метрика F1-Score=0.78215 для порога, равного 0.675."
   ]
  },
  {
   "cell_type": "markdown",
   "metadata": {},
   "source": [
    "## Проверка модели на адекватность"
   ]
  },
  {
   "cell_type": "code",
   "execution_count": 20,
   "metadata": {},
   "outputs": [
    {
     "name": "stdout",
     "output_type": "stream",
     "text": [
      "F1 для фиктивного классификатора: 0.1844858634287929\n"
     ]
    }
   ],
   "source": [
    "vectorizer = TfidfVectorizer(stop_words=stopwords.words('english'), ngram_range=(1,2), max_features=30000)\n",
    "features_train_vectorized = vectorizer.fit_transform(features_train)\n",
    "dummy_clf = DummyClassifier(strategy='constant', constant=1)\n",
    "dummy_clf.fit(features_train_vectorized, target_train)\n",
    "dummy_predictions = dummy_clf.predict(features_train_vectorized)\n",
    "f1 = f1_score(target_train, dummy_predictions)\n",
    "print(\"F1 для фиктивного классификатора:\", f1)"
   ]
  },
  {
   "cell_type": "markdown",
   "metadata": {},
   "source": [
    "## Выводы"
   ]
  },
  {
   "cell_type": "markdown",
   "metadata": {},
   "source": [
    "Проведено исследование набора данных с разметкой о токсичности правок для интернет-магазин «Викишоп». Разработана модель для классификации комментариев на позитивные и негативные с целью выявлять токсичные комментарии и отправлять их на модерацию.\n",
    "\n",
    "Данные для обучения моделей обработаны:\n",
    "- проведена лемматизация текста и работа с регулярными выражениями;\n",
    "- выполнена оценка важности слов величиной TF-IDF. \n",
    "\n",
    "Обучены несколько моделей с различными гиперпараметрами: LogisticRegression, CatBoostClassifier. \n",
    "Метрика качества выбрана F1. \n",
    "\n",
    "Наилучший результат показала модель LogisticRegression c подбором порога: Threshold=0.620, F1-Score=0.85766.\n",
    "На тестовых данных модель показала следующие результаты: лучшая метрика F1-Score=0.78215 для порога, равного 0.675."
   ]
  },
  {
   "cell_type": "markdown",
   "metadata": {},
   "source": [
    "## Чек-лист проверки"
   ]
  },
  {
   "cell_type": "markdown",
   "metadata": {},
   "source": [
    "- [x]  Jupyter Notebook открыт\n",
    "- [x]  Весь код выполняется без ошибок\n",
    "- [x]  Ячейки с кодом расположены в порядке исполнения\n",
    "- [x]  Данные загружены и подготовлены\n",
    "- [x]  Модели обучены\n",
    "- [x]  Значение метрики *F1* не меньше 0.75\n",
    "- [x]  Выводы написаны"
   ]
  }
 ],
 "metadata": {
  "ExecuteTimeLog": [
   {
    "duration": 2801,
    "start_time": "2023-05-30T12:32:42.151Z"
   },
   {
    "duration": 389,
    "start_time": "2023-05-30T12:33:14.223Z"
   },
   {
    "duration": 4494,
    "start_time": "2023-05-30T12:33:42.756Z"
   },
   {
    "duration": 16,
    "start_time": "2023-05-30T12:33:57.122Z"
   },
   {
    "duration": 758,
    "start_time": "2023-05-30T12:40:03.486Z"
   },
   {
    "duration": 34,
    "start_time": "2023-05-30T12:40:49.524Z"
   },
   {
    "duration": 198,
    "start_time": "2023-05-30T12:47:54.265Z"
   },
   {
    "duration": 308,
    "start_time": "2023-05-30T12:48:01.476Z"
   },
   {
    "duration": 347,
    "start_time": "2023-05-30T12:48:21.424Z"
   },
   {
    "duration": 1461,
    "start_time": "2023-05-30T12:48:44.929Z"
   },
   {
    "duration": 9,
    "start_time": "2023-05-30T12:49:17.225Z"
   },
   {
    "duration": 1826,
    "start_time": "2023-05-30T12:50:01.333Z"
   },
   {
    "duration": 2016,
    "start_time": "2023-05-30T12:51:13.135Z"
   },
   {
    "duration": 3308,
    "start_time": "2023-05-30T12:53:05.875Z"
   },
   {
    "duration": 5896661,
    "start_time": "2023-05-30T12:54:10.925Z"
   },
   {
    "duration": 0,
    "start_time": "2023-05-30T14:32:27.588Z"
   },
   {
    "duration": 15,
    "start_time": "2023-05-30T14:33:12.143Z"
   },
   {
    "duration": 349703,
    "start_time": "2023-05-30T14:33:28.963Z"
   },
   {
    "duration": 393096,
    "start_time": "2023-05-30T14:41:01.278Z"
   },
   {
    "duration": 13,
    "start_time": "2023-05-30T14:47:39.366Z"
   },
   {
    "duration": 32,
    "start_time": "2023-05-30T14:47:46.461Z"
   },
   {
    "duration": 388,
    "start_time": "2023-05-30T14:47:48.761Z"
   },
   {
    "duration": 63,
    "start_time": "2023-05-30T14:47:53.455Z"
   },
   {
    "duration": 15,
    "start_time": "2023-05-30T14:47:56.266Z"
   },
   {
    "duration": 41,
    "start_time": "2023-05-30T14:48:33.619Z"
   },
   {
    "duration": 8,
    "start_time": "2023-05-30T14:48:59.130Z"
   },
   {
    "duration": 78,
    "start_time": "2023-05-30T14:49:03.393Z"
   },
   {
    "duration": 6,
    "start_time": "2023-05-30T14:49:22.149Z"
   },
   {
    "duration": 53,
    "start_time": "2023-05-30T14:49:27.832Z"
   },
   {
    "duration": 37,
    "start_time": "2023-05-30T14:50:08.236Z"
   },
   {
    "duration": 24,
    "start_time": "2023-05-30T14:50:24.720Z"
   },
   {
    "duration": 36,
    "start_time": "2023-05-30T14:50:41.226Z"
   },
   {
    "duration": 38,
    "start_time": "2023-05-30T14:52:02.773Z"
   },
   {
    "duration": 10,
    "start_time": "2023-05-30T14:56:12.764Z"
   },
   {
    "duration": 33,
    "start_time": "2023-05-30T14:56:59.187Z"
   },
   {
    "duration": 44,
    "start_time": "2023-05-30T14:57:41.893Z"
   },
   {
    "duration": 10,
    "start_time": "2023-05-30T14:58:10.082Z"
   },
   {
    "duration": 10,
    "start_time": "2023-05-30T14:58:20.086Z"
   },
   {
    "duration": 8,
    "start_time": "2023-05-30T14:59:11.437Z"
   },
   {
    "duration": 189,
    "start_time": "2023-05-30T14:59:35.205Z"
   },
   {
    "duration": 227,
    "start_time": "2023-05-30T14:59:56.564Z"
   },
   {
    "duration": 9,
    "start_time": "2023-05-30T15:00:07.030Z"
   },
   {
    "duration": 10,
    "start_time": "2023-05-30T15:06:19.884Z"
   },
   {
    "duration": 33,
    "start_time": "2023-05-30T15:06:25.562Z"
   },
   {
    "duration": 5,
    "start_time": "2023-05-30T15:06:43.930Z"
   },
   {
    "duration": 13,
    "start_time": "2023-05-30T15:06:45.073Z"
   },
   {
    "duration": 20,
    "start_time": "2023-05-30T15:07:03.054Z"
   },
   {
    "duration": 133,
    "start_time": "2023-05-30T15:07:07.212Z"
   },
   {
    "duration": 140,
    "start_time": "2023-05-30T15:08:39.293Z"
   },
   {
    "duration": 1341,
    "start_time": "2023-05-31T10:35:17.387Z"
   },
   {
    "duration": 3485,
    "start_time": "2023-05-31T10:35:19.822Z"
   },
   {
    "duration": 16,
    "start_time": "2023-05-31T10:35:23.309Z"
   },
   {
    "duration": 8,
    "start_time": "2023-05-31T10:35:23.326Z"
   },
   {
    "duration": 907,
    "start_time": "2023-05-31T10:35:23.336Z"
   },
   {
    "duration": 11,
    "start_time": "2023-05-31T10:35:43.981Z"
   },
   {
    "duration": 4,
    "start_time": "2023-05-31T10:36:27.461Z"
   },
   {
    "duration": 288432,
    "start_time": "2023-05-31T10:36:28.214Z"
   },
   {
    "duration": 11,
    "start_time": "2023-05-31T10:42:01.578Z"
   },
   {
    "duration": 9,
    "start_time": "2023-05-31T10:42:12.212Z"
   },
   {
    "duration": 285,
    "start_time": "2023-05-31T10:42:13.569Z"
   },
   {
    "duration": 31,
    "start_time": "2023-05-31T10:42:20.337Z"
   },
   {
    "duration": 3,
    "start_time": "2023-05-31T10:42:30.510Z"
   },
   {
    "duration": 83,
    "start_time": "2023-05-31T10:42:49.042Z"
   },
   {
    "duration": 178,
    "start_time": "2023-05-31T10:43:02.002Z"
   },
   {
    "duration": 189,
    "start_time": "2023-05-31T10:43:49.743Z"
   },
   {
    "duration": 13,
    "start_time": "2023-05-31T10:44:07.790Z"
   },
   {
    "duration": 97,
    "start_time": "2023-05-31T10:44:30.869Z"
   },
   {
    "duration": 198,
    "start_time": "2023-05-31T10:45:49.902Z"
   },
   {
    "duration": 158,
    "start_time": "2023-05-31T10:46:30.741Z"
   },
   {
    "duration": 96,
    "start_time": "2023-05-31T10:48:03.869Z"
   },
   {
    "duration": 83,
    "start_time": "2023-05-31T10:52:00.363Z"
   },
   {
    "duration": 81,
    "start_time": "2023-05-31T10:52:24.867Z"
   },
   {
    "duration": 1361,
    "start_time": "2023-06-01T05:15:42.299Z"
   },
   {
    "duration": 2317,
    "start_time": "2023-06-01T05:15:44.433Z"
   },
   {
    "duration": 13,
    "start_time": "2023-06-01T05:15:46.913Z"
   },
   {
    "duration": 7,
    "start_time": "2023-06-01T05:15:54.706Z"
   },
   {
    "duration": 12,
    "start_time": "2023-06-01T05:16:03.810Z"
   },
   {
    "duration": 458080,
    "start_time": "2023-06-01T05:16:06.620Z"
   },
   {
    "duration": 310,
    "start_time": "2023-06-01T05:25:12.428Z"
   },
   {
    "duration": 5,
    "start_time": "2023-06-01T05:25:31.347Z"
   },
   {
    "duration": 138,
    "start_time": "2023-06-01T05:26:35.092Z"
   },
   {
    "duration": 14,
    "start_time": "2023-06-01T05:27:07.035Z"
   },
   {
    "duration": 3,
    "start_time": "2023-06-01T05:27:11.235Z"
   },
   {
    "duration": 8,
    "start_time": "2023-06-01T05:27:12.036Z"
   },
   {
    "duration": 9648,
    "start_time": "2023-06-01T05:27:15.107Z"
   },
   {
    "duration": 5837,
    "start_time": "2023-06-01T05:27:28.819Z"
   },
   {
    "duration": 16,
    "start_time": "2023-06-01T05:27:41.853Z"
   },
   {
    "duration": 5,
    "start_time": "2023-06-01T05:28:06.160Z"
   },
   {
    "duration": 98,
    "start_time": "2023-06-01T05:28:27.261Z"
   },
   {
    "duration": 5,
    "start_time": "2023-06-01T05:28:37.509Z"
   },
   {
    "duration": 5,
    "start_time": "2023-06-01T05:28:48.611Z"
   },
   {
    "duration": 3,
    "start_time": "2023-06-01T05:29:03.368Z"
   },
   {
    "duration": 6,
    "start_time": "2023-06-01T05:29:04.470Z"
   },
   {
    "duration": 8259,
    "start_time": "2023-06-01T05:29:05.390Z"
   },
   {
    "duration": 15,
    "start_time": "2023-06-01T05:29:42.660Z"
   },
   {
    "duration": 11,
    "start_time": "2023-06-01T05:29:48.091Z"
   },
   {
    "duration": 3,
    "start_time": "2023-06-01T05:30:15.724Z"
   },
   {
    "duration": 24,
    "start_time": "2023-06-01T05:30:19.453Z"
   },
   {
    "duration": 35,
    "start_time": "2023-06-01T05:30:42.492Z"
   },
   {
    "duration": 5,
    "start_time": "2023-06-01T05:30:43.296Z"
   },
   {
    "duration": 18,
    "start_time": "2023-06-01T05:30:45.460Z"
   },
   {
    "duration": 210,
    "start_time": "2023-06-01T05:32:24.760Z"
   },
   {
    "duration": 2,
    "start_time": "2023-06-01T05:32:37.269Z"
   },
   {
    "duration": 7,
    "start_time": "2023-06-01T05:32:38.364Z"
   },
   {
    "duration": 14156,
    "start_time": "2023-06-01T05:32:39.897Z"
   },
   {
    "duration": 14007,
    "start_time": "2023-06-01T05:33:50.247Z"
   },
   {
    "duration": 1713,
    "start_time": "2023-06-01T05:36:37.533Z"
   },
   {
    "duration": 964,
    "start_time": "2023-06-01T05:36:57.293Z"
   },
   {
    "duration": 5,
    "start_time": "2023-06-01T05:39:29.927Z"
   },
   {
    "duration": 929,
    "start_time": "2023-06-01T05:39:31.025Z"
   },
   {
    "duration": 11,
    "start_time": "2023-06-01T05:39:32.480Z"
   },
   {
    "duration": 9,
    "start_time": "2023-06-01T05:39:33.142Z"
   },
   {
    "duration": 15,
    "start_time": "2023-06-01T05:39:34.010Z"
   },
   {
    "duration": 809,
    "start_time": "2023-06-01T05:39:36.007Z"
   },
   {
    "duration": 24,
    "start_time": "2023-06-01T05:44:42.058Z"
   },
   {
    "duration": 780,
    "start_time": "2023-06-01T05:44:44.760Z"
   },
   {
    "duration": 485802,
    "start_time": "2023-06-01T05:45:34.842Z"
   },
   {
    "duration": 13,
    "start_time": "2023-06-01T05:53:47.668Z"
   },
   {
    "duration": 1695,
    "start_time": "2023-06-01T05:53:51.400Z"
   },
   {
    "duration": 22,
    "start_time": "2023-06-01T05:54:06.767Z"
   },
   {
    "duration": 132,
    "start_time": "2023-06-01T05:54:18.374Z"
   },
   {
    "duration": 5,
    "start_time": "2023-06-01T05:54:22.223Z"
   },
   {
    "duration": 7,
    "start_time": "2023-06-01T05:54:32.145Z"
   },
   {
    "duration": 5,
    "start_time": "2023-06-01T05:54:34.393Z"
   },
   {
    "duration": 1482,
    "start_time": "2023-06-01T05:54:36.272Z"
   },
   {
    "duration": 5,
    "start_time": "2023-06-01T05:55:19.487Z"
   },
   {
    "duration": 5,
    "start_time": "2023-06-01T05:55:43.736Z"
   },
   {
    "duration": 3,
    "start_time": "2023-06-01T05:56:04.279Z"
   },
   {
    "duration": 7,
    "start_time": "2023-06-01T05:56:26.675Z"
   },
   {
    "duration": 4,
    "start_time": "2023-06-01T05:57:05.510Z"
   },
   {
    "duration": 4,
    "start_time": "2023-06-01T05:57:31.411Z"
   },
   {
    "duration": 18,
    "start_time": "2023-06-01T05:58:12.667Z"
   },
   {
    "duration": 14,
    "start_time": "2023-06-01T05:58:21.762Z"
   },
   {
    "duration": 14,
    "start_time": "2023-06-01T05:58:55.530Z"
   },
   {
    "duration": 17,
    "start_time": "2023-06-01T05:59:15.585Z"
   },
   {
    "duration": 13,
    "start_time": "2023-06-01T05:59:26.122Z"
   },
   {
    "duration": 4,
    "start_time": "2023-06-01T06:00:34.875Z"
   },
   {
    "duration": 1653,
    "start_time": "2023-06-01T06:00:41.729Z"
   },
   {
    "duration": 3,
    "start_time": "2023-06-01T06:03:24.129Z"
   },
   {
    "duration": 6,
    "start_time": "2023-06-01T06:03:25.410Z"
   },
   {
    "duration": 23,
    "start_time": "2023-06-01T06:03:26.161Z"
   },
   {
    "duration": 1493,
    "start_time": "2023-06-01T06:05:16.260Z"
   },
   {
    "duration": 44,
    "start_time": "2023-06-01T06:08:19.987Z"
   },
   {
    "duration": 153,
    "start_time": "2023-06-01T06:09:40.171Z"
   },
   {
    "duration": 351,
    "start_time": "2023-06-01T06:09:46.271Z"
   },
   {
    "duration": 199,
    "start_time": "2023-06-01T06:10:02.028Z"
   },
   {
    "duration": 10,
    "start_time": "2023-06-01T06:10:34.724Z"
   },
   {
    "duration": 55,
    "start_time": "2023-06-01T06:11:01.143Z"
   },
   {
    "duration": 7,
    "start_time": "2023-06-01T06:11:24.285Z"
   },
   {
    "duration": 4,
    "start_time": "2023-06-01T06:11:32.635Z"
   },
   {
    "duration": 25,
    "start_time": "2023-06-01T06:11:51.444Z"
   },
   {
    "duration": 17,
    "start_time": "2023-06-01T06:12:07.747Z"
   },
   {
    "duration": 21,
    "start_time": "2023-06-01T06:13:02.139Z"
   },
   {
    "duration": 3,
    "start_time": "2023-06-01T06:13:07.425Z"
   },
   {
    "duration": 24,
    "start_time": "2023-06-01T06:13:13.171Z"
   },
   {
    "duration": 12,
    "start_time": "2023-06-01T06:13:53.128Z"
   },
   {
    "duration": 4,
    "start_time": "2023-06-01T06:22:03.806Z"
   },
   {
    "duration": 25,
    "start_time": "2023-06-01T06:22:13.078Z"
   },
   {
    "duration": 20,
    "start_time": "2023-06-01T06:22:37.466Z"
   },
   {
    "duration": 5,
    "start_time": "2023-06-01T06:24:21.447Z"
   },
   {
    "duration": 16,
    "start_time": "2023-06-01T06:24:22.243Z"
   },
   {
    "duration": 1203,
    "start_time": "2023-06-01T06:24:27.179Z"
   },
   {
    "duration": 806,
    "start_time": "2023-06-01T06:24:40.806Z"
   },
   {
    "duration": 5,
    "start_time": "2023-06-01T06:24:44.607Z"
   },
   {
    "duration": 7,
    "start_time": "2023-06-01T06:24:49.245Z"
   },
   {
    "duration": 6,
    "start_time": "2023-06-01T06:24:50.031Z"
   },
   {
    "duration": 3048,
    "start_time": "2023-06-01T06:24:50.817Z"
   },
   {
    "duration": 5,
    "start_time": "2023-06-01T06:25:08.431Z"
   },
   {
    "duration": 2653,
    "start_time": "2023-06-01T06:26:36.933Z"
   },
   {
    "duration": 3616,
    "start_time": "2023-06-01T06:27:22.137Z"
   },
   {
    "duration": 5,
    "start_time": "2023-06-01T06:27:27.815Z"
   },
   {
    "duration": 615,
    "start_time": "2023-06-01T06:28:46.779Z"
   },
   {
    "duration": 4,
    "start_time": "2023-06-01T06:28:47.606Z"
   },
   {
    "duration": 3,
    "start_time": "2023-06-01T06:28:50.630Z"
   },
   {
    "duration": 6,
    "start_time": "2023-06-01T06:28:51.478Z"
   },
   {
    "duration": 2042,
    "start_time": "2023-06-01T06:28:52.112Z"
   },
   {
    "duration": 6,
    "start_time": "2023-06-01T06:28:55.782Z"
   },
   {
    "duration": 22,
    "start_time": "2023-06-01T06:36:23.591Z"
   },
   {
    "duration": 14,
    "start_time": "2023-06-01T06:45:24.194Z"
   },
   {
    "duration": 1599,
    "start_time": "2023-06-01T06:45:45.009Z"
   },
   {
    "duration": 15,
    "start_time": "2023-06-01T06:46:42.382Z"
   },
   {
    "duration": 54922,
    "start_time": "2023-06-01T06:47:05.204Z"
   },
   {
    "duration": 9,
    "start_time": "2023-06-01T07:04:09.788Z"
   },
   {
    "duration": 89,
    "start_time": "2023-06-01T07:07:55.321Z"
   },
   {
    "duration": 8,
    "start_time": "2023-06-01T07:08:33.945Z"
   },
   {
    "duration": 3066,
    "start_time": "2023-06-01T07:09:42.208Z"
   },
   {
    "duration": 11,
    "start_time": "2023-06-01T07:10:34.313Z"
   },
   {
    "duration": 5,
    "start_time": "2023-06-01T07:11:12.418Z"
   },
   {
    "duration": 3123,
    "start_time": "2023-06-01T07:11:33.144Z"
   },
   {
    "duration": 6,
    "start_time": "2023-06-01T07:11:38.195Z"
   },
   {
    "duration": 655,
    "start_time": "2023-06-01T07:12:21.005Z"
   },
   {
    "duration": 4368,
    "start_time": "2023-06-01T07:12:25.712Z"
   },
   {
    "duration": 4,
    "start_time": "2023-06-01T07:28:45.686Z"
   },
   {
    "duration": 4,
    "start_time": "2023-06-01T07:28:54.638Z"
   },
   {
    "duration": 5,
    "start_time": "2023-06-01T07:29:11.990Z"
   },
   {
    "duration": 745,
    "start_time": "2023-06-01T07:29:22.938Z"
   },
   {
    "duration": 7,
    "start_time": "2023-06-01T07:29:24.118Z"
   },
   {
    "duration": 2384,
    "start_time": "2023-06-01T07:29:30.186Z"
   },
   {
    "duration": 7,
    "start_time": "2023-06-01T07:29:35.142Z"
   },
   {
    "duration": 3740,
    "start_time": "2023-06-01T07:29:55.441Z"
   },
   {
    "duration": 5,
    "start_time": "2023-06-01T07:30:00.701Z"
   },
   {
    "duration": 4,
    "start_time": "2023-06-01T07:38:36.187Z"
   },
   {
    "duration": 924,
    "start_time": "2023-06-01T07:38:37.190Z"
   },
   {
    "duration": 7,
    "start_time": "2023-06-01T07:38:38.119Z"
   },
   {
    "duration": 13,
    "start_time": "2023-06-01T07:38:39.167Z"
   },
   {
    "duration": 1776948,
    "start_time": "2023-06-01T07:38:42.541Z"
   },
   {
    "duration": 36,
    "start_time": "2023-06-01T08:08:38.346Z"
   },
   {
    "duration": 38,
    "start_time": "2023-06-01T08:08:42.267Z"
   },
   {
    "duration": 8,
    "start_time": "2023-06-01T08:10:05.848Z"
   },
   {
    "duration": 14,
    "start_time": "2023-06-01T08:10:23.716Z"
   },
   {
    "duration": 5,
    "start_time": "2023-06-01T08:11:50.121Z"
   },
   {
    "duration": 14,
    "start_time": "2023-06-01T08:11:50.984Z"
   },
   {
    "duration": 5,
    "start_time": "2023-06-01T08:12:09.184Z"
   },
   {
    "duration": 5,
    "start_time": "2023-06-01T08:12:20.704Z"
   },
   {
    "duration": 16,
    "start_time": "2023-06-01T08:12:48.900Z"
   },
   {
    "duration": 15,
    "start_time": "2023-06-01T08:12:52.288Z"
   },
   {
    "duration": 11,
    "start_time": "2023-06-01T08:13:46.263Z"
   },
   {
    "duration": 291,
    "start_time": "2023-06-01T08:14:11.918Z"
   },
   {
    "duration": 10,
    "start_time": "2023-06-01T08:14:19.471Z"
   },
   {
    "duration": 2307,
    "start_time": "2023-06-01T08:14:27.976Z"
   },
   {
    "duration": 4,
    "start_time": "2023-06-01T08:14:30.288Z"
   },
   {
    "duration": 3868,
    "start_time": "2023-06-01T08:14:47.684Z"
   },
   {
    "duration": 4889,
    "start_time": "2023-06-01T08:15:17.507Z"
   },
   {
    "duration": 8,
    "start_time": "2023-06-01T08:15:31.864Z"
   },
   {
    "duration": 9,
    "start_time": "2023-06-01T08:15:41.076Z"
   },
   {
    "duration": 10,
    "start_time": "2023-06-01T08:16:00.978Z"
   },
   {
    "duration": 5,
    "start_time": "2023-06-01T08:18:40.693Z"
   },
   {
    "duration": 9,
    "start_time": "2023-06-01T08:19:02.690Z"
   },
   {
    "duration": 4,
    "start_time": "2023-06-01T08:19:21.695Z"
   },
   {
    "duration": 4077,
    "start_time": "2023-06-01T08:33:41.715Z"
   },
   {
    "duration": 4,
    "start_time": "2023-06-01T08:33:47.785Z"
   },
   {
    "duration": 5160,
    "start_time": "2023-06-01T08:33:58.888Z"
   },
   {
    "duration": 5686,
    "start_time": "2023-06-01T08:34:27.784Z"
   },
   {
    "duration": 7,
    "start_time": "2023-06-01T08:34:33.475Z"
   },
   {
    "duration": 5791,
    "start_time": "2023-06-01T08:34:53.489Z"
   },
   {
    "duration": 13235,
    "start_time": "2023-06-01T08:35:09.939Z"
   },
   {
    "duration": 3,
    "start_time": "2023-06-01T08:35:25.432Z"
   },
   {
    "duration": 5373,
    "start_time": "2023-06-01T08:35:35.204Z"
   },
   {
    "duration": 7,
    "start_time": "2023-06-01T08:37:43.677Z"
   },
   {
    "duration": 5593,
    "start_time": "2023-06-01T08:42:17.507Z"
   },
   {
    "duration": 6,
    "start_time": "2023-06-01T08:44:32.131Z"
   },
   {
    "duration": 7,
    "start_time": "2023-06-01T08:47:04.970Z"
   },
   {
    "duration": 7070,
    "start_time": "2023-06-01T08:52:41.892Z"
   },
   {
    "duration": 15,
    "start_time": "2023-06-01T08:52:53.265Z"
   },
   {
    "duration": 14,
    "start_time": "2023-06-01T08:53:00.861Z"
   },
   {
    "duration": 56141,
    "start_time": "2023-06-01T08:57:25.773Z"
   },
   {
    "duration": 49634,
    "start_time": "2023-06-01T08:59:14.995Z"
   },
   {
    "duration": 21011,
    "start_time": "2023-06-01T09:01:14.045Z"
   },
   {
    "duration": 18247,
    "start_time": "2023-06-01T09:02:24.615Z"
   },
   {
    "duration": 9192,
    "start_time": "2023-06-01T09:02:46.302Z"
   },
   {
    "duration": 19762,
    "start_time": "2023-06-01T09:03:07.292Z"
   },
   {
    "duration": 32885,
    "start_time": "2023-06-01T09:05:02.584Z"
   },
   {
    "duration": 4989,
    "start_time": "2023-06-01T09:06:17.469Z"
   },
   {
    "duration": 6121,
    "start_time": "2023-06-01T09:06:28.735Z"
   },
   {
    "duration": 5958,
    "start_time": "2023-06-01T09:06:35.938Z"
   },
   {
    "duration": 5,
    "start_time": "2023-06-01T09:08:00.033Z"
   },
   {
    "duration": 8,
    "start_time": "2023-06-01T09:13:41.682Z"
   },
   {
    "duration": 32,
    "start_time": "2023-06-01T09:14:43.342Z"
   },
   {
    "duration": 7,
    "start_time": "2023-06-01T09:14:56.294Z"
   },
   {
    "duration": 52,
    "start_time": "2023-06-01T09:17:41.436Z"
   },
   {
    "duration": 22,
    "start_time": "2023-06-01T09:21:06.275Z"
   },
   {
    "duration": 15,
    "start_time": "2023-06-01T09:21:31.343Z"
   },
   {
    "duration": 40,
    "start_time": "2023-06-01T09:23:21.535Z"
   },
   {
    "duration": 11,
    "start_time": "2023-06-01T09:23:22.185Z"
   },
   {
    "duration": 44,
    "start_time": "2023-06-01T09:25:24.893Z"
   },
   {
    "duration": 19,
    "start_time": "2023-06-01T09:25:48.801Z"
   },
   {
    "duration": 107,
    "start_time": "2023-06-01T09:28:16.303Z"
   },
   {
    "duration": 22,
    "start_time": "2023-06-01T09:28:30.659Z"
   },
   {
    "duration": 10,
    "start_time": "2023-06-01T09:28:56.618Z"
   },
   {
    "duration": 77,
    "start_time": "2023-06-01T09:29:52.531Z"
   },
   {
    "duration": 49,
    "start_time": "2023-06-01T09:30:59.421Z"
   },
   {
    "duration": 9,
    "start_time": "2023-06-01T09:33:23.277Z"
   },
   {
    "duration": 19,
    "start_time": "2023-06-01T09:33:37.586Z"
   },
   {
    "duration": 6,
    "start_time": "2023-06-01T09:35:07.439Z"
   },
   {
    "duration": 6,
    "start_time": "2023-06-01T09:35:20.805Z"
   },
   {
    "duration": 10,
    "start_time": "2023-06-01T09:35:33.612Z"
   },
   {
    "duration": 7,
    "start_time": "2023-06-01T09:35:58.525Z"
   },
   {
    "duration": 1853472,
    "start_time": "2023-06-01T09:36:26.311Z"
   },
   {
    "duration": 16,
    "start_time": "2023-06-01T10:08:50.647Z"
   },
   {
    "duration": 6,
    "start_time": "2023-06-01T10:08:55.206Z"
   },
   {
    "duration": 7,
    "start_time": "2023-06-01T10:08:56.243Z"
   },
   {
    "duration": 5,
    "start_time": "2023-06-01T10:08:57.924Z"
   },
   {
    "duration": 11,
    "start_time": "2023-06-01T10:08:58.691Z"
   },
   {
    "duration": 9689,
    "start_time": "2023-06-01T10:09:03.765Z"
   },
   {
    "duration": 4,
    "start_time": "2023-06-01T10:09:14.588Z"
   },
   {
    "duration": 9,
    "start_time": "2023-06-01T10:09:17.027Z"
   },
   {
    "duration": 21503,
    "start_time": "2023-06-01T10:09:34.960Z"
   },
   {
    "duration": 40000,
    "start_time": "2023-06-01T10:09:59.463Z"
   },
   {
    "duration": 19,
    "start_time": "2023-06-01T10:17:02.903Z"
   },
   {
    "duration": 166,
    "start_time": "2023-06-01T10:17:15.358Z"
   },
   {
    "duration": 11,
    "start_time": "2023-06-01T10:19:02.742Z"
   },
   {
    "duration": 66,
    "start_time": "2023-06-01T10:31:17.619Z"
   },
   {
    "duration": 46,
    "start_time": "2023-06-01T10:31:30.429Z"
   },
   {
    "duration": 1523,
    "start_time": "2023-06-01T11:01:52.550Z"
   },
   {
    "duration": 2431,
    "start_time": "2023-06-01T11:01:54.075Z"
   },
   {
    "duration": 15,
    "start_time": "2023-06-01T11:01:56.508Z"
   },
   {
    "duration": 40,
    "start_time": "2023-06-01T11:01:56.526Z"
   },
   {
    "duration": 29,
    "start_time": "2023-06-01T11:01:56.569Z"
   },
   {
    "duration": 40,
    "start_time": "2023-06-01T11:01:56.600Z"
   },
   {
    "duration": 7,
    "start_time": "2023-06-01T11:01:56.645Z"
   },
   {
    "duration": 29,
    "start_time": "2023-06-01T11:01:56.654Z"
   },
   {
    "duration": 5,
    "start_time": "2023-06-01T11:01:56.685Z"
   },
   {
    "duration": 25,
    "start_time": "2023-06-01T11:01:56.692Z"
   },
   {
    "duration": 15,
    "start_time": "2023-06-01T11:01:56.719Z"
   },
   {
    "duration": 747663,
    "start_time": "2023-06-01T11:01:56.735Z"
   },
   {
    "duration": 10,
    "start_time": "2023-06-01T11:14:24.400Z"
   },
   {
    "duration": 10,
    "start_time": "2023-06-01T11:14:24.412Z"
   },
   {
    "duration": 12,
    "start_time": "2023-06-01T11:14:24.424Z"
   },
   {
    "duration": 3913,
    "start_time": "2023-06-01T11:14:24.450Z"
   },
   {
    "duration": 136,
    "start_time": "2023-06-01T11:14:28.365Z"
   },
   {
    "duration": 0,
    "start_time": "2023-06-01T11:14:28.503Z"
   },
   {
    "duration": 0,
    "start_time": "2023-06-01T11:14:28.504Z"
   },
   {
    "duration": 0,
    "start_time": "2023-06-01T11:14:28.507Z"
   },
   {
    "duration": 0,
    "start_time": "2023-06-01T11:14:28.508Z"
   },
   {
    "duration": 4,
    "start_time": "2023-06-01T11:15:51.842Z"
   },
   {
    "duration": 8300,
    "start_time": "2023-06-01T11:15:58.060Z"
   },
   {
    "duration": 29433,
    "start_time": "2023-06-01T11:16:09.641Z"
   },
   {
    "duration": 126,
    "start_time": "2023-06-01T11:16:44.055Z"
   },
   {
    "duration": 8,
    "start_time": "2023-06-01T11:17:06.060Z"
   },
   {
    "duration": 9,
    "start_time": "2023-06-01T11:17:45.457Z"
   },
   {
    "duration": 2024,
    "start_time": "2023-06-01T11:18:01.923Z"
   },
   {
    "duration": 6,
    "start_time": "2023-06-01T11:25:06.802Z"
   },
   {
    "duration": 8,
    "start_time": "2023-06-01T11:26:18.898Z"
   },
   {
    "duration": 2381,
    "start_time": "2023-06-01T11:26:34.693Z"
   },
   {
    "duration": 4,
    "start_time": "2023-06-01T12:44:44.928Z"
   },
   {
    "duration": 2370,
    "start_time": "2023-06-01T12:44:55.927Z"
   },
   {
    "duration": 9,
    "start_time": "2023-06-01T12:45:01.443Z"
   },
   {
    "duration": 32,
    "start_time": "2023-06-01T12:45:06.009Z"
   },
   {
    "duration": 28,
    "start_time": "2023-06-01T12:45:06.815Z"
   },
   {
    "duration": 18,
    "start_time": "2023-06-01T12:45:09.676Z"
   },
   {
    "duration": 11,
    "start_time": "2023-06-01T12:45:38.391Z"
   },
   {
    "duration": 11,
    "start_time": "2023-06-01T12:45:45.015Z"
   },
   {
    "duration": 5,
    "start_time": "2023-06-01T12:53:56.309Z"
   },
   {
    "duration": 5,
    "start_time": "2023-06-01T12:57:29.778Z"
   },
   {
    "duration": 15,
    "start_time": "2023-06-01T12:57:42.598Z"
   },
   {
    "duration": 4,
    "start_time": "2023-06-01T12:58:43.900Z"
   },
   {
    "duration": 59,
    "start_time": "2023-06-01T12:58:50.115Z"
   },
   {
    "duration": 19,
    "start_time": "2023-06-01T13:04:40.392Z"
   },
   {
    "duration": 5883,
    "start_time": "2023-06-01T13:07:58.351Z"
   },
   {
    "duration": 530,
    "start_time": "2023-06-01T13:12:01.391Z"
   },
   {
    "duration": 29,
    "start_time": "2023-06-01T13:13:12.976Z"
   },
   {
    "duration": 58,
    "start_time": "2023-06-01T13:14:41.576Z"
   },
   {
    "duration": 6,
    "start_time": "2023-06-01T13:16:11.455Z"
   },
   {
    "duration": 660,
    "start_time": "2023-06-01T13:23:08.161Z"
   },
   {
    "duration": 159,
    "start_time": "2023-06-01T13:23:28.168Z"
   },
   {
    "duration": 498,
    "start_time": "2023-06-01T13:23:35.473Z"
   },
   {
    "duration": 521,
    "start_time": "2023-06-01T13:24:01.856Z"
   },
   {
    "duration": 5,
    "start_time": "2023-06-01T13:24:25.139Z"
   },
   {
    "duration": 191,
    "start_time": "2023-06-01T13:24:47.810Z"
   },
   {
    "duration": 39,
    "start_time": "2023-06-01T13:25:39.467Z"
   },
   {
    "duration": 73,
    "start_time": "2023-06-01T13:27:01.843Z"
   },
   {
    "duration": 133,
    "start_time": "2023-06-01T13:27:13.639Z"
   },
   {
    "duration": 19,
    "start_time": "2023-06-01T13:49:34.389Z"
   },
   {
    "duration": 51,
    "start_time": "2023-06-01T13:50:59.651Z"
   },
   {
    "duration": 65,
    "start_time": "2023-06-01T13:51:42.410Z"
   },
   {
    "duration": 46,
    "start_time": "2023-06-01T13:57:59.118Z"
   },
   {
    "duration": 42,
    "start_time": "2023-06-01T13:59:28.433Z"
   },
   {
    "duration": 10096,
    "start_time": "2023-06-01T14:00:14.303Z"
   },
   {
    "duration": 1295262,
    "start_time": "2023-06-01T14:02:20.157Z"
   },
   {
    "duration": 26,
    "start_time": "2023-06-01T14:24:18.203Z"
   },
   {
    "duration": 74,
    "start_time": "2023-06-01T14:30:52.921Z"
   },
   {
    "duration": 5,
    "start_time": "2023-06-01T14:31:41.560Z"
   },
   {
    "duration": 27,
    "start_time": "2023-06-01T14:31:54.479Z"
   },
   {
    "duration": 110,
    "start_time": "2023-06-01T14:39:48.074Z"
   },
   {
    "duration": 1216,
    "start_time": "2023-06-01T14:41:24.471Z"
   },
   {
    "duration": 10,
    "start_time": "2023-06-01T14:41:34.325Z"
   },
   {
    "duration": 11,
    "start_time": "2023-06-01T14:45:42.970Z"
   },
   {
    "duration": 364,
    "start_time": "2023-06-01T14:55:07.517Z"
   },
   {
    "duration": 5446,
    "start_time": "2023-06-01T14:55:15.411Z"
   },
   {
    "duration": 5590,
    "start_time": "2023-06-01T14:56:07.191Z"
   },
   {
    "duration": 1368,
    "start_time": "2023-06-01T15:00:37.200Z"
   },
   {
    "duration": 11,
    "start_time": "2023-06-01T15:00:39.473Z"
   },
   {
    "duration": 33,
    "start_time": "2023-06-01T15:00:41.865Z"
   },
   {
    "duration": 29,
    "start_time": "2023-06-01T15:00:42.908Z"
   },
   {
    "duration": 18,
    "start_time": "2023-06-01T15:00:43.516Z"
   },
   {
    "duration": 7,
    "start_time": "2023-06-01T15:01:14.595Z"
   },
   {
    "duration": 17,
    "start_time": "2023-06-01T15:03:19.975Z"
   },
   {
    "duration": 20,
    "start_time": "2023-06-01T15:03:34.971Z"
   },
   {
    "duration": 12,
    "start_time": "2023-06-01T15:03:39.710Z"
   },
   {
    "duration": 271,
    "start_time": "2023-06-01T15:04:11.071Z"
   },
   {
    "duration": 68,
    "start_time": "2023-06-01T15:05:11.284Z"
   },
   {
    "duration": 533982,
    "start_time": "2023-06-01T15:05:30.999Z"
   },
   {
    "duration": 52,
    "start_time": "2023-06-01T15:16:16.496Z"
   },
   {
    "duration": 23,
    "start_time": "2023-06-01T15:16:39.455Z"
   },
   {
    "duration": 77,
    "start_time": "2023-06-01T15:17:20.657Z"
   },
   {
    "duration": 104,
    "start_time": "2023-06-01T15:17:50.824Z"
   },
   {
    "duration": 63,
    "start_time": "2023-06-01T15:19:53.506Z"
   },
   {
    "duration": 10,
    "start_time": "2023-06-01T15:45:06.003Z"
   },
   {
    "duration": 74,
    "start_time": "2023-06-01T15:45:57.402Z"
   },
   {
    "duration": 68,
    "start_time": "2023-06-01T15:46:17.569Z"
   },
   {
    "duration": 64,
    "start_time": "2023-06-01T15:47:23.277Z"
   },
   {
    "duration": 1488,
    "start_time": "2023-06-02T03:04:33.985Z"
   },
   {
    "duration": 2633,
    "start_time": "2023-06-02T03:04:41.091Z"
   },
   {
    "duration": 29,
    "start_time": "2023-06-02T03:04:48.935Z"
   },
   {
    "duration": 39,
    "start_time": "2023-06-02T03:04:53.169Z"
   },
   {
    "duration": 32,
    "start_time": "2023-06-02T03:04:54.241Z"
   },
   {
    "duration": 27,
    "start_time": "2023-06-02T03:04:56.678Z"
   },
   {
    "duration": 117,
    "start_time": "2023-06-02T03:07:26.668Z"
   },
   {
    "duration": 32,
    "start_time": "2023-06-02T03:07:35.064Z"
   },
   {
    "duration": 25,
    "start_time": "2023-06-02T03:09:44.177Z"
   },
   {
    "duration": 21,
    "start_time": "2023-06-02T03:11:00.953Z"
   },
   {
    "duration": 25,
    "start_time": "2023-06-02T03:11:03.785Z"
   },
   {
    "duration": 496,
    "start_time": "2023-06-02T03:12:39.953Z"
   },
   {
    "duration": 1265637,
    "start_time": "2023-06-02T03:16:06.545Z"
   },
   {
    "duration": 35943,
    "start_time": "2023-06-02T03:45:02.616Z"
   },
   {
    "duration": 506085,
    "start_time": "2023-06-02T03:45:45.088Z"
   },
   {
    "duration": 533,
    "start_time": "2023-06-02T03:55:10.920Z"
   },
   {
    "duration": 517,
    "start_time": "2023-06-02T03:55:21.110Z"
   },
   {
    "duration": 518638,
    "start_time": "2023-06-02T03:56:19.617Z"
   },
   {
    "duration": 1304382,
    "start_time": "2023-06-02T04:06:21.119Z"
   },
   {
    "duration": 7,
    "start_time": "2023-06-02T04:28:46.404Z"
   },
   {
    "duration": 8,
    "start_time": "2023-06-02T04:29:14.072Z"
   },
   {
    "duration": 7955,
    "start_time": "2023-06-02T04:31:09.427Z"
   },
   {
    "duration": 4562,
    "start_time": "2023-06-02T04:32:21.585Z"
   },
   {
    "duration": 9,
    "start_time": "2023-06-02T04:32:35.598Z"
   },
   {
    "duration": 8,
    "start_time": "2023-06-02T04:32:46.215Z"
   },
   {
    "duration": 38,
    "start_time": "2023-06-02T04:33:30.224Z"
   },
   {
    "duration": 23,
    "start_time": "2023-06-02T05:00:48.367Z"
   },
   {
    "duration": 79,
    "start_time": "2023-06-02T05:00:50.244Z"
   },
   {
    "duration": 4,
    "start_time": "2023-06-02T05:01:21.409Z"
   },
   {
    "duration": 5,
    "start_time": "2023-06-02T05:01:32.764Z"
   },
   {
    "duration": 78,
    "start_time": "2023-06-02T05:04:50.677Z"
   },
   {
    "duration": 12,
    "start_time": "2023-06-02T05:05:04.461Z"
   },
   {
    "duration": 50,
    "start_time": "2023-06-02T05:09:33.755Z"
   },
   {
    "duration": 41,
    "start_time": "2023-06-02T05:12:44.575Z"
   },
   {
    "duration": 45,
    "start_time": "2023-06-02T05:13:06.141Z"
   },
   {
    "duration": 55,
    "start_time": "2023-06-02T05:16:26.772Z"
   },
   {
    "duration": 99,
    "start_time": "2023-06-02T05:17:16.021Z"
   },
   {
    "duration": 38,
    "start_time": "2023-06-02T05:17:22.890Z"
   },
   {
    "duration": 108,
    "start_time": "2023-06-02T05:20:40.163Z"
   },
   {
    "duration": 102,
    "start_time": "2023-06-02T05:21:03.088Z"
   },
   {
    "duration": 104,
    "start_time": "2023-06-02T05:21:18.177Z"
   },
   {
    "duration": 99,
    "start_time": "2023-06-02T05:21:58.690Z"
   },
   {
    "duration": 115,
    "start_time": "2023-06-02T05:22:27.383Z"
   },
   {
    "duration": 88,
    "start_time": "2023-06-02T05:22:47.645Z"
   },
   {
    "duration": 103,
    "start_time": "2023-06-02T05:23:15.153Z"
   },
   {
    "duration": 149,
    "start_time": "2023-06-02T05:23:28.862Z"
   },
   {
    "duration": 46,
    "start_time": "2023-06-02T05:24:06.379Z"
   },
   {
    "duration": 52,
    "start_time": "2023-06-02T05:24:26.293Z"
   },
   {
    "duration": 3887,
    "start_time": "2023-06-02T05:25:23.463Z"
   },
   {
    "duration": 5,
    "start_time": "2023-06-02T05:26:15.223Z"
   },
   {
    "duration": 4,
    "start_time": "2023-06-02T05:27:55.703Z"
   },
   {
    "duration": 3237,
    "start_time": "2023-06-02T05:28:56.359Z"
   },
   {
    "duration": 3,
    "start_time": "2023-06-02T05:29:36.465Z"
   },
   {
    "duration": 10,
    "start_time": "2023-06-02T05:29:58.510Z"
   },
   {
    "duration": 11,
    "start_time": "2023-06-02T05:30:26.960Z"
   },
   {
    "duration": 73,
    "start_time": "2023-06-02T05:30:29.417Z"
   },
   {
    "duration": 5,
    "start_time": "2023-06-02T05:30:29.959Z"
   },
   {
    "duration": 6,
    "start_time": "2023-06-02T05:30:30.865Z"
   },
   {
    "duration": 170441,
    "start_time": "2023-06-02T05:30:37.455Z"
   },
   {
    "duration": 778386,
    "start_time": "2023-06-02T05:33:56.579Z"
   },
   {
    "duration": 1097,
    "start_time": "2023-06-02T05:51:20.452Z"
   },
   {
    "duration": 500,
    "start_time": "2023-06-02T05:53:32.485Z"
   },
   {
    "duration": 139,
    "start_time": "2023-06-02T05:54:30.784Z"
   },
   {
    "duration": 45,
    "start_time": "2023-06-02T05:54:56.722Z"
   },
   {
    "duration": 80,
    "start_time": "2023-06-02T05:55:54.301Z"
   },
   {
    "duration": 84,
    "start_time": "2023-06-02T05:56:05.746Z"
   },
   {
    "duration": 75,
    "start_time": "2023-06-02T05:56:56.300Z"
   },
   {
    "duration": 46,
    "start_time": "2023-06-02T05:57:33.560Z"
   },
   {
    "duration": 1689,
    "start_time": "2023-06-02T10:29:47.114Z"
   },
   {
    "duration": 3437,
    "start_time": "2023-06-02T10:29:57.757Z"
   },
   {
    "duration": 17,
    "start_time": "2023-06-02T10:30:06.685Z"
   },
   {
    "duration": 31,
    "start_time": "2023-06-02T10:30:10.352Z"
   },
   {
    "duration": 25,
    "start_time": "2023-06-02T10:30:11.195Z"
   },
   {
    "duration": 20,
    "start_time": "2023-06-02T10:30:13.386Z"
   },
   {
    "duration": 1316592,
    "start_time": "2023-06-02T10:30:37.708Z"
   },
   {
    "duration": 4354,
    "start_time": "2023-06-02T10:56:40.919Z"
   },
   {
    "duration": 33,
    "start_time": "2023-06-02T10:56:55.185Z"
   },
   {
    "duration": 3,
    "start_time": "2023-06-02T10:57:08.050Z"
   },
   {
    "duration": 60,
    "start_time": "2023-06-02T10:57:11.362Z"
   },
   {
    "duration": 914272,
    "start_time": "2023-06-02T10:58:50.586Z"
   },
   {
    "duration": 118,
    "start_time": "2023-06-02T11:15:41.970Z"
   },
   {
    "duration": 9,
    "start_time": "2023-06-02T11:15:45.464Z"
   },
   {
    "duration": 11,
    "start_time": "2023-06-02T11:18:30.971Z"
   },
   {
    "duration": 4691,
    "start_time": "2023-06-02T11:18:49.286Z"
   },
   {
    "duration": 3,
    "start_time": "2023-06-02T11:19:07.618Z"
   },
   {
    "duration": 35407,
    "start_time": "2023-06-02T11:19:08.507Z"
   },
   {
    "duration": 11940,
    "start_time": "2023-06-02T11:21:06.646Z"
   },
   {
    "duration": 430228,
    "start_time": "2023-06-02T11:21:55.567Z"
   },
   {
    "duration": 1697,
    "start_time": "2023-06-02T12:23:47.018Z"
   },
   {
    "duration": 3405,
    "start_time": "2023-06-02T12:23:48.717Z"
   },
   {
    "duration": 20,
    "start_time": "2023-06-02T12:23:52.124Z"
   },
   {
    "duration": 33,
    "start_time": "2023-06-02T12:23:52.146Z"
   },
   {
    "duration": 25,
    "start_time": "2023-06-02T12:23:52.182Z"
   },
   {
    "duration": 30,
    "start_time": "2023-06-02T12:23:52.209Z"
   },
   {
    "duration": 1273460,
    "start_time": "2023-06-02T12:23:52.251Z"
   },
   {
    "duration": 4181,
    "start_time": "2023-06-02T12:45:05.713Z"
   },
   {
    "duration": 33,
    "start_time": "2023-06-02T12:45:09.896Z"
   },
   {
    "duration": 2,
    "start_time": "2023-06-02T12:45:09.931Z"
   },
   {
    "duration": 61,
    "start_time": "2023-06-02T12:45:09.950Z"
   },
   {
    "duration": 3,
    "start_time": "2023-06-02T12:45:10.013Z"
   },
   {
    "duration": 892432,
    "start_time": "2023-06-02T12:45:10.018Z"
   },
   {
    "duration": 4,
    "start_time": "2023-06-02T13:00:02.453Z"
   },
   {
    "duration": 34919,
    "start_time": "2023-06-02T13:00:02.459Z"
   },
   {
    "duration": 11782,
    "start_time": "2023-06-02T13:00:37.380Z"
   },
   {
    "duration": 157,
    "start_time": "2023-06-02T13:00:49.165Z"
   },
   {
    "duration": 35,
    "start_time": "2023-06-02T13:01:04.892Z"
   },
   {
    "duration": 22850,
    "start_time": "2023-06-02T13:02:50.778Z"
   },
   {
    "duration": 19962,
    "start_time": "2023-06-02T13:03:34.384Z"
   }
  ],
  "kernelspec": {
   "display_name": "Python 3 (ipykernel)",
   "language": "python",
   "name": "python3"
  },
  "language_info": {
   "codemirror_mode": {
    "name": "ipython",
    "version": 3
   },
   "file_extension": ".py",
   "mimetype": "text/x-python",
   "name": "python",
   "nbconvert_exporter": "python",
   "pygments_lexer": "ipython3",
   "version": "3.9.15"
  },
  "toc": {
   "base_numbering": 1,
   "nav_menu": {},
   "number_sections": true,
   "sideBar": true,
   "skip_h1_title": true,
   "title_cell": "Содержание",
   "title_sidebar": "Contents",
   "toc_cell": true,
   "toc_position": {
    "height": "calc(100% - 180px)",
    "left": "10px",
    "top": "150px",
    "width": "302.391px"
   },
   "toc_section_display": true,
   "toc_window_display": false
  }
 },
 "nbformat": 4,
 "nbformat_minor": 2
}
