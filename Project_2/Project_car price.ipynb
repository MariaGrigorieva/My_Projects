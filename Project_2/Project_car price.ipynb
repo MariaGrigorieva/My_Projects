{
 "cells": [
  {
   "cell_type": "markdown",
   "metadata": {},
   "source": [
    "# Определение стоимости автомобилей"
   ]
  },
  {
   "cell_type": "markdown",
   "metadata": {},
   "source": [
    "Сервис по продаже автомобилей с пробегом «Не бит, не крашен» разрабатывает приложение для привлечения новых клиентов. В нём можно быстро узнать рыночную стоимость своего автомобиля. В вашем распоряжении исторические данные: технические характеристики, комплектации и цены автомобилей. Вам нужно построить модель для определения стоимости. \n",
    "\n",
    "Заказчику важны:\n",
    "\n",
    "- качество предсказания;\n",
    "- скорость предсказания;\n",
    "- время обучения.\n",
    "\n",
    "*Описание данных*\n",
    " \n",
    "Признаки:\n",
    "DateCrawled — дата скачивания анкеты из базы\n",
    "VehicleType — тип автомобильного кузова\n",
    "RegistrationYear — год регистрации автомобиля\n",
    "Gearbox — тип коробки передач\n",
    "Power — мощность (л. с.)\n",
    "Model — модель автомобиля\n",
    "Kilometer — пробег (км)\n",
    "RegistrationMonth — месяц регистрации автомобиля\n",
    "FuelType — тип топлива\n",
    "Brand — марка автомобиля\n",
    "Repaired — была машина в ремонте или нет\n",
    "DateCreated — дата создания анкеты\n",
    "NumberOfPictures — количество фотографий автомобиля\n",
    "PostalCode — почтовый индекс владельца анкеты (пользователя)\n",
    "LastSeen — дата последней активности пользователя\n",
    "\n",
    "\n",
    "Целевой признак:\n",
    "Price — цена (евро)"
   ]
  },
  {
   "cell_type": "markdown",
   "metadata": {},
   "source": [
    "## Подготовка данных"
   ]
  },
  {
   "cell_type": "markdown",
   "metadata": {},
   "source": [
    "### Загрузка библиотек"
   ]
  },
  {
   "cell_type": "code",
   "execution_count": 1,
   "metadata": {},
   "outputs": [],
   "source": [
    "import pandas as pd\n",
    "import numpy as np\n",
    "import seaborn as sns\n",
    "import matplotlib.pyplot as plt\n",
    "from sklearn.model_selection import train_test_split\n",
    "from sklearn.preprocessing import StandardScaler\n",
    "from sklearn.preprocessing import OrdinalEncoder\n",
    "from sklearn.tree import DecisionTreeRegressor\n",
    "from sklearn.ensemble import RandomForestRegressor\n",
    "from sklearn.linear_model import LogisticRegression\n",
    "from catboost import CatBoostRegressor\n",
    "from lightgbm import LGBMRegressor\n",
    "from sklearn.metrics import mean_squared_error\n",
    "from sklearn.dummy import DummyRegressor"
   ]
  },
  {
   "cell_type": "markdown",
   "metadata": {},
   "source": [
    "### Загрузка и изучение данных"
   ]
  },
  {
   "cell_type": "code",
   "execution_count": 2,
   "metadata": {},
   "outputs": [],
   "source": [
    "data = pd.read_csv('/datasets/autos.csv')"
   ]
  },
  {
   "cell_type": "code",
   "execution_count": 3,
   "metadata": {},
   "outputs": [],
   "source": [
    "def data_info(df):\n",
    "    print(\"Первые 5 строк датафрейма\")\n",
    "    display(df.head())\n",
    "    print()\n",
    "    print(\"Информация о датафрейме\")\n",
    "    print(df.info())\n",
    "    print()\n",
    "    print(\"Тип данных в каждом столбце датафрейма\")\n",
    "    print(df.dtypes)\n",
    "    print()\n",
    "    print(\"Количество пропусков в каждом столбце датафрейма\")\n",
    "    print(df.isna().sum())\n",
    "    print(\"Доля пропусков в каждом столбце датафрейма\")\n",
    "    print(df.isna().mean()*100)\n",
    "    print()\n",
    "    print(\"Количество явных дубликатов\")\n",
    "    print(df.duplicated().sum())"
   ]
  },
  {
   "cell_type": "code",
   "execution_count": 4,
   "metadata": {
    "scrolled": false
   },
   "outputs": [
    {
     "name": "stdout",
     "output_type": "stream",
     "text": [
      "Первые 5 строк датафрейма\n"
     ]
    },
    {
     "data": {
      "text/html": [
       "<div>\n",
       "<style scoped>\n",
       "    .dataframe tbody tr th:only-of-type {\n",
       "        vertical-align: middle;\n",
       "    }\n",
       "\n",
       "    .dataframe tbody tr th {\n",
       "        vertical-align: top;\n",
       "    }\n",
       "\n",
       "    .dataframe thead th {\n",
       "        text-align: right;\n",
       "    }\n",
       "</style>\n",
       "<table border=\"1\" class=\"dataframe\">\n",
       "  <thead>\n",
       "    <tr style=\"text-align: right;\">\n",
       "      <th></th>\n",
       "      <th>DateCrawled</th>\n",
       "      <th>Price</th>\n",
       "      <th>VehicleType</th>\n",
       "      <th>RegistrationYear</th>\n",
       "      <th>Gearbox</th>\n",
       "      <th>Power</th>\n",
       "      <th>Model</th>\n",
       "      <th>Kilometer</th>\n",
       "      <th>RegistrationMonth</th>\n",
       "      <th>FuelType</th>\n",
       "      <th>Brand</th>\n",
       "      <th>Repaired</th>\n",
       "      <th>DateCreated</th>\n",
       "      <th>NumberOfPictures</th>\n",
       "      <th>PostalCode</th>\n",
       "      <th>LastSeen</th>\n",
       "    </tr>\n",
       "  </thead>\n",
       "  <tbody>\n",
       "    <tr>\n",
       "      <th>0</th>\n",
       "      <td>2016-03-24 11:52:17</td>\n",
       "      <td>480</td>\n",
       "      <td>NaN</td>\n",
       "      <td>1993</td>\n",
       "      <td>manual</td>\n",
       "      <td>0</td>\n",
       "      <td>golf</td>\n",
       "      <td>150000</td>\n",
       "      <td>0</td>\n",
       "      <td>petrol</td>\n",
       "      <td>volkswagen</td>\n",
       "      <td>NaN</td>\n",
       "      <td>2016-03-24 00:00:00</td>\n",
       "      <td>0</td>\n",
       "      <td>70435</td>\n",
       "      <td>2016-04-07 03:16:57</td>\n",
       "    </tr>\n",
       "    <tr>\n",
       "      <th>1</th>\n",
       "      <td>2016-03-24 10:58:45</td>\n",
       "      <td>18300</td>\n",
       "      <td>coupe</td>\n",
       "      <td>2011</td>\n",
       "      <td>manual</td>\n",
       "      <td>190</td>\n",
       "      <td>NaN</td>\n",
       "      <td>125000</td>\n",
       "      <td>5</td>\n",
       "      <td>gasoline</td>\n",
       "      <td>audi</td>\n",
       "      <td>yes</td>\n",
       "      <td>2016-03-24 00:00:00</td>\n",
       "      <td>0</td>\n",
       "      <td>66954</td>\n",
       "      <td>2016-04-07 01:46:50</td>\n",
       "    </tr>\n",
       "    <tr>\n",
       "      <th>2</th>\n",
       "      <td>2016-03-14 12:52:21</td>\n",
       "      <td>9800</td>\n",
       "      <td>suv</td>\n",
       "      <td>2004</td>\n",
       "      <td>auto</td>\n",
       "      <td>163</td>\n",
       "      <td>grand</td>\n",
       "      <td>125000</td>\n",
       "      <td>8</td>\n",
       "      <td>gasoline</td>\n",
       "      <td>jeep</td>\n",
       "      <td>NaN</td>\n",
       "      <td>2016-03-14 00:00:00</td>\n",
       "      <td>0</td>\n",
       "      <td>90480</td>\n",
       "      <td>2016-04-05 12:47:46</td>\n",
       "    </tr>\n",
       "    <tr>\n",
       "      <th>3</th>\n",
       "      <td>2016-03-17 16:54:04</td>\n",
       "      <td>1500</td>\n",
       "      <td>small</td>\n",
       "      <td>2001</td>\n",
       "      <td>manual</td>\n",
       "      <td>75</td>\n",
       "      <td>golf</td>\n",
       "      <td>150000</td>\n",
       "      <td>6</td>\n",
       "      <td>petrol</td>\n",
       "      <td>volkswagen</td>\n",
       "      <td>no</td>\n",
       "      <td>2016-03-17 00:00:00</td>\n",
       "      <td>0</td>\n",
       "      <td>91074</td>\n",
       "      <td>2016-03-17 17:40:17</td>\n",
       "    </tr>\n",
       "    <tr>\n",
       "      <th>4</th>\n",
       "      <td>2016-03-31 17:25:20</td>\n",
       "      <td>3600</td>\n",
       "      <td>small</td>\n",
       "      <td>2008</td>\n",
       "      <td>manual</td>\n",
       "      <td>69</td>\n",
       "      <td>fabia</td>\n",
       "      <td>90000</td>\n",
       "      <td>7</td>\n",
       "      <td>gasoline</td>\n",
       "      <td>skoda</td>\n",
       "      <td>no</td>\n",
       "      <td>2016-03-31 00:00:00</td>\n",
       "      <td>0</td>\n",
       "      <td>60437</td>\n",
       "      <td>2016-04-06 10:17:21</td>\n",
       "    </tr>\n",
       "  </tbody>\n",
       "</table>\n",
       "</div>"
      ],
      "text/plain": [
       "           DateCrawled  Price VehicleType  RegistrationYear Gearbox  Power  \\\n",
       "0  2016-03-24 11:52:17    480         NaN              1993  manual      0   \n",
       "1  2016-03-24 10:58:45  18300       coupe              2011  manual    190   \n",
       "2  2016-03-14 12:52:21   9800         suv              2004    auto    163   \n",
       "3  2016-03-17 16:54:04   1500       small              2001  manual     75   \n",
       "4  2016-03-31 17:25:20   3600       small              2008  manual     69   \n",
       "\n",
       "   Model  Kilometer  RegistrationMonth  FuelType       Brand Repaired  \\\n",
       "0   golf     150000                  0    petrol  volkswagen      NaN   \n",
       "1    NaN     125000                  5  gasoline        audi      yes   \n",
       "2  grand     125000                  8  gasoline        jeep      NaN   \n",
       "3   golf     150000                  6    petrol  volkswagen       no   \n",
       "4  fabia      90000                  7  gasoline       skoda       no   \n",
       "\n",
       "           DateCreated  NumberOfPictures  PostalCode             LastSeen  \n",
       "0  2016-03-24 00:00:00                 0       70435  2016-04-07 03:16:57  \n",
       "1  2016-03-24 00:00:00                 0       66954  2016-04-07 01:46:50  \n",
       "2  2016-03-14 00:00:00                 0       90480  2016-04-05 12:47:46  \n",
       "3  2016-03-17 00:00:00                 0       91074  2016-03-17 17:40:17  \n",
       "4  2016-03-31 00:00:00                 0       60437  2016-04-06 10:17:21  "
      ]
     },
     "metadata": {},
     "output_type": "display_data"
    },
    {
     "name": "stdout",
     "output_type": "stream",
     "text": [
      "\n",
      "Информация о датафрейме\n",
      "<class 'pandas.core.frame.DataFrame'>\n",
      "RangeIndex: 354369 entries, 0 to 354368\n",
      "Data columns (total 16 columns):\n",
      " #   Column             Non-Null Count   Dtype \n",
      "---  ------             --------------   ----- \n",
      " 0   DateCrawled        354369 non-null  object\n",
      " 1   Price              354369 non-null  int64 \n",
      " 2   VehicleType        316879 non-null  object\n",
      " 3   RegistrationYear   354369 non-null  int64 \n",
      " 4   Gearbox            334536 non-null  object\n",
      " 5   Power              354369 non-null  int64 \n",
      " 6   Model              334664 non-null  object\n",
      " 7   Kilometer          354369 non-null  int64 \n",
      " 8   RegistrationMonth  354369 non-null  int64 \n",
      " 9   FuelType           321474 non-null  object\n",
      " 10  Brand              354369 non-null  object\n",
      " 11  Repaired           283215 non-null  object\n",
      " 12  DateCreated        354369 non-null  object\n",
      " 13  NumberOfPictures   354369 non-null  int64 \n",
      " 14  PostalCode         354369 non-null  int64 \n",
      " 15  LastSeen           354369 non-null  object\n",
      "dtypes: int64(7), object(9)\n",
      "memory usage: 43.3+ MB\n",
      "None\n",
      "\n",
      "Тип данных в каждом столбце датафрейма\n",
      "DateCrawled          object\n",
      "Price                 int64\n",
      "VehicleType          object\n",
      "RegistrationYear      int64\n",
      "Gearbox              object\n",
      "Power                 int64\n",
      "Model                object\n",
      "Kilometer             int64\n",
      "RegistrationMonth     int64\n",
      "FuelType             object\n",
      "Brand                object\n",
      "Repaired             object\n",
      "DateCreated          object\n",
      "NumberOfPictures      int64\n",
      "PostalCode            int64\n",
      "LastSeen             object\n",
      "dtype: object\n",
      "\n",
      "Количество пропусков в каждом столбце датафрейма\n",
      "DateCrawled              0\n",
      "Price                    0\n",
      "VehicleType          37490\n",
      "RegistrationYear         0\n",
      "Gearbox              19833\n",
      "Power                    0\n",
      "Model                19705\n",
      "Kilometer                0\n",
      "RegistrationMonth        0\n",
      "FuelType             32895\n",
      "Brand                    0\n",
      "Repaired             71154\n",
      "DateCreated              0\n",
      "NumberOfPictures         0\n",
      "PostalCode               0\n",
      "LastSeen                 0\n",
      "dtype: int64\n",
      "Доля пропусков в каждом столбце датафрейма\n",
      "DateCrawled           0.000000\n",
      "Price                 0.000000\n",
      "VehicleType          10.579368\n",
      "RegistrationYear      0.000000\n",
      "Gearbox               5.596709\n",
      "Power                 0.000000\n",
      "Model                 5.560588\n",
      "Kilometer             0.000000\n",
      "RegistrationMonth     0.000000\n",
      "FuelType              9.282697\n",
      "Brand                 0.000000\n",
      "Repaired             20.079070\n",
      "DateCreated           0.000000\n",
      "NumberOfPictures      0.000000\n",
      "PostalCode            0.000000\n",
      "LastSeen              0.000000\n",
      "dtype: float64\n",
      "\n",
      "Количество явных дубликатов\n",
      "4\n"
     ]
    }
   ],
   "source": [
    "data_info(data)"
   ]
  },
  {
   "cell_type": "markdown",
   "metadata": {},
   "source": [
    "**Вывод:** Данные успешно выгружены, в них есть пропущенные значения и явные дубликаты. "
   ]
  },
  {
   "cell_type": "markdown",
   "metadata": {},
   "source": [
    "### Предобработка данных"
   ]
  },
  {
   "cell_type": "markdown",
   "metadata": {},
   "source": [
    "#### Приведение названия столбцов к нужному виду"
   ]
  },
  {
   "cell_type": "code",
   "execution_count": 5,
   "metadata": {},
   "outputs": [
    {
     "data": {
      "text/plain": [
       "Index(['date_crawled', 'price', 'vehicle_type', 'registration_year', 'gearbox',\n",
       "       'power', 'model', 'kilometer', 'registration_month', 'fuel_type',\n",
       "       'brand', 'repaired', 'date_created', 'number_of_pictures',\n",
       "       'postal_code', 'last_seen'],\n",
       "      dtype='object')"
      ]
     },
     "execution_count": 5,
     "metadata": {},
     "output_type": "execute_result"
    }
   ],
   "source": [
    "data.columns = data.columns.str.lower()\n",
    "data.rename(columns = {\n",
    "    'datecrawled': 'date_crawled', 'vehicletype': 'vehicle_type', 'registrationyear':'registration_year',\n",
    "    'registrationmonth': 'registration_month', 'fueltype': 'fuel_type', 'datecreated': 'date_created',\n",
    "    'numberofpictures': 'number_of_pictures', 'postalcode': 'postal_code', 'lastseen': 'last_seen'\n",
    "}, inplace = True )\n",
    "data.columns"
   ]
  },
  {
   "cell_type": "markdown",
   "metadata": {},
   "source": [
    "#### Приобразование столбцов с датами в формат дат"
   ]
  },
  {
   "cell_type": "code",
   "execution_count": 6,
   "metadata": {},
   "outputs": [],
   "source": [
    "data['date_crawled'] = pd.to_datetime(data['date_crawled'], format='%Y-%m-%dT%H:%M:%S')\n",
    "data['date_created'] = pd.to_datetime(data['date_created'], format='%Y-%m-%dT%H:%M:%S')\n",
    "data['last_seen'] = pd.to_datetime(data['last_seen'], format='%Y-%m-%dT%H:%M:%S')"
   ]
  },
  {
   "cell_type": "markdown",
   "metadata": {},
   "source": [
    "#### Удаление пропусков "
   ]
  },
  {
   "cell_type": "markdown",
   "metadata": {},
   "source": [
    "Заполним пропущенные значения в столбцах тип автомобильного кузова, модель и тип топлива категорией 'other', пропуски в столбцах тип коробки передач и была ли машина в ремонте удалим, т.к. нет возможности восстановить данные."
   ]
  },
  {
   "cell_type": "code",
   "execution_count": 7,
   "metadata": {},
   "outputs": [],
   "source": [
    "data['vehicle_type'] = data['vehicle_type'].fillna('other')\n",
    "data['model'] = data['model'].fillna('other')\n",
    "data['fuel_type'] = data['fuel_type'].fillna('other')\n",
    "data = data.dropna()"
   ]
  },
  {
   "cell_type": "markdown",
   "metadata": {},
   "source": [
    "#### Удаление явных дубликатов"
   ]
  },
  {
   "cell_type": "code",
   "execution_count": 8,
   "metadata": {},
   "outputs": [],
   "source": [
    "data = data.drop_duplicates()"
   ]
  },
  {
   "cell_type": "markdown",
   "metadata": {},
   "source": [
    "#### Удаление неявных дубликатов"
   ]
  },
  {
   "cell_type": "code",
   "execution_count": 9,
   "metadata": {},
   "outputs": [],
   "source": [
    "data['model'] = data['model'].str.replace('rangerover', 'range_rover')"
   ]
  },
  {
   "cell_type": "markdown",
   "metadata": {},
   "source": [
    "#### Распределение количественных данных"
   ]
  },
  {
   "cell_type": "code",
   "execution_count": 10,
   "metadata": {},
   "outputs": [
    {
     "data": {
      "image/png": "[encoded data removed]",
      "text/plain": [
       "<Figure size 1080x1440 with 12 Axes>"
      ]
     },
     "metadata": {
      "needs_background": "light"
     },
     "output_type": "display_data"
    }
   ],
   "source": [
    "data.hist(figsize=(15, 20), bins = 30, xrot=45);\n",
    "plt.show()\n"
   ]
  },
  {
   "cell_type": "markdown",
   "metadata": {},
   "source": [
    "#### Удаление аномалий в данных"
   ]
  },
  {
   "cell_type": "code",
   "execution_count": 11,
   "metadata": {},
   "outputs": [],
   "source": [
    "data = data.query('price>400') #оставим цены выше 400 евро"
   ]
  },
  {
   "cell_type": "code",
   "execution_count": 12,
   "metadata": {},
   "outputs": [],
   "source": [
    "data = data.query('power>40 and power<1000') #предположим, что мощность может быть в среднем от 40 до 1000 л.с."
   ]
  },
  {
   "cell_type": "code",
   "execution_count": 13,
   "metadata": {},
   "outputs": [],
   "source": [
    "data = data.query('registration_year<2017') #ограничим год регистрации до 2016 года по дате скачивания анкеты"
   ]
  },
  {
   "cell_type": "markdown",
   "metadata": {},
   "source": [
    "**Вывод:** В данных обработаны пропуски и дубликаты, также выявлены анамольные значения: в столбце цены удалили значения ниже 400 евро, в столбце мощности автомобилей оставили значения от 40 до 1000 л.с., ограничили год регистрации до 2016 года по дате скачивания анкеты."
   ]
  },
  {
   "cell_type": "markdown",
   "metadata": {},
   "source": [
    "### Корреляция признаков и удаление неинформативных признаков"
   ]
  },
  {
   "cell_type": "code",
   "execution_count": 14,
   "metadata": {},
   "outputs": [
    {
     "data": {
      "text/html": [
       "<div>\n",
       "<style scoped>\n",
       "    .dataframe tbody tr th:only-of-type {\n",
       "        vertical-align: middle;\n",
       "    }\n",
       "\n",
       "    .dataframe tbody tr th {\n",
       "        vertical-align: top;\n",
       "    }\n",
       "\n",
       "    .dataframe thead th {\n",
       "        text-align: right;\n",
       "    }\n",
       "</style>\n",
       "<table border=\"1\" class=\"dataframe\">\n",
       "  <thead>\n",
       "    <tr style=\"text-align: right;\">\n",
       "      <th></th>\n",
       "      <th>price</th>\n",
       "      <th>registration_year</th>\n",
       "      <th>power</th>\n",
       "      <th>kilometer</th>\n",
       "      <th>registration_month</th>\n",
       "      <th>number_of_pictures</th>\n",
       "      <th>postal_code</th>\n",
       "    </tr>\n",
       "  </thead>\n",
       "  <tbody>\n",
       "    <tr>\n",
       "      <th>price</th>\n",
       "      <td>1.000000</td>\n",
       "      <td>0.513579</td>\n",
       "      <td>0.492546</td>\n",
       "      <td>-0.406607</td>\n",
       "      <td>0.036977</td>\n",
       "      <td>NaN</td>\n",
       "      <td>0.057203</td>\n",
       "    </tr>\n",
       "    <tr>\n",
       "      <th>registration_year</th>\n",
       "      <td>0.513579</td>\n",
       "      <td>1.000000</td>\n",
       "      <td>0.102140</td>\n",
       "      <td>-0.352900</td>\n",
       "      <td>0.020985</td>\n",
       "      <td>NaN</td>\n",
       "      <td>0.022041</td>\n",
       "    </tr>\n",
       "    <tr>\n",
       "      <th>power</th>\n",
       "      <td>0.492546</td>\n",
       "      <td>0.102140</td>\n",
       "      <td>1.000000</td>\n",
       "      <td>0.116836</td>\n",
       "      <td>0.024956</td>\n",
       "      <td>NaN</td>\n",
       "      <td>0.047433</td>\n",
       "    </tr>\n",
       "    <tr>\n",
       "      <th>kilometer</th>\n",
       "      <td>-0.406607</td>\n",
       "      <td>-0.352900</td>\n",
       "      <td>0.116836</td>\n",
       "      <td>1.000000</td>\n",
       "      <td>-0.006387</td>\n",
       "      <td>NaN</td>\n",
       "      <td>-0.010165</td>\n",
       "    </tr>\n",
       "    <tr>\n",
       "      <th>registration_month</th>\n",
       "      <td>0.036977</td>\n",
       "      <td>0.020985</td>\n",
       "      <td>0.024956</td>\n",
       "      <td>-0.006387</td>\n",
       "      <td>1.000000</td>\n",
       "      <td>NaN</td>\n",
       "      <td>0.000417</td>\n",
       "    </tr>\n",
       "    <tr>\n",
       "      <th>number_of_pictures</th>\n",
       "      <td>NaN</td>\n",
       "      <td>NaN</td>\n",
       "      <td>NaN</td>\n",
       "      <td>NaN</td>\n",
       "      <td>NaN</td>\n",
       "      <td>NaN</td>\n",
       "      <td>NaN</td>\n",
       "    </tr>\n",
       "    <tr>\n",
       "      <th>postal_code</th>\n",
       "      <td>0.057203</td>\n",
       "      <td>0.022041</td>\n",
       "      <td>0.047433</td>\n",
       "      <td>-0.010165</td>\n",
       "      <td>0.000417</td>\n",
       "      <td>NaN</td>\n",
       "      <td>1.000000</td>\n",
       "    </tr>\n",
       "  </tbody>\n",
       "</table>\n",
       "</div>"
      ],
      "text/plain": [
       "                       price  registration_year     power  kilometer  \\\n",
       "price               1.000000           0.513579  0.492546  -0.406607   \n",
       "registration_year   0.513579           1.000000  0.102140  -0.352900   \n",
       "power               0.492546           0.102140  1.000000   0.116836   \n",
       "kilometer          -0.406607          -0.352900  0.116836   1.000000   \n",
       "registration_month  0.036977           0.020985  0.024956  -0.006387   \n",
       "number_of_pictures       NaN                NaN       NaN        NaN   \n",
       "postal_code         0.057203           0.022041  0.047433  -0.010165   \n",
       "\n",
       "                    registration_month  number_of_pictures  postal_code  \n",
       "price                         0.036977                 NaN     0.057203  \n",
       "registration_year             0.020985                 NaN     0.022041  \n",
       "power                         0.024956                 NaN     0.047433  \n",
       "kilometer                    -0.006387                 NaN    -0.010165  \n",
       "registration_month            1.000000                 NaN     0.000417  \n",
       "number_of_pictures                 NaN                 NaN          NaN  \n",
       "postal_code                   0.000417                 NaN     1.000000  "
      ]
     },
     "execution_count": 14,
     "metadata": {},
     "output_type": "execute_result"
    }
   ],
   "source": [
    "data.corr()"
   ]
  },
  {
   "cell_type": "code",
   "execution_count": 15,
   "metadata": {},
   "outputs": [],
   "source": [
    "data_new = data.drop([\n",
    "    'date_crawled', 'registration_month', 'date_created', 'number_of_pictures', \n",
    "    'postal_code', 'last_seen'\n",
    "], axis=1)"
   ]
  },
  {
   "cell_type": "markdown",
   "metadata": {},
   "source": [
    "**Вывод:** Наиболее сильная корреляция с целевой переменной у признаков \"мощность\" и \"год регистрации\" и обратная у признака \"пробег\", мультиколлинеарность факторов не обнаружена. Удалены неинформативные признаки: дата скачивания анкеты, месяц регистрации, дата создания анкеты, количество фотографий, индекс и дата последней активности пользователя."
   ]
  },
  {
   "cell_type": "markdown",
   "metadata": {},
   "source": [
    "**Общий вывод:** Данные успешно выгружены, в них выявлены и заполнены пропущенные значения, удалены дубликаты. Также обработаны аномалии в столбцах цены и мощности, удалены неинформативные признаки."
   ]
  },
  {
   "cell_type": "markdown",
   "metadata": {},
   "source": [
    "## Обучение моделей"
   ]
  },
  {
   "cell_type": "markdown",
   "metadata": {},
   "source": [
    "### Подготовка выборки для обучения моделей"
   ]
  },
  {
   "cell_type": "code",
   "execution_count": 16,
   "metadata": {},
   "outputs": [
    {
     "name": "stdout",
     "output_type": "stream",
     "text": [
      "(144434, 9)\n",
      "(48145, 9)\n",
      "(48145, 9)\n",
      "(144434,)\n",
      "(48145,)\n",
      "(48145,)\n"
     ]
    }
   ],
   "source": [
    "target = data_new['price']\n",
    "features = data_new.drop('price', axis=1)\n",
    "features_train, features_valid, target_train, target_valid = train_test_split(features, target, test_size=0.2, random_state=12345)\n",
    "features_train, features_test, target_train, target_test = train_test_split(features_train, target_train, test_size=0.25, random_state=12345)\n",
    "print(features_train.shape)\n",
    "print(features_valid.shape)\n",
    "print(features_test.shape)\n",
    "print(target_train.shape)\n",
    "print(target_valid.shape)\n",
    "print(target_test.shape)"
   ]
  },
  {
   "cell_type": "markdown",
   "metadata": {},
   "source": [
    "### Кодирование данных"
   ]
  },
  {
   "cell_type": "code",
   "execution_count": 17,
   "metadata": {},
   "outputs": [],
   "source": [
    "# прямое кодирование (для линейных моделей)\n",
    "features_train_ohe = pd.get_dummies(features_train, drop_first=True)\n",
    "features_valid_ohe = pd.get_dummies(features_valid, drop_first=True)\n",
    "features_test_ohe = pd.get_dummies(features_test, drop_first=True)\n",
    "\n",
    "# Найдем общие признаки между обучающей, валидационной и тестовой выборками\n",
    "common_columns = set(features_train_ohe.columns) & set(features_valid_ohe.columns) & set(features_test_ohe.columns)\n",
    "\n",
    "# Оставим в каждой выборке только общие признаки\n",
    "features_train_ohe = features_train_ohe[list(common_columns)]\n",
    "features_valid_ohe = features_valid_ohe[list(common_columns)]\n",
    "features_test_ohe = features_test_ohe[list(common_columns)]"
   ]
  },
  {
   "cell_type": "markdown",
   "metadata": {},
   "source": [
    "### Масштабирование данных"
   ]
  },
  {
   "cell_type": "code",
   "execution_count": 18,
   "metadata": {},
   "outputs": [
    {
     "name": "stderr",
     "output_type": "stream",
     "text": [
      "/tmp/ipykernel_166/1300999805.py:6: SettingWithCopyWarning: \n",
      "A value is trying to be set on a copy of a slice from a DataFrame.\n",
      "Try using .loc[row_indexer,col_indexer] = value instead\n",
      "\n",
      "See the caveats in the documentation: https://pandas.pydata.org/pandas-docs/stable/user_guide/indexing.html#returning-a-view-versus-a-copy\n",
      "  features_valid[numeric] = scaler.transform(features_valid[numeric])\n",
      "/opt/conda/lib/python3.9/site-packages/pandas/core/indexing.py:1738: SettingWithCopyWarning: \n",
      "A value is trying to be set on a copy of a slice from a DataFrame.\n",
      "Try using .loc[row_indexer,col_indexer] = value instead\n",
      "\n",
      "See the caveats in the documentation: https://pandas.pydata.org/pandas-docs/stable/user_guide/indexing.html#returning-a-view-versus-a-copy\n",
      "  self._setitem_single_column(loc, value[:, i].tolist(), pi)\n"
     ]
    }
   ],
   "source": [
    "numeric = ['power', 'kilometer']\n",
    "\n",
    "scaler = StandardScaler()\n",
    "scaler.fit(features_train[numeric])\n",
    "features_train[numeric] = scaler.transform(features_train[numeric])\n",
    "features_valid[numeric] = scaler.transform(features_valid[numeric])\n",
    "features_test[numeric] = scaler.transform(features_test[numeric])"
   ]
  },
  {
   "cell_type": "code",
   "execution_count": 19,
   "metadata": {},
   "outputs": [],
   "source": [
    "RANDOM_STATE = 12345"
   ]
  },
  {
   "cell_type": "markdown",
   "metadata": {},
   "source": [
    "### Модель LogisticRegression"
   ]
  },
  {
   "cell_type": "raw",
   "metadata": {},
   "source": [
    "%%time\n",
    "model = LogisticRegression(random_state=RANDOM_STATE)\n",
    "model.fit(features_valid_ohe, target_valid)\n",
    "predicted_valid = model.predict(features_valid_ohe)\n",
    "rmse = mean_squared_error(target_valid, predicted_valid) ** 0.5\n",
    "\n",
    "print(\"RMSE =\", rmse)"
   ]
  },
  {
   "cell_type": "markdown",
   "metadata": {},
   "source": [
    "RMSE = 5972.58942609269\n",
    "\n",
    "CPU times: user 11min 19s, sys: 6min 43s, total: 18min 3s\n",
    "\n",
    "Wall time: 18min 4s"
   ]
  },
  {
   "cell_type": "markdown",
   "metadata": {},
   "source": [
    "### Модель DecisionTreeRegressor"
   ]
  },
  {
   "cell_type": "code",
   "execution_count": 20,
   "metadata": {},
   "outputs": [],
   "source": [
    "# порядковое кодирование\n",
    "encoder = OrdinalEncoder(handle_unknown='use_encoded_value', unknown_value=9999)\n",
    "cat_columns = ['vehicle_type', 'gearbox', 'model', 'fuel_type', 'brand', 'repaired']\n",
    "encoder.fit(features_train[cat_columns])\n",
    "\n",
    "features_train_ord = features_train.copy()\n",
    "features_valid_ord = features_valid.copy()\n",
    "features_test_ord = features_test.copy()\n",
    "\n",
    "features_train_ord[cat_columns] = encoder.transform(features_train_ord[cat_columns])\n",
    "features_valid_ord[cat_columns] = encoder.transform(features_valid_ord[cat_columns])\n",
    "features_test_ord[cat_columns] = encoder.transform(features_test_ord[cat_columns])"
   ]
  },
  {
   "cell_type": "raw",
   "metadata": {},
   "source": [
    "%%time\n",
    "best_model = None\n",
    "best_result = 0\n",
    "best_depth = 0\n",
    "for depth in range(1, 20):\n",
    "    model = DecisionTreeRegressor(max_depth=depth, random_state=RANDOM_STATE) \n",
    "    model.fit(features_train_ord, target_train)\n",
    "    predicted_valid = model.predict(features_valid_ord) \n",
    "    result = mean_squared_error(target_valid, predicted_valid) ** 0.5 \n",
    "    if result > best_result:\n",
    "        best_model = model\n",
    "        best_result = result\n",
    "        best_depth = depth\n",
    "        \n",
    "print(\"RMSE для лучшей модели:\", best_result, \"Максимальная глубина:\", depth)"
   ]
  },
  {
   "cell_type": "markdown",
   "metadata": {},
   "source": [
    "RMSE для лучшей модели: 3701.0958346902653 Максимальная глубина: 19\n",
    "\n",
    "CPU times: user 4.56 s, sys: 41.3 ms, total: 4.6 s\n",
    "\n",
    "Wall time: 4.6 s"
   ]
  },
  {
   "cell_type": "markdown",
   "metadata": {},
   "source": [
    "### Модель RandomForestRegressor"
   ]
  },
  {
   "cell_type": "raw",
   "metadata": {},
   "source": [
    "%%time\n",
    "\n",
    "best_model = None\n",
    "best_result = 0\n",
    "best_depth = 0\n",
    "best_est = 0\n",
    "\n",
    "for est in range(20, 100, 10):\n",
    "    for depth in range (5, 16, 2):\n",
    "        model = RandomForestRegressor(n_estimators=est, max_depth=depth, random_state=RANDOM_STATE) \n",
    "        model.fit(features_train_ord, target_train)\n",
    "        predicted_valid = model.predict(features_valid_ord)\n",
    "        result = mean_squared_error(target_valid, predicted_valid) ** 0.5 \n",
    "        if result > best_result:\n",
    "            best_model = model \n",
    "            best_result = result \n",
    "            best_depth = depth\n",
    "            best_est = est\n",
    "            \n",
    "print(\"RMSE для лучшей модели:\", best_result, \"n_estimators=:\", best_est, \"max_depth=\", best_depth)"
   ]
  },
  {
   "cell_type": "markdown",
   "metadata": {},
   "source": [
    "RMSE для лучшей модели: 2428.93356423896 n_estimators=: 20 max_depth= 5\n",
    "\n",
    "CPU times: user 7min 26s, sys: 3.7 s, total: 7min 30s\n",
    "\n",
    "Wall time: 7min 30s"
   ]
  },
  {
   "cell_type": "markdown",
   "metadata": {},
   "source": [
    "### Модель LGBMRegressor"
   ]
  },
  {
   "cell_type": "code",
   "execution_count": 21,
   "metadata": {},
   "outputs": [],
   "source": [
    "features_train_new = features_train.copy()\n",
    "features_valid_new = features_valid.copy()\n",
    "features_test_new = features_test.copy()\n",
    "\n",
    "features_train_new[cat_columns] = features_train_new[cat_columns].astype('category')\n",
    "features_valid_new[cat_columns] = features_valid_new[cat_columns].astype('category')\n",
    "features_test_new[cat_columns] = features_test_new[cat_columns].astype('category')"
   ]
  },
  {
   "cell_type": "raw",
   "metadata": {},
   "source": [
    "%%time\n",
    "\n",
    "best_model = None\n",
    "best_result = 0\n",
    "best_depth = 0\n",
    "best_est = 0\n",
    "\n",
    "for est in range(50, 160, 10):\n",
    "    for depth in range (5, 16, 2):\n",
    "        model = LGBMRegressor(metric='RMSE', num_iterations=est, max_depth=depth, random_state=RANDOM_STATE) \n",
    "        model.fit(features_train_new, target_train, verbose=10)\n",
    "        predicted_valid = model.predict(features_valid_new)\n",
    "        result = mean_squared_error(target_valid, predicted_valid) ** 0.5 \n",
    "        if result > best_result:\n",
    "            best_model = model \n",
    "            best_result = result \n",
    "            best_depth = depth\n",
    "            best_est = est\n",
    "            \n",
    "print(\"RMSE для лучшей модели:\", best_result, \"num_iterations=\", best_est, \"max_depth=\", best_depth)"
   ]
  },
  {
   "cell_type": "markdown",
   "metadata": {},
   "source": [
    "RMSE для лучшей модели: 1681.2567723500497 num_iterations= 50 max_depth= 5\n",
    "\n",
    "CPU times: user 46min 19s, sys: 43.4 s, total: 47min 2s\n",
    "\n",
    "Wall time: 47min 21s"
   ]
  },
  {
   "cell_type": "markdown",
   "metadata": {},
   "source": [
    "### Модель CatBoostRegressor"
   ]
  },
  {
   "cell_type": "raw",
   "metadata": {},
   "source": [
    "%%time\n",
    "\n",
    "best_model = None\n",
    "best_result = 0\n",
    "best_depth = 0\n",
    "best_est = 0\n",
    "\n",
    "for est in range(50, 160, 10):\n",
    "    for depth in range (5, 16, 2):\n",
    "        model = CatBoostRegressor(loss_function='RMSE', iterations=est, max_depth=depth, random_state=RANDOM_STATE) \n",
    "        model.fit(features_train, target_train, cat_features=cat_columns, verbose=10)\n",
    "        predicted_valid = model.predict(features_valid)\n",
    "        result = mean_squared_error(target_valid, predicted_valid) ** 0.5 \n",
    "        if result > best_result:\n",
    "            best_model = model \n",
    "            best_result = result \n",
    "            best_depth = depth\n",
    "            best_est = est\n",
    "            \n",
    "print(\"RMSE для лучшей модели:\", best_result, \"iterations=\", best_est, \"max_depth=\", best_depth)"
   ]
  },
  {
   "cell_type": "markdown",
   "metadata": {},
   "source": [
    "RMSE для лучшей модели: 1739.672288346819 iterations= 50 max_depth= 5\n",
    "\n",
    "CPU times: user 16min 13s, sys: 1min 58s, total: 18min 12s\n",
    "\n",
    "Wall time: 18min 56s"
   ]
  },
  {
   "cell_type": "markdown",
   "metadata": {},
   "source": [
    "**Вывод:** Обучены несколько моделей: линейная регрессия, дерево решений, случайный лес, LightGBM и CatBoost. Лучшие результаты по точности и времени работы показали модели: RandomForestRegressor (с гиперпараметрами: n_estimators=: 20 max_depth= 5): RMSE = 2429, градиентного бустинга LightGBM (с гиперпараметрами: num_iterations= 50 max_depth= 5): RMSE = 1833 и CatBoost (с гиперпараметрами: iterations= 50 max_depth= 5): RMSE = 1768."
   ]
  },
  {
   "cell_type": "markdown",
   "metadata": {},
   "source": [
    "## Анализ моделей"
   ]
  },
  {
   "cell_type": "markdown",
   "metadata": {},
   "source": [
    "Возьмем лучшие модели RandomForestRegressor, LightGBM и CatBoost и проанализируем время обучения и время предсказания, чтобы выбрать самую подходящую для заказчика."
   ]
  },
  {
   "cell_type": "markdown",
   "metadata": {},
   "source": [
    "### Анализ модели  RandomForestRegressor"
   ]
  },
  {
   "cell_type": "markdown",
   "metadata": {},
   "source": [
    "#### Время обучения модели  RandomForestRegressor"
   ]
  },
  {
   "cell_type": "code",
   "execution_count": 22,
   "metadata": {},
   "outputs": [
    {
     "name": "stdout",
     "output_type": "stream",
     "text": [
      "CPU times: user 2.55 s, sys: 11.2 ms, total: 2.57 s\n",
      "Wall time: 2.58 s\n"
     ]
    },
    {
     "data": {
      "text/plain": [
       "RandomForestRegressor(max_depth=5, n_estimators=20, random_state=12345)"
      ]
     },
     "execution_count": 22,
     "metadata": {},
     "output_type": "execute_result"
    }
   ],
   "source": [
    "%%time\n",
    "model_forest = RandomForestRegressor(n_estimators=20, max_depth= 5, random_state=RANDOM_STATE) \n",
    "model_forest.fit(features_train_ord, target_train)\n"
   ]
  },
  {
   "cell_type": "markdown",
   "metadata": {},
   "source": [
    "#### Время предсказания модели RandomForestRegressor"
   ]
  },
  {
   "cell_type": "code",
   "execution_count": 23,
   "metadata": {},
   "outputs": [
    {
     "name": "stdout",
     "output_type": "stream",
     "text": [
      "CPU times: user 46.6 ms, sys: 263 µs, total: 46.9 ms\n",
      "Wall time: 45.2 ms\n"
     ]
    }
   ],
   "source": [
    "%%time\n",
    "predicted_valid = model_forest.predict(features_valid_ord)"
   ]
  },
  {
   "cell_type": "markdown",
   "metadata": {},
   "source": [
    "#### RMSE вычисляется на валидационной выборке"
   ]
  },
  {
   "cell_type": "code",
   "execution_count": 24,
   "metadata": {},
   "outputs": [
    {
     "name": "stdout",
     "output_type": "stream",
     "text": [
      "RMSE модели RandomForestRegressor: 2428.93356423896\n"
     ]
    }
   ],
   "source": [
    "rmse = mean_squared_error(target_valid, predicted_valid) ** 0.5\n",
    "print(\"RMSE модели RandomForestRegressor:\", rmse)"
   ]
  },
  {
   "cell_type": "code",
   "execution_count": 25,
   "metadata": {},
   "outputs": [],
   "source": [
    "#результаты 1й модели\n",
    "time_train_1 = '2.34 s' #время обучения модели\n",
    "time_pred_1 = '50.3 ms'#время предсказания модели\n",
    "RMSE_1 = 2429"
   ]
  },
  {
   "cell_type": "markdown",
   "metadata": {},
   "source": [
    "### Анализ модели  LightGBM"
   ]
  },
  {
   "cell_type": "markdown",
   "metadata": {},
   "source": [
    "#### Время обучения модели  LightGBM"
   ]
  },
  {
   "cell_type": "code",
   "execution_count": 26,
   "metadata": {},
   "outputs": [
    {
     "name": "stderr",
     "output_type": "stream",
     "text": [
      "/opt/conda/lib/python3.9/site-packages/lightgbm/engine.py:177: UserWarning: Found `num_iterations` in params. Will use it instead of argument\n",
      "  _log_warning(f\"Found `{alias}` in params. Will use it instead of argument\")\n"
     ]
    },
    {
     "name": "stdout",
     "output_type": "stream",
     "text": [
      "CPU times: user 50.6 s, sys: 355 ms, total: 50.9 s\n",
      "Wall time: 51.1 s\n"
     ]
    },
    {
     "data": {
      "text/plain": [
       "LGBMRegressor(max_depth=5, metric='RMSE', num_iterations=50, random_state=12345)"
      ]
     },
     "execution_count": 26,
     "metadata": {},
     "output_type": "execute_result"
    }
   ],
   "source": [
    "%%time\n",
    "model_lgbmr = LGBMRegressor(metric='RMSE', num_iterations= 50, max_depth= 5, random_state=RANDOM_STATE) \n",
    "model_lgbmr.fit(features_train_new, target_train)"
   ]
  },
  {
   "cell_type": "markdown",
   "metadata": {},
   "source": [
    "#### Время предсказания модели  LightGBM"
   ]
  },
  {
   "cell_type": "code",
   "execution_count": 27,
   "metadata": {},
   "outputs": [
    {
     "name": "stdout",
     "output_type": "stream",
     "text": [
      "CPU times: user 244 ms, sys: 2.47 ms, total: 246 ms\n",
      "Wall time: 200 ms\n"
     ]
    }
   ],
   "source": [
    "%%time\n",
    "predicted_valid = model_lgbmr.predict(features_valid_new)"
   ]
  },
  {
   "cell_type": "markdown",
   "metadata": {},
   "source": [
    "#### RMSE вычисляется на валидационной выборке"
   ]
  },
  {
   "cell_type": "code",
   "execution_count": 28,
   "metadata": {},
   "outputs": [
    {
     "name": "stdout",
     "output_type": "stream",
     "text": [
      "RMSE модели LightGBM = 1681.2567723500497\n"
     ]
    }
   ],
   "source": [
    "rmse = mean_squared_error(target_valid, predicted_valid) ** 0.5\n",
    "print(\"RMSE модели LightGBM =\", rmse)"
   ]
  },
  {
   "cell_type": "code",
   "execution_count": 29,
   "metadata": {},
   "outputs": [],
   "source": [
    "#результаты 2й модели\n",
    "time_train_2 = '1min 10s' #время обучения модели\n",
    "time_pred_2 = '273 ms'#время предсказания модели\n",
    "RMSE_2 = 1681"
   ]
  },
  {
   "cell_type": "markdown",
   "metadata": {},
   "source": [
    "### Анализ модели  CatBoost"
   ]
  },
  {
   "cell_type": "markdown",
   "metadata": {},
   "source": [
    "#### Время обучения модели  CatBoost"
   ]
  },
  {
   "cell_type": "code",
   "execution_count": 30,
   "metadata": {
    "scrolled": true
   },
   "outputs": [
    {
     "name": "stdout",
     "output_type": "stream",
     "text": [
      "Learning rate set to 0.5\n",
      "0:\tlearn: 3368.8249395\ttotal: 104ms\tremaining: 5.07s\n",
      "1:\tlearn: 2791.9717450\ttotal: 159ms\tremaining: 3.83s\n",
      "2:\tlearn: 2514.6204041\ttotal: 218ms\tremaining: 3.41s\n",
      "3:\tlearn: 2278.0286680\ttotal: 262ms\tremaining: 3.01s\n",
      "4:\tlearn: 2177.6856112\ttotal: 300ms\tremaining: 2.7s\n",
      "5:\tlearn: 2109.6790962\ttotal: 347ms\tremaining: 2.54s\n",
      "6:\tlearn: 2067.0549561\ttotal: 387ms\tremaining: 2.38s\n",
      "7:\tlearn: 2032.7135057\ttotal: 447ms\tremaining: 2.35s\n",
      "8:\tlearn: 2002.7826117\ttotal: 494ms\tremaining: 2.25s\n",
      "9:\tlearn: 1980.9815016\ttotal: 538ms\tremaining: 2.15s\n",
      "10:\tlearn: 1959.0669201\ttotal: 578ms\tremaining: 2.05s\n",
      "11:\tlearn: 1944.6856152\ttotal: 625ms\tremaining: 1.98s\n",
      "12:\tlearn: 1930.3980337\ttotal: 665ms\tremaining: 1.89s\n",
      "13:\tlearn: 1918.3681203\ttotal: 704ms\tremaining: 1.81s\n",
      "14:\tlearn: 1906.0406375\ttotal: 744ms\tremaining: 1.74s\n",
      "15:\tlearn: 1895.8456450\ttotal: 784ms\tremaining: 1.67s\n",
      "16:\tlearn: 1888.2915613\ttotal: 831ms\tremaining: 1.61s\n",
      "17:\tlearn: 1880.8891467\ttotal: 870ms\tremaining: 1.55s\n",
      "18:\tlearn: 1875.8181953\ttotal: 917ms\tremaining: 1.5s\n",
      "19:\tlearn: 1855.3823226\ttotal: 955ms\tremaining: 1.43s\n",
      "20:\tlearn: 1844.4418276\ttotal: 993ms\tremaining: 1.37s\n",
      "21:\tlearn: 1839.5891368\ttotal: 1.04s\tremaining: 1.32s\n",
      "22:\tlearn: 1834.0598550\ttotal: 1.08s\tremaining: 1.26s\n",
      "23:\tlearn: 1830.3198259\ttotal: 1.12s\tremaining: 1.22s\n",
      "24:\tlearn: 1825.2074808\ttotal: 1.17s\tremaining: 1.17s\n",
      "25:\tlearn: 1821.3749681\ttotal: 1.22s\tremaining: 1.12s\n",
      "26:\tlearn: 1816.3088960\ttotal: 1.25s\tremaining: 1.07s\n",
      "27:\tlearn: 1807.3695893\ttotal: 1.3s\tremaining: 1.02s\n",
      "28:\tlearn: 1801.9801609\ttotal: 1.34s\tremaining: 969ms\n",
      "29:\tlearn: 1796.5299583\ttotal: 1.38s\tremaining: 919ms\n",
      "30:\tlearn: 1791.1281328\ttotal: 1.42s\tremaining: 873ms\n",
      "31:\tlearn: 1786.4758919\ttotal: 1.46s\tremaining: 823ms\n",
      "32:\tlearn: 1781.9023242\ttotal: 1.51s\tremaining: 777ms\n",
      "33:\tlearn: 1777.9971364\ttotal: 1.57s\tremaining: 737ms\n",
      "34:\tlearn: 1775.4098631\ttotal: 1.62s\tremaining: 695ms\n",
      "35:\tlearn: 1771.2347659\ttotal: 1.67s\tremaining: 650ms\n",
      "36:\tlearn: 1769.9210019\ttotal: 1.73s\tremaining: 606ms\n",
      "37:\tlearn: 1766.9357878\ttotal: 1.78s\tremaining: 562ms\n",
      "38:\tlearn: 1763.3537557\ttotal: 1.83s\tremaining: 516ms\n",
      "39:\tlearn: 1761.0339601\ttotal: 1.88s\tremaining: 469ms\n",
      "40:\tlearn: 1759.5273738\ttotal: 1.92s\tremaining: 421ms\n",
      "41:\tlearn: 1756.2622802\ttotal: 1.96s\tremaining: 373ms\n",
      "42:\tlearn: 1752.4801382\ttotal: 2s\tremaining: 326ms\n",
      "43:\tlearn: 1749.3150913\ttotal: 2.04s\tremaining: 279ms\n",
      "44:\tlearn: 1746.8475827\ttotal: 2.09s\tremaining: 232ms\n",
      "45:\tlearn: 1744.8958150\ttotal: 2.13s\tremaining: 185ms\n",
      "46:\tlearn: 1741.6563861\ttotal: 2.18s\tremaining: 139ms\n",
      "47:\tlearn: 1738.3552328\ttotal: 2.22s\tremaining: 92.4ms\n",
      "48:\tlearn: 1736.2191830\ttotal: 2.26s\tremaining: 46.1ms\n",
      "49:\tlearn: 1734.0892993\ttotal: 2.3s\tremaining: 0us\n",
      "CPU times: user 2.52 s, sys: 59.8 ms, total: 2.58 s\n",
      "Wall time: 3.37 s\n"
     ]
    },
    {
     "data": {
      "text/plain": [
       "<catboost.core.CatBoostRegressor at 0x7fc41017ae20>"
      ]
     },
     "execution_count": 30,
     "metadata": {},
     "output_type": "execute_result"
    }
   ],
   "source": [
    "%%time\n",
    "model_catboost = CatBoostRegressor(loss_function='RMSE', iterations= 50, max_depth= 5, random_state=RANDOM_STATE)\n",
    "model_catboost.fit(features_train, target_train, cat_features=cat_columns)"
   ]
  },
  {
   "cell_type": "markdown",
   "metadata": {},
   "source": [
    "#### Время предсказания модели  CatBoost"
   ]
  },
  {
   "cell_type": "code",
   "execution_count": 31,
   "metadata": {},
   "outputs": [
    {
     "name": "stdout",
     "output_type": "stream",
     "text": [
      "CPU times: user 63.6 ms, sys: 3.9 ms, total: 67.5 ms\n",
      "Wall time: 67.1 ms\n"
     ]
    }
   ],
   "source": [
    "%%time\n",
    "predicted_valid = model_catboost.predict(features_valid)"
   ]
  },
  {
   "cell_type": "markdown",
   "metadata": {},
   "source": [
    "#### RMSE вычисляется на валидационной выборке"
   ]
  },
  {
   "cell_type": "code",
   "execution_count": 32,
   "metadata": {},
   "outputs": [
    {
     "name": "stdout",
     "output_type": "stream",
     "text": [
      "RMSE модели CatBoost = 1739.672288346819\n"
     ]
    }
   ],
   "source": [
    "rmse = mean_squared_error(target_valid, predicted_valid) ** 0.5\n",
    "print(\"RMSE модели CatBoost =\", rmse)"
   ]
  },
  {
   "cell_type": "code",
   "execution_count": 33,
   "metadata": {},
   "outputs": [],
   "source": [
    "#результаты 3й модели\n",
    "time_train_3 = '3.61 s' #время обучения модели\n",
    "time_pred_3 = '86.1 ms'#время предсказания модели\n",
    "RMSE_3 = 1740"
   ]
  },
  {
   "cell_type": "markdown",
   "metadata": {},
   "source": [
    "###  Проверьте модели на адекватность"
   ]
  },
  {
   "cell_type": "code",
   "execution_count": 34,
   "metadata": {},
   "outputs": [
    {
     "name": "stdout",
     "output_type": "stream",
     "text": [
      "RMSE для модели дамми: 4699.360102407339\n"
     ]
    }
   ],
   "source": [
    "dummy_clf = DummyRegressor(strategy='mean')\n",
    "dummy_clf.fit(features_train, target_train)\n",
    "dummy_predictions = dummy_clf.predict(features_test)\n",
    "rmse = mean_squared_error(target_test, dummy_predictions) ** 0.5\n",
    "print(\"RMSE для модели дамми:\", rmse)"
   ]
  },
  {
   "cell_type": "markdown",
   "metadata": {},
   "source": [
    "###  Результаты анализа моделей"
   ]
  },
  {
   "cell_type": "code",
   "execution_count": 37,
   "metadata": {},
   "outputs": [
    {
     "data": {
      "text/html": [
       "<div>\n",
       "<style scoped>\n",
       "    .dataframe tbody tr th:only-of-type {\n",
       "        vertical-align: middle;\n",
       "    }\n",
       "\n",
       "    .dataframe tbody tr th {\n",
       "        vertical-align: top;\n",
       "    }\n",
       "\n",
       "    .dataframe thead th {\n",
       "        text-align: right;\n",
       "    }\n",
       "</style>\n",
       "<table border=\"1\" class=\"dataframe\">\n",
       "  <thead>\n",
       "    <tr style=\"text-align: right;\">\n",
       "      <th></th>\n",
       "      <th>time_train</th>\n",
       "      <th>time_pred</th>\n",
       "      <th>RMSE</th>\n",
       "    </tr>\n",
       "  </thead>\n",
       "  <tbody>\n",
       "    <tr>\n",
       "      <th>RandomForestRegressor</th>\n",
       "      <td>2.58 s</td>\n",
       "      <td>45.2 ms</td>\n",
       "      <td>2429</td>\n",
       "    </tr>\n",
       "    <tr>\n",
       "      <th>LightGBM</th>\n",
       "      <td>51.1 s</td>\n",
       "      <td>200 ms</td>\n",
       "      <td>1681</td>\n",
       "    </tr>\n",
       "    <tr>\n",
       "      <th>CatBoost</th>\n",
       "      <td>3.37 s</td>\n",
       "      <td>67.1 ms</td>\n",
       "      <td>1740</td>\n",
       "    </tr>\n",
       "  </tbody>\n",
       "</table>\n",
       "</div>"
      ],
      "text/plain": [
       "                      time_train time_pred  RMSE\n",
       "RandomForestRegressor     2.58 s   45.2 ms  2429\n",
       "LightGBM                  51.1 s    200 ms  1681\n",
       "CatBoost                  3.37 s   67.1 ms  1740"
      ]
     },
     "execution_count": 37,
     "metadata": {},
     "output_type": "execute_result"
    }
   ],
   "source": [
    "df = pd.DataFrame({\n",
    "    'time_train':['2.58 s', '51.1 s', '3.37 s'],\n",
    "    'time_pred':['45.2 ms', '200 ms', '67.1 ms'],\n",
    "    'RMSE': [RMSE_1, RMSE_2, RMSE_3]}, index=['RandomForestRegressor', 'LightGBM', 'CatBoost']\n",
    ")\n",
    "df"
   ]
  },
  {
   "cell_type": "markdown",
   "metadata": {},
   "source": [
    "**Вывод:** Проанализированы время работы модели: RandomForestRegressor (с гиперпараметрами: n_estimators=: 20 max_depth= 5), градиентного бустинга LightGBM (с гиперпараметрами: num_iterations= 50 max_depth= 5) и CatBoost (с гиперпараметрами: iterations= 50 max_depth= 5). \n",
    "Лучший результат по точности показала модель LightGBM, но время на обучение и предсказания затрачено меньше у модели CatBoost. Так как заказчику важны как критерии качества, так и времени, то целесообразно выбрать модель CatBoost (точность прогноза ниже примерно на 4%).\n"
   ]
  },
  {
   "cell_type": "markdown",
   "metadata": {},
   "source": [
    "## Тестирование лучшей модели"
   ]
  },
  {
   "cell_type": "code",
   "execution_count": 38,
   "metadata": {},
   "outputs": [
    {
     "name": "stdout",
     "output_type": "stream",
     "text": [
      "RMSE на тестовой выборки лучшей модели: 1743.1995144971168\n"
     ]
    }
   ],
   "source": [
    "predicted_test = model_catboost.predict(features_test)\n",
    "rmse = mean_squared_error(target_test, predicted_test) ** 0.5\n",
    "print(\"RMSE на тестовой выборки лучшей модели:\", rmse)"
   ]
  },
  {
   "cell_type": "markdown",
   "metadata": {},
   "source": [
    "**Вывод:** Выбрана модель градиентного бустинга CatBoost (с гиперпараметрами num_iterations= 50 max_depth= 5), RMSE на тестовой выборки составил 1743."
   ]
  },
  {
   "cell_type": "markdown",
   "metadata": {},
   "source": [
    "## Вывод"
   ]
  },
  {
   "cell_type": "markdown",
   "metadata": {},
   "source": [
    "***Общий вывод:***\n",
    "\n",
    "Проведено исследование данных для сервиса по продаже автомобилей с пробегом с целью построения модели, которая будет уметь определять рыночную стоимость своего автомобиля.\n",
    "\n",
    "В результате анализа обнаружены и обработаны пропуски в данных, удалены дубликаты и аномальные значения, а также удалены неинформативные признаки.\n",
    "\n",
    "Рассмотрены несколько моделей для выявления лучшей по критериям точности, времени обучения и времени предсказания модели: линейная регрессия, дерево решений, случайный лес, LightGBM и CatBoost. \n",
    "\n",
    "Выбрана модель, которая показала лучшие результаты и по точности и времени работы, - модель градиентного бустинга CatBoost (с гиперпараметрами: iterations= 50 max_depth= 5): RMSE = 1743, время обучения модели: 3.37 s, время предсказания: 67.1 ms.\n"
   ]
  }
 ],
 "metadata": {
  "ExecuteTimeLog": [
   {
    "duration": 392,
    "start_time": "2023-05-11T08:32:02.963Z"
   },
   {
    "duration": 1225,
    "start_time": "2023-05-11T08:32:03.607Z"
   },
   {
    "duration": 4,
    "start_time": "2023-05-11T08:32:20.128Z"
   },
   {
    "duration": 848,
    "start_time": "2023-05-11T08:32:32.175Z"
   },
   {
    "duration": 5,
    "start_time": "2023-05-11T08:40:03.154Z"
   },
   {
    "duration": 6,
    "start_time": "2023-05-11T08:42:08.092Z"
   },
   {
    "duration": 64,
    "start_time": "2023-05-11T08:45:49.827Z"
   },
   {
    "duration": 5,
    "start_time": "2023-05-11T08:48:51.132Z"
   },
   {
    "duration": 12,
    "start_time": "2023-05-11T08:49:14.636Z"
   },
   {
    "duration": 10,
    "start_time": "2023-05-11T08:49:28.647Z"
   },
   {
    "duration": 10,
    "start_time": "2023-05-11T08:52:04.426Z"
   },
   {
    "duration": 260,
    "start_time": "2023-05-11T08:56:32.854Z"
   },
   {
    "duration": 7,
    "start_time": "2023-05-11T08:57:56.669Z"
   },
   {
    "duration": 8,
    "start_time": "2023-05-11T09:00:22.741Z"
   },
   {
    "duration": 113,
    "start_time": "2023-05-11T09:00:38.648Z"
   },
   {
    "duration": 235,
    "start_time": "2023-05-11T09:02:06.344Z"
   },
   {
    "duration": 81,
    "start_time": "2023-05-11T09:02:18.483Z"
   },
   {
    "duration": 119,
    "start_time": "2023-05-11T09:16:20.676Z"
   },
   {
    "duration": 97,
    "start_time": "2023-05-11T09:16:34.740Z"
   },
   {
    "duration": 12,
    "start_time": "2023-05-11T09:17:15.400Z"
   },
   {
    "duration": 211,
    "start_time": "2023-05-11T09:18:10.175Z"
   },
   {
    "duration": 372,
    "start_time": "2023-05-11T09:18:33.461Z"
   },
   {
    "duration": 50,
    "start_time": "2023-05-11T09:22:32.349Z"
   },
   {
    "duration": 930,
    "start_time": "2023-05-11T09:25:07.362Z"
   },
   {
    "duration": 736,
    "start_time": "2023-05-11T09:26:01.617Z"
   },
   {
    "duration": 382,
    "start_time": "2023-05-11T09:27:31.059Z"
   },
   {
    "duration": 386,
    "start_time": "2023-05-11T09:28:05.052Z"
   },
   {
    "duration": 158,
    "start_time": "2023-05-11T09:28:19.065Z"
   },
   {
    "duration": 8282,
    "start_time": "2023-05-11T09:28:57.608Z"
   },
   {
    "duration": 1940,
    "start_time": "2023-05-11T09:30:13.393Z"
   },
   {
    "duration": 1844,
    "start_time": "2023-05-11T09:30:36.535Z"
   },
   {
    "duration": 2409,
    "start_time": "2023-05-11T09:30:59.192Z"
   },
   {
    "duration": 2132,
    "start_time": "2023-05-11T09:35:51.931Z"
   },
   {
    "duration": 8,
    "start_time": "2023-05-11T09:38:59.359Z"
   },
   {
    "duration": 11,
    "start_time": "2023-05-11T09:42:15.347Z"
   },
   {
    "duration": 29,
    "start_time": "2023-05-11T09:44:04.597Z"
   },
   {
    "duration": 24,
    "start_time": "2023-05-11T09:44:26.249Z"
   },
   {
    "duration": 29,
    "start_time": "2023-05-11T09:44:55.063Z"
   },
   {
    "duration": 6,
    "start_time": "2023-05-11T09:48:18.484Z"
   },
   {
    "duration": 15,
    "start_time": "2023-05-11T09:48:52.775Z"
   },
   {
    "duration": 22,
    "start_time": "2023-05-11T09:49:12.308Z"
   },
   {
    "duration": 14,
    "start_time": "2023-05-11T09:49:56.549Z"
   },
   {
    "duration": 14,
    "start_time": "2023-05-11T09:50:46.005Z"
   },
   {
    "duration": 69,
    "start_time": "2023-05-11T09:52:05.691Z"
   },
   {
    "duration": 134,
    "start_time": "2023-05-11T09:52:31.839Z"
   },
   {
    "duration": 161,
    "start_time": "2023-05-11T09:52:56.374Z"
   },
   {
    "duration": 165,
    "start_time": "2023-05-11T09:54:12.679Z"
   },
   {
    "duration": 170,
    "start_time": "2023-05-11T09:54:35.448Z"
   },
   {
    "duration": 171,
    "start_time": "2023-05-11T09:54:52.225Z"
   },
   {
    "duration": 195,
    "start_time": "2023-05-11T09:55:53.551Z"
   },
   {
    "duration": 31,
    "start_time": "2023-05-11T09:58:46.410Z"
   },
   {
    "duration": 43,
    "start_time": "2023-05-11T10:00:15.478Z"
   },
   {
    "duration": 21,
    "start_time": "2023-05-11T10:07:10.031Z"
   },
   {
    "duration": 153,
    "start_time": "2023-05-11T10:07:23.818Z"
   },
   {
    "duration": 546,
    "start_time": "2023-05-11T10:13:04.216Z"
   },
   {
    "duration": 325,
    "start_time": "2023-05-11T10:16:13.316Z"
   },
   {
    "duration": 1416,
    "start_time": "2023-05-11T10:20:44.142Z"
   },
   {
    "duration": 835,
    "start_time": "2023-05-11T10:20:45.560Z"
   },
   {
    "duration": 5,
    "start_time": "2023-05-11T10:20:46.403Z"
   },
   {
    "duration": 832,
    "start_time": "2023-05-11T10:20:46.415Z"
   },
   {
    "duration": 6,
    "start_time": "2023-05-11T10:20:47.249Z"
   },
   {
    "duration": 333,
    "start_time": "2023-05-11T10:20:47.257Z"
   },
   {
    "duration": 125,
    "start_time": "2023-05-11T10:20:47.592Z"
   },
   {
    "duration": 232,
    "start_time": "2023-05-11T10:20:47.718Z"
   },
   {
    "duration": 2106,
    "start_time": "2023-05-11T10:20:47.952Z"
   },
   {
    "duration": 11,
    "start_time": "2023-05-11T10:20:50.061Z"
   },
   {
    "duration": 151,
    "start_time": "2023-05-11T10:20:50.074Z"
   },
   {
    "duration": 20,
    "start_time": "2023-05-11T10:20:50.227Z"
   },
   {
    "duration": 132,
    "start_time": "2023-05-11T10:20:50.249Z"
   },
   {
    "duration": 117284,
    "start_time": "2023-05-11T10:20:50.382Z"
   },
   {
    "duration": 5,
    "start_time": "2023-05-11T10:23:44.602Z"
   },
   {
    "duration": 154,
    "start_time": "2023-05-11T10:24:58.958Z"
   },
   {
    "duration": 141,
    "start_time": "2023-05-11T10:26:40.287Z"
   },
   {
    "duration": 80,
    "start_time": "2023-05-11T10:30:00.256Z"
   },
   {
    "duration": 4,
    "start_time": "2023-05-11T10:34:07.533Z"
   },
   {
    "duration": 4,
    "start_time": "2023-05-11T10:35:47.473Z"
   },
   {
    "duration": 722773,
    "start_time": "2023-05-11T10:35:55.152Z"
   },
   {
    "duration": 12,
    "start_time": "2023-05-11T10:58:41.973Z"
   },
   {
    "duration": 95,
    "start_time": "2023-05-11T10:59:40.521Z"
   },
   {
    "duration": 183,
    "start_time": "2023-05-11T11:02:40.152Z"
   },
   {
    "duration": 67,
    "start_time": "2023-05-11T11:03:12.488Z"
   },
   {
    "duration": 1501,
    "start_time": "2023-05-11T11:03:27.725Z"
   },
   {
    "duration": 1386,
    "start_time": "2023-05-11T11:03:30.393Z"
   },
   {
    "duration": 4,
    "start_time": "2023-05-11T11:03:32.348Z"
   },
   {
    "duration": 891,
    "start_time": "2023-05-11T11:03:33.532Z"
   },
   {
    "duration": 7,
    "start_time": "2023-05-11T11:03:34.426Z"
   },
   {
    "duration": 336,
    "start_time": "2023-05-11T11:03:35.390Z"
   },
   {
    "duration": 111,
    "start_time": "2023-05-11T11:03:36.115Z"
   },
   {
    "duration": 235,
    "start_time": "2023-05-11T11:03:36.877Z"
   },
   {
    "duration": 2297,
    "start_time": "2023-05-11T11:03:37.581Z"
   },
   {
    "duration": 35,
    "start_time": "2023-05-11T11:03:39.880Z"
   },
   {
    "duration": 144,
    "start_time": "2023-05-11T11:03:39.917Z"
   },
   {
    "duration": 25,
    "start_time": "2023-05-11T11:03:40.813Z"
   },
   {
    "duration": 151,
    "start_time": "2023-05-11T11:03:41.573Z"
   },
   {
    "duration": 120536,
    "start_time": "2023-05-11T11:03:42.726Z"
   },
   {
    "duration": 110,
    "start_time": "2023-05-11T11:07:06.263Z"
   },
   {
    "duration": 88,
    "start_time": "2023-05-11T11:07:07.991Z"
   },
   {
    "duration": 182,
    "start_time": "2023-05-11T11:07:22.469Z"
   },
   {
    "duration": 1654836,
    "start_time": "2023-05-11T11:08:12.976Z"
   },
   {
    "duration": 123,
    "start_time": "2023-05-11T11:38:36.611Z"
   },
   {
    "duration": 2283,
    "start_time": "2023-05-11T11:38:39.446Z"
   },
   {
    "duration": 103,
    "start_time": "2023-05-11T11:40:21.364Z"
   },
   {
    "duration": 7272,
    "start_time": "2023-05-11T11:40:22.507Z"
   },
   {
    "duration": 59,
    "start_time": "2023-05-11T11:42:33.933Z"
   },
   {
    "duration": 15,
    "start_time": "2023-05-11T12:07:39.141Z"
   },
   {
    "duration": 154,
    "start_time": "2023-05-11T12:07:50.870Z"
   },
   {
    "duration": 18,
    "start_time": "2023-05-11T12:07:55.662Z"
   },
   {
    "duration": 62,
    "start_time": "2023-05-11T12:08:13.921Z"
   },
   {
    "duration": 26,
    "start_time": "2023-05-11T12:18:45.131Z"
   },
   {
    "duration": 5,
    "start_time": "2023-05-11T12:21:30.055Z"
   },
   {
    "duration": 98,
    "start_time": "2023-05-11T12:21:37.838Z"
   },
   {
    "duration": 19,
    "start_time": "2023-05-11T12:24:08.911Z"
   },
   {
    "duration": 59,
    "start_time": "2023-05-11T12:27:39.831Z"
   },
   {
    "duration": 59,
    "start_time": "2023-05-11T12:28:01.822Z"
   },
   {
    "duration": 74,
    "start_time": "2023-05-11T12:29:42.391Z"
   },
   {
    "duration": 76,
    "start_time": "2023-05-11T12:29:59.406Z"
   },
   {
    "duration": 73,
    "start_time": "2023-05-11T12:30:18.566Z"
   },
   {
    "duration": 28,
    "start_time": "2023-05-11T12:30:32.574Z"
   },
   {
    "duration": 85,
    "start_time": "2023-05-11T12:31:33.558Z"
   },
   {
    "duration": 24,
    "start_time": "2023-05-11T12:31:37.416Z"
   },
   {
    "duration": 12,
    "start_time": "2023-05-11T12:32:23.329Z"
   },
   {
    "duration": 18,
    "start_time": "2023-05-11T12:32:30.683Z"
   },
   {
    "duration": 8,
    "start_time": "2023-05-11T12:32:42.106Z"
   },
   {
    "duration": 130,
    "start_time": "2023-05-11T12:33:34.286Z"
   },
   {
    "duration": 543673,
    "start_time": "2023-05-11T12:41:26.498Z"
   },
   {
    "duration": 11369,
    "start_time": "2023-05-11T12:59:58.446Z"
   },
   {
    "duration": 39,
    "start_time": "2023-05-11T13:04:44.392Z"
   },
   {
    "duration": 157,
    "start_time": "2023-05-11T13:04:56.128Z"
   },
   {
    "duration": 442,
    "start_time": "2023-05-11T13:05:40.247Z"
   },
   {
    "duration": 13687,
    "start_time": "2023-05-11T13:09:58.503Z"
   },
   {
    "duration": 301679,
    "start_time": "2023-05-11T13:10:49.468Z"
   },
   {
    "duration": 159,
    "start_time": "2023-05-11T13:25:51.174Z"
   },
   {
    "duration": 95,
    "start_time": "2023-05-11T13:26:01.586Z"
   },
   {
    "duration": 6815,
    "start_time": "2023-05-11T13:26:11.895Z"
   },
   {
    "duration": 103,
    "start_time": "2023-05-11T13:26:47.615Z"
   },
   {
    "duration": 8396,
    "start_time": "2023-05-11T13:26:49.206Z"
   },
   {
    "duration": 7,
    "start_time": "2023-05-11T13:36:11.902Z"
   },
   {
    "duration": 14497,
    "start_time": "2023-05-11T13:40:47.525Z"
   },
   {
    "duration": 16247,
    "start_time": "2023-05-11T13:42:03.772Z"
   },
   {
    "duration": 301,
    "start_time": "2023-05-11T13:43:33.840Z"
   },
   {
    "duration": 150,
    "start_time": "2023-05-11T13:45:36.589Z"
   },
   {
    "duration": 5,
    "start_time": "2023-05-11T14:11:58.133Z"
   },
   {
    "duration": 841,
    "start_time": "2023-05-11T14:12:00.872Z"
   },
   {
    "duration": 8,
    "start_time": "2023-05-11T14:12:03.447Z"
   },
   {
    "duration": 807,
    "start_time": "2023-05-11T14:12:04.668Z"
   },
   {
    "duration": 8,
    "start_time": "2023-05-11T14:12:05.581Z"
   },
   {
    "duration": 263,
    "start_time": "2023-05-11T14:12:09.429Z"
   },
   {
    "duration": 117,
    "start_time": "2023-05-11T14:12:10.634Z"
   },
   {
    "duration": 246,
    "start_time": "2023-05-11T14:12:11.688Z"
   },
   {
    "duration": 2200,
    "start_time": "2023-05-11T14:12:13.745Z"
   },
   {
    "duration": 161,
    "start_time": "2023-05-11T14:12:15.951Z"
   },
   {
    "duration": 22,
    "start_time": "2023-05-11T14:12:17.826Z"
   },
   {
    "duration": 156,
    "start_time": "2023-05-11T14:12:34.066Z"
   },
   {
    "duration": 135,
    "start_time": "2023-05-11T14:12:52.401Z"
   },
   {
    "duration": 111,
    "start_time": "2023-05-11T14:12:54.132Z"
   },
   {
    "duration": 143,
    "start_time": "2023-05-11T14:13:02.881Z"
   },
   {
    "duration": 96,
    "start_time": "2023-05-11T14:13:22.543Z"
   },
   {
    "duration": 7549,
    "start_time": "2023-05-11T14:13:23.275Z"
   },
   {
    "duration": 7366,
    "start_time": "2023-05-11T14:14:09.410Z"
   },
   {
    "duration": 1633,
    "start_time": "2023-05-12T09:02:32.801Z"
   },
   {
    "duration": 1007,
    "start_time": "2023-05-12T09:02:36.968Z"
   },
   {
    "duration": 5,
    "start_time": "2023-05-12T09:02:37.977Z"
   },
   {
    "duration": 830,
    "start_time": "2023-05-12T09:02:41.046Z"
   },
   {
    "duration": 7,
    "start_time": "2023-05-12T09:02:45.238Z"
   },
   {
    "duration": 252,
    "start_time": "2023-05-12T09:02:50.669Z"
   },
   {
    "duration": 100,
    "start_time": "2023-05-12T09:02:52.041Z"
   },
   {
    "duration": 208,
    "start_time": "2023-05-12T09:02:52.854Z"
   },
   {
    "duration": 2070,
    "start_time": "2023-05-12T09:02:55.057Z"
   },
   {
    "duration": 127,
    "start_time": "2023-05-12T09:03:35.988Z"
   },
   {
    "duration": 121,
    "start_time": "2023-05-12T09:03:47.765Z"
   },
   {
    "duration": 12,
    "start_time": "2023-05-12T09:04:36.455Z"
   },
   {
    "duration": 14,
    "start_time": "2023-05-12T09:06:22.552Z"
   },
   {
    "duration": 17,
    "start_time": "2023-05-12T09:12:15.197Z"
   },
   {
    "duration": 28,
    "start_time": "2023-05-12T09:14:56.550Z"
   },
   {
    "duration": 27,
    "start_time": "2023-05-12T09:16:15.558Z"
   },
   {
    "duration": 120,
    "start_time": "2023-05-12T09:17:21.640Z"
   },
   {
    "duration": 24,
    "start_time": "2023-05-12T09:18:41.850Z"
   },
   {
    "duration": 11,
    "start_time": "2023-05-12T09:18:47.125Z"
   },
   {
    "duration": 11,
    "start_time": "2023-05-12T09:20:04.553Z"
   },
   {
    "duration": 5,
    "start_time": "2023-05-12T09:24:25.961Z"
   },
   {
    "duration": 4,
    "start_time": "2023-05-12T09:24:57.675Z"
   },
   {
    "duration": 4,
    "start_time": "2023-05-12T09:25:09.354Z"
   },
   {
    "duration": 8,
    "start_time": "2023-05-12T09:25:41.017Z"
   },
   {
    "duration": 4,
    "start_time": "2023-05-12T09:26:22.539Z"
   },
   {
    "duration": 759,
    "start_time": "2023-05-12T09:26:22.545Z"
   },
   {
    "duration": 5,
    "start_time": "2023-05-12T09:26:23.305Z"
   },
   {
    "duration": 741,
    "start_time": "2023-05-12T09:26:23.311Z"
   },
   {
    "duration": 7,
    "start_time": "2023-05-12T09:26:24.056Z"
   },
   {
    "duration": 234,
    "start_time": "2023-05-12T09:26:24.065Z"
   },
   {
    "duration": 97,
    "start_time": "2023-05-12T09:26:24.301Z"
   },
   {
    "duration": 208,
    "start_time": "2023-05-12T09:26:24.399Z"
   },
   {
    "duration": 1815,
    "start_time": "2023-05-12T09:26:24.609Z"
   },
   {
    "duration": 133,
    "start_time": "2023-05-12T09:26:26.426Z"
   },
   {
    "duration": 24,
    "start_time": "2023-05-12T09:26:26.560Z"
   },
   {
    "duration": 14,
    "start_time": "2023-05-12T09:26:45.410Z"
   },
   {
    "duration": 6,
    "start_time": "2023-05-12T09:27:16.448Z"
   },
   {
    "duration": 19,
    "start_time": "2023-05-12T09:28:28.833Z"
   },
   {
    "duration": 26,
    "start_time": "2023-05-12T09:30:51.471Z"
   },
   {
    "duration": 23,
    "start_time": "2023-05-12T09:32:53.714Z"
   },
   {
    "duration": 17,
    "start_time": "2023-05-12T09:35:49.861Z"
   },
   {
    "duration": 21,
    "start_time": "2023-05-12T09:36:42.213Z"
   },
   {
    "duration": 14,
    "start_time": "2023-05-12T09:39:13.978Z"
   },
   {
    "duration": 122,
    "start_time": "2023-05-12T09:39:28.122Z"
   },
   {
    "duration": 22,
    "start_time": "2023-05-12T09:39:29.861Z"
   },
   {
    "duration": 14,
    "start_time": "2023-05-12T09:40:52.646Z"
   },
   {
    "duration": 17,
    "start_time": "2023-05-12T09:41:09.557Z"
   },
   {
    "duration": 6,
    "start_time": "2023-05-12T09:41:27.926Z"
   },
   {
    "duration": 15,
    "start_time": "2023-05-12T09:41:39.214Z"
   },
   {
    "duration": 14,
    "start_time": "2023-05-12T09:41:55.636Z"
   },
   {
    "duration": 5,
    "start_time": "2023-05-12T09:42:40.918Z"
   },
   {
    "duration": 793,
    "start_time": "2023-05-12T09:42:40.926Z"
   },
   {
    "duration": 5,
    "start_time": "2023-05-12T09:42:41.721Z"
   },
   {
    "duration": 820,
    "start_time": "2023-05-12T09:42:41.728Z"
   },
   {
    "duration": 10,
    "start_time": "2023-05-12T09:42:42.550Z"
   },
   {
    "duration": 239,
    "start_time": "2023-05-12T09:42:42.561Z"
   },
   {
    "duration": 112,
    "start_time": "2023-05-12T09:42:42.802Z"
   },
   {
    "duration": 237,
    "start_time": "2023-05-12T09:42:42.916Z"
   },
   {
    "duration": 2102,
    "start_time": "2023-05-12T09:42:43.155Z"
   },
   {
    "duration": 21,
    "start_time": "2023-05-12T09:42:45.258Z"
   },
   {
    "duration": 18,
    "start_time": "2023-05-12T09:42:45.281Z"
   },
   {
    "duration": 103,
    "start_time": "2023-05-12T09:42:45.300Z"
   },
   {
    "duration": 332,
    "start_time": "2023-05-12T09:43:29.730Z"
   },
   {
    "duration": 365,
    "start_time": "2023-05-12T09:43:36.618Z"
   },
   {
    "duration": 64,
    "start_time": "2023-05-12T09:43:49.586Z"
   },
   {
    "duration": 30650,
    "start_time": "2023-05-12T09:43:54.274Z"
   },
   {
    "duration": 45,
    "start_time": "2023-05-12T10:04:03.501Z"
   },
   {
    "duration": 4,
    "start_time": "2023-05-12T10:07:09.881Z"
   },
   {
    "duration": 863,
    "start_time": "2023-05-12T10:07:09.888Z"
   },
   {
    "duration": 5,
    "start_time": "2023-05-12T10:07:10.753Z"
   },
   {
    "duration": 767,
    "start_time": "2023-05-12T10:07:10.759Z"
   },
   {
    "duration": 7,
    "start_time": "2023-05-12T10:07:11.529Z"
   },
   {
    "duration": 232,
    "start_time": "2023-05-12T10:07:11.537Z"
   },
   {
    "duration": 104,
    "start_time": "2023-05-12T10:07:11.772Z"
   },
   {
    "duration": 216,
    "start_time": "2023-05-12T10:07:11.878Z"
   },
   {
    "duration": 117,
    "start_time": "2023-05-12T10:07:12.096Z"
   },
   {
    "duration": 2068,
    "start_time": "2023-05-12T10:07:12.214Z"
   },
   {
    "duration": 22,
    "start_time": "2023-05-12T10:07:14.285Z"
   },
   {
    "duration": 20,
    "start_time": "2023-05-12T10:07:14.309Z"
   },
   {
    "duration": 67,
    "start_time": "2023-05-12T10:07:14.331Z"
   },
   {
    "duration": 350,
    "start_time": "2023-05-12T10:07:20.832Z"
   },
   {
    "duration": 358,
    "start_time": "2023-05-12T10:07:23.162Z"
   },
   {
    "duration": 57,
    "start_time": "2023-05-12T10:07:25.422Z"
   },
   {
    "duration": 702066,
    "start_time": "2023-05-12T10:07:27.006Z"
   },
   {
    "duration": 31331,
    "start_time": "2023-05-12T10:21:34.163Z"
   },
   {
    "duration": 2312,
    "start_time": "2023-05-12T11:42:35.074Z"
   },
   {
    "duration": 972,
    "start_time": "2023-05-12T11:42:37.389Z"
   },
   {
    "duration": 8,
    "start_time": "2023-05-12T11:42:38.363Z"
   },
   {
    "duration": 1087,
    "start_time": "2023-05-12T11:42:38.374Z"
   },
   {
    "duration": 10,
    "start_time": "2023-05-12T11:42:39.462Z"
   },
   {
    "duration": 302,
    "start_time": "2023-05-12T11:42:39.474Z"
   },
   {
    "duration": 107,
    "start_time": "2023-05-12T11:42:39.778Z"
   },
   {
    "duration": 333,
    "start_time": "2023-05-12T11:42:39.887Z"
   },
   {
    "duration": 176,
    "start_time": "2023-05-12T11:42:40.223Z"
   },
   {
    "duration": 2738,
    "start_time": "2023-05-12T11:42:40.402Z"
   },
   {
    "duration": 32,
    "start_time": "2023-05-12T11:42:43.142Z"
   },
   {
    "duration": 26,
    "start_time": "2023-05-12T11:42:43.176Z"
   },
   {
    "duration": 67,
    "start_time": "2023-05-12T11:42:43.204Z"
   },
   {
    "duration": 19,
    "start_time": "2023-05-12T11:42:43.273Z"
   },
   {
    "duration": 635,
    "start_time": "2023-05-12T11:42:43.294Z"
   },
   {
    "duration": 633,
    "start_time": "2023-05-12T11:42:43.932Z"
   },
   {
    "duration": 113,
    "start_time": "2023-05-12T11:42:44.569Z"
   },
   {
    "duration": 24,
    "start_time": "2023-05-12T11:43:38.657Z"
   },
   {
    "duration": 21,
    "start_time": "2023-05-12T11:44:08.096Z"
   },
   {
    "duration": 26,
    "start_time": "2023-05-12T11:44:23.985Z"
   },
   {
    "duration": 24,
    "start_time": "2023-05-12T11:44:59.776Z"
   },
   {
    "duration": 21,
    "start_time": "2023-05-12T11:45:16.156Z"
   },
   {
    "duration": 19,
    "start_time": "2023-05-12T11:45:49.305Z"
   },
   {
    "duration": 150,
    "start_time": "2023-05-12T11:46:41.778Z"
   },
   {
    "duration": 6,
    "start_time": "2023-05-12T11:47:53.800Z"
   },
   {
    "duration": 229,
    "start_time": "2023-05-12T11:51:35.307Z"
   },
   {
    "duration": 1606,
    "start_time": "2023-05-12T11:53:11.440Z"
   },
   {
    "duration": 1020,
    "start_time": "2023-05-12T11:53:13.048Z"
   },
   {
    "duration": 8,
    "start_time": "2023-05-12T11:53:14.070Z"
   },
   {
    "duration": 1109,
    "start_time": "2023-05-12T11:53:14.081Z"
   },
   {
    "duration": 9,
    "start_time": "2023-05-12T11:53:15.193Z"
   },
   {
    "duration": 372,
    "start_time": "2023-05-12T11:53:15.205Z"
   },
   {
    "duration": 102,
    "start_time": "2023-05-12T11:53:15.579Z"
   },
   {
    "duration": 384,
    "start_time": "2023-05-12T11:53:15.683Z"
   },
   {
    "duration": 167,
    "start_time": "2023-05-12T11:53:16.069Z"
   },
   {
    "duration": 2260,
    "start_time": "2023-05-12T11:53:16.239Z"
   },
   {
    "duration": 56,
    "start_time": "2023-05-12T11:53:18.502Z"
   },
   {
    "duration": 40,
    "start_time": "2023-05-12T11:53:18.560Z"
   },
   {
    "duration": 94,
    "start_time": "2023-05-12T11:53:18.602Z"
   },
   {
    "duration": 16,
    "start_time": "2023-05-12T11:53:18.699Z"
   },
   {
    "duration": 1017,
    "start_time": "2023-05-12T11:53:18.717Z"
   },
   {
    "duration": 820,
    "start_time": "2023-05-12T11:53:19.736Z"
   },
   {
    "duration": 162,
    "start_time": "2023-05-12T11:53:20.559Z"
   },
   {
    "duration": 217,
    "start_time": "2023-05-12T11:53:55.596Z"
   },
   {
    "duration": 145,
    "start_time": "2023-05-12T11:54:11.963Z"
   },
   {
    "duration": 13337,
    "start_time": "2023-05-12T11:54:13.476Z"
   },
   {
    "duration": 5,
    "start_time": "2023-05-12T11:55:00.889Z"
   },
   {
    "duration": 1122,
    "start_time": "2023-05-12T11:55:00.897Z"
   },
   {
    "duration": 6,
    "start_time": "2023-05-12T11:55:02.021Z"
   },
   {
    "duration": 964,
    "start_time": "2023-05-12T11:55:02.030Z"
   },
   {
    "duration": 8,
    "start_time": "2023-05-12T11:55:02.997Z"
   },
   {
    "duration": 330,
    "start_time": "2023-05-12T11:55:03.006Z"
   },
   {
    "duration": 106,
    "start_time": "2023-05-12T11:55:03.337Z"
   },
   {
    "duration": 399,
    "start_time": "2023-05-12T11:55:03.445Z"
   },
   {
    "duration": 243,
    "start_time": "2023-05-12T11:55:03.846Z"
   },
   {
    "duration": 2442,
    "start_time": "2023-05-12T11:55:04.092Z"
   },
   {
    "duration": 47,
    "start_time": "2023-05-12T11:55:06.537Z"
   },
   {
    "duration": 34,
    "start_time": "2023-05-12T11:55:06.585Z"
   },
   {
    "duration": 80,
    "start_time": "2023-05-12T11:55:06.620Z"
   },
   {
    "duration": 17,
    "start_time": "2023-05-12T11:55:06.702Z"
   },
   {
    "duration": 1165,
    "start_time": "2023-05-12T11:55:06.721Z"
   },
   {
    "duration": 912,
    "start_time": "2023-05-12T11:55:07.888Z"
   },
   {
    "duration": 116,
    "start_time": "2023-05-12T11:55:08.803Z"
   },
   {
    "duration": 151,
    "start_time": "2023-05-12T11:55:43.902Z"
   },
   {
    "duration": 3153,
    "start_time": "2023-05-12T11:56:13.334Z"
   },
   {
    "duration": 1334,
    "start_time": "2023-05-12T11:56:16.490Z"
   },
   {
    "duration": 5,
    "start_time": "2023-05-12T11:56:17.826Z"
   },
   {
    "duration": 925,
    "start_time": "2023-05-12T11:56:17.834Z"
   },
   {
    "duration": 8,
    "start_time": "2023-05-12T11:56:18.761Z"
   },
   {
    "duration": 315,
    "start_time": "2023-05-12T11:56:18.772Z"
   },
   {
    "duration": 86,
    "start_time": "2023-05-12T11:56:19.089Z"
   },
   {
    "duration": 400,
    "start_time": "2023-05-12T11:56:19.177Z"
   },
   {
    "duration": 162,
    "start_time": "2023-05-12T11:56:19.579Z"
   },
   {
    "duration": 2203,
    "start_time": "2023-05-12T11:56:19.744Z"
   },
   {
    "duration": 36,
    "start_time": "2023-05-12T11:56:21.949Z"
   },
   {
    "duration": 32,
    "start_time": "2023-05-12T11:56:21.987Z"
   },
   {
    "duration": 75,
    "start_time": "2023-05-12T11:56:22.021Z"
   },
   {
    "duration": 18,
    "start_time": "2023-05-12T11:56:22.098Z"
   },
   {
    "duration": 959,
    "start_time": "2023-05-12T11:56:22.118Z"
   },
   {
    "duration": 740,
    "start_time": "2023-05-12T11:56:23.079Z"
   },
   {
    "duration": 126,
    "start_time": "2023-05-12T11:56:23.822Z"
   },
   {
    "duration": 107,
    "start_time": "2023-05-12T12:00:49.348Z"
   },
   {
    "duration": 2725,
    "start_time": "2023-05-12T12:01:01.035Z"
   },
   {
    "duration": 1538,
    "start_time": "2023-05-12T12:01:03.767Z"
   },
   {
    "duration": 4,
    "start_time": "2023-05-12T12:01:05.307Z"
   },
   {
    "duration": 1066,
    "start_time": "2023-05-12T12:01:05.312Z"
   },
   {
    "duration": 9,
    "start_time": "2023-05-12T12:01:06.382Z"
   },
   {
    "duration": 333,
    "start_time": "2023-05-12T12:01:06.393Z"
   },
   {
    "duration": 129,
    "start_time": "2023-05-12T12:01:06.728Z"
   },
   {
    "duration": 409,
    "start_time": "2023-05-12T12:01:06.859Z"
   },
   {
    "duration": 163,
    "start_time": "2023-05-12T12:01:07.270Z"
   },
   {
    "duration": 2309,
    "start_time": "2023-05-12T12:01:07.435Z"
   },
   {
    "duration": 52,
    "start_time": "2023-05-12T12:01:09.746Z"
   },
   {
    "duration": 45,
    "start_time": "2023-05-12T12:01:09.801Z"
   },
   {
    "duration": 107,
    "start_time": "2023-05-12T12:01:09.857Z"
   },
   {
    "duration": 20,
    "start_time": "2023-05-12T12:01:09.967Z"
   },
   {
    "duration": 983,
    "start_time": "2023-05-12T12:01:09.990Z"
   },
   {
    "duration": 755,
    "start_time": "2023-05-12T12:01:10.975Z"
   },
   {
    "duration": 136,
    "start_time": "2023-05-12T12:01:11.734Z"
   },
   {
    "duration": 2280,
    "start_time": "2023-05-12T12:05:48.922Z"
   },
   {
    "duration": 1356,
    "start_time": "2023-05-12T12:05:51.204Z"
   },
   {
    "duration": 8,
    "start_time": "2023-05-12T12:05:52.563Z"
   },
   {
    "duration": 1315,
    "start_time": "2023-05-12T12:05:52.575Z"
   },
   {
    "duration": 10,
    "start_time": "2023-05-12T12:05:53.896Z"
   },
   {
    "duration": 399,
    "start_time": "2023-05-12T12:05:53.908Z"
   },
   {
    "duration": 119,
    "start_time": "2023-05-12T12:05:54.309Z"
   },
   {
    "duration": 412,
    "start_time": "2023-05-12T12:05:54.430Z"
   },
   {
    "duration": 154,
    "start_time": "2023-05-12T12:05:54.844Z"
   },
   {
    "duration": 2206,
    "start_time": "2023-05-12T12:05:55.001Z"
   },
   {
    "duration": 46,
    "start_time": "2023-05-12T12:05:57.210Z"
   },
   {
    "duration": 34,
    "start_time": "2023-05-12T12:05:57.258Z"
   },
   {
    "duration": 82,
    "start_time": "2023-05-12T12:05:57.294Z"
   },
   {
    "duration": 15,
    "start_time": "2023-05-12T12:05:57.378Z"
   },
   {
    "duration": 970,
    "start_time": "2023-05-12T12:05:57.395Z"
   },
   {
    "duration": 787,
    "start_time": "2023-05-12T12:05:58.367Z"
   },
   {
    "duration": 156,
    "start_time": "2023-05-12T12:05:59.156Z"
   },
   {
    "duration": 116,
    "start_time": "2023-05-12T12:09:49.439Z"
   },
   {
    "duration": 2074,
    "start_time": "2023-05-12T12:10:04.976Z"
   },
   {
    "duration": 1286,
    "start_time": "2023-05-12T12:10:07.053Z"
   },
   {
    "duration": 7,
    "start_time": "2023-05-12T12:10:08.342Z"
   },
   {
    "duration": 930,
    "start_time": "2023-05-12T12:10:08.351Z"
   },
   {
    "duration": 8,
    "start_time": "2023-05-12T12:10:09.284Z"
   },
   {
    "duration": 316,
    "start_time": "2023-05-12T12:10:09.293Z"
   },
   {
    "duration": 117,
    "start_time": "2023-05-12T12:10:09.611Z"
   },
   {
    "duration": 330,
    "start_time": "2023-05-12T12:10:09.730Z"
   },
   {
    "duration": 199,
    "start_time": "2023-05-12T12:10:10.062Z"
   },
   {
    "duration": 2221,
    "start_time": "2023-05-12T12:10:10.263Z"
   },
   {
    "duration": 50,
    "start_time": "2023-05-12T12:10:12.486Z"
   },
   {
    "duration": 40,
    "start_time": "2023-05-12T12:10:12.539Z"
   },
   {
    "duration": 78,
    "start_time": "2023-05-12T12:10:12.582Z"
   },
   {
    "duration": 20,
    "start_time": "2023-05-12T12:10:12.663Z"
   },
   {
    "duration": 958,
    "start_time": "2023-05-12T12:10:12.686Z"
   },
   {
    "duration": 891,
    "start_time": "2023-05-12T12:10:13.647Z"
   },
   {
    "duration": 128,
    "start_time": "2023-05-12T12:10:14.541Z"
   },
   {
    "duration": 167,
    "start_time": "2023-05-12T12:14:07.856Z"
   },
   {
    "duration": 2185,
    "start_time": "2023-05-12T12:14:36.181Z"
   },
   {
    "duration": 1299,
    "start_time": "2023-05-12T12:14:38.368Z"
   },
   {
    "duration": 6,
    "start_time": "2023-05-12T12:14:39.669Z"
   },
   {
    "duration": 851,
    "start_time": "2023-05-12T12:14:39.679Z"
   },
   {
    "duration": 7,
    "start_time": "2023-05-12T12:14:40.532Z"
   },
   {
    "duration": 312,
    "start_time": "2023-05-12T12:14:40.542Z"
   },
   {
    "duration": 125,
    "start_time": "2023-05-12T12:14:40.859Z"
   },
   {
    "duration": 383,
    "start_time": "2023-05-12T12:14:40.986Z"
   },
   {
    "duration": 185,
    "start_time": "2023-05-12T12:14:41.372Z"
   },
   {
    "duration": 2668,
    "start_time": "2023-05-12T12:14:41.560Z"
   },
   {
    "duration": 41,
    "start_time": "2023-05-12T12:14:44.231Z"
   },
   {
    "duration": 32,
    "start_time": "2023-05-12T12:14:44.274Z"
   },
   {
    "duration": 96,
    "start_time": "2023-05-12T12:14:44.308Z"
   },
   {
    "duration": 20,
    "start_time": "2023-05-12T12:14:44.406Z"
   },
   {
    "duration": 995,
    "start_time": "2023-05-12T12:14:44.428Z"
   },
   {
    "duration": 742,
    "start_time": "2023-05-12T12:14:45.425Z"
   },
   {
    "duration": 122,
    "start_time": "2023-05-12T12:14:46.170Z"
   },
   {
    "duration": 2004,
    "start_time": "2023-05-12T12:20:44.016Z"
   },
   {
    "duration": 1310,
    "start_time": "2023-05-12T12:20:46.022Z"
   },
   {
    "duration": 6,
    "start_time": "2023-05-12T12:20:47.334Z"
   },
   {
    "duration": 842,
    "start_time": "2023-05-12T12:20:47.342Z"
   },
   {
    "duration": 8,
    "start_time": "2023-05-12T12:20:48.186Z"
   },
   {
    "duration": 305,
    "start_time": "2023-05-12T12:20:48.197Z"
   },
   {
    "duration": 176,
    "start_time": "2023-05-12T12:20:50.736Z"
   },
   {
    "duration": 288,
    "start_time": "2023-05-12T12:20:54.080Z"
   },
   {
    "duration": 119,
    "start_time": "2023-05-12T12:20:55.431Z"
   },
   {
    "duration": 2168,
    "start_time": "2023-05-12T12:20:56.935Z"
   },
   {
    "duration": 26,
    "start_time": "2023-05-12T12:20:59.106Z"
   },
   {
    "duration": 25,
    "start_time": "2023-05-12T12:20:59.134Z"
   },
   {
    "duration": 93,
    "start_time": "2023-05-12T12:21:00.963Z"
   },
   {
    "duration": 13,
    "start_time": "2023-05-12T12:21:05.400Z"
   },
   {
    "duration": 732,
    "start_time": "2023-05-12T12:21:10.464Z"
   },
   {
    "duration": 608,
    "start_time": "2023-05-12T12:21:12.504Z"
   },
   {
    "duration": 89,
    "start_time": "2023-05-12T12:21:15.895Z"
   },
   {
    "duration": 1588780,
    "start_time": "2023-05-12T12:21:19.865Z"
   },
   {
    "duration": 55196,
    "start_time": "2023-05-12T12:49:23.973Z"
   },
   {
    "duration": 164,
    "start_time": "2023-05-12T12:51:17.462Z"
   },
   {
    "duration": 2314,
    "start_time": "2023-05-12T15:44:29.911Z"
   },
   {
    "duration": 1168,
    "start_time": "2023-05-12T15:44:32.234Z"
   },
   {
    "duration": 16,
    "start_time": "2023-05-12T15:44:33.418Z"
   },
   {
    "duration": 1281,
    "start_time": "2023-05-12T15:44:33.444Z"
   },
   {
    "duration": 12,
    "start_time": "2023-05-12T15:44:34.729Z"
   },
   {
    "duration": 529,
    "start_time": "2023-05-12T15:44:34.742Z"
   },
   {
    "duration": 243,
    "start_time": "2023-05-12T15:44:35.275Z"
   },
   {
    "duration": 325,
    "start_time": "2023-05-12T15:44:35.520Z"
   },
   {
    "duration": 198,
    "start_time": "2023-05-12T15:44:35.847Z"
   },
   {
    "duration": 2731,
    "start_time": "2023-05-12T15:44:36.047Z"
   },
   {
    "duration": 60,
    "start_time": "2023-05-12T15:44:38.780Z"
   },
   {
    "duration": 49,
    "start_time": "2023-05-12T15:44:38.842Z"
   },
   {
    "duration": 79,
    "start_time": "2023-05-12T15:44:38.903Z"
   },
   {
    "duration": 30,
    "start_time": "2023-05-12T15:44:38.984Z"
   },
   {
    "duration": 688,
    "start_time": "2023-05-12T15:44:39.015Z"
   },
   {
    "duration": 641,
    "start_time": "2023-05-12T15:44:39.705Z"
   },
   {
    "duration": 128,
    "start_time": "2023-05-12T15:44:40.347Z"
   },
   {
    "duration": 290,
    "start_time": "2023-05-12T15:44:40.477Z"
   },
   {
    "duration": 6,
    "start_time": "2023-05-12T15:44:40.769Z"
   },
   {
    "duration": 68084,
    "start_time": "2023-05-12T15:45:22.515Z"
   },
   {
    "duration": 158,
    "start_time": "2023-05-12T15:47:44.808Z"
   },
   {
    "duration": 4790983,
    "start_time": "2023-05-12T15:48:10.403Z"
   },
   {
    "duration": 1476,
    "start_time": "2023-05-13T04:18:27.977Z"
   },
   {
    "duration": 989,
    "start_time": "2023-05-13T04:18:29.455Z"
   },
   {
    "duration": 4,
    "start_time": "2023-05-13T04:18:30.446Z"
   },
   {
    "duration": 798,
    "start_time": "2023-05-13T04:18:30.452Z"
   },
   {
    "duration": 6,
    "start_time": "2023-05-13T04:18:31.253Z"
   },
   {
    "duration": 291,
    "start_time": "2023-05-13T04:18:31.261Z"
   },
   {
    "duration": 152,
    "start_time": "2023-05-13T04:18:31.554Z"
   },
   {
    "duration": 206,
    "start_time": "2023-05-13T04:18:31.708Z"
   },
   {
    "duration": 111,
    "start_time": "2023-05-13T04:18:31.915Z"
   },
   {
    "duration": 1864,
    "start_time": "2023-05-13T04:18:32.028Z"
   },
   {
    "duration": 26,
    "start_time": "2023-05-13T04:18:33.894Z"
   },
   {
    "duration": 24,
    "start_time": "2023-05-13T04:18:33.921Z"
   },
   {
    "duration": 52,
    "start_time": "2023-05-13T04:18:33.947Z"
   },
   {
    "duration": 17,
    "start_time": "2023-05-13T04:18:34.002Z"
   },
   {
    "duration": 439,
    "start_time": "2023-05-13T04:18:34.021Z"
   },
   {
    "duration": 517,
    "start_time": "2023-05-13T04:18:34.461Z"
   },
   {
    "duration": 83,
    "start_time": "2023-05-13T04:18:34.979Z"
   },
   {
    "duration": 387808,
    "start_time": "2023-05-13T04:18:53.043Z"
   },
   {
    "duration": 1033425,
    "start_time": "2023-05-13T04:39:36.348Z"
   },
   {
    "duration": 52,
    "start_time": "2023-05-13T04:56:49.775Z"
   },
   {
    "duration": 127710,
    "start_time": "2023-05-13T04:59:19.151Z"
   },
   {
    "duration": 320,
    "start_time": "2023-05-13T05:01:31.969Z"
   },
   {
    "duration": 32,
    "start_time": "2023-05-13T05:01:37.311Z"
   },
   {
    "duration": 2381,
    "start_time": "2023-05-13T05:01:47.351Z"
   },
   {
    "duration": 48,
    "start_time": "2023-05-13T05:01:57.015Z"
   },
   {
    "duration": 8,
    "start_time": "2023-05-13T05:02:17.543Z"
   },
   {
    "duration": 1581,
    "start_time": "2023-05-13T05:39:08.669Z"
   },
   {
    "duration": 872,
    "start_time": "2023-05-13T05:39:10.252Z"
   },
   {
    "duration": 6,
    "start_time": "2023-05-13T05:39:11.127Z"
   },
   {
    "duration": 841,
    "start_time": "2023-05-13T05:39:11.136Z"
   },
   {
    "duration": 9,
    "start_time": "2023-05-13T05:39:11.979Z"
   },
   {
    "duration": 429,
    "start_time": "2023-05-13T05:39:11.990Z"
   },
   {
    "duration": 239,
    "start_time": "2023-05-13T05:39:12.422Z"
   },
   {
    "duration": 293,
    "start_time": "2023-05-13T05:39:12.663Z"
   },
   {
    "duration": 207,
    "start_time": "2023-05-13T05:39:12.958Z"
   },
   {
    "duration": 2176,
    "start_time": "2023-05-13T05:39:13.168Z"
   },
   {
    "duration": 25,
    "start_time": "2023-05-13T05:39:15.346Z"
   },
   {
    "duration": 24,
    "start_time": "2023-05-13T05:39:15.372Z"
   },
   {
    "duration": 67,
    "start_time": "2023-05-13T05:39:15.398Z"
   },
   {
    "duration": 13,
    "start_time": "2023-05-13T05:39:15.466Z"
   },
   {
    "duration": 495,
    "start_time": "2023-05-13T05:39:15.480Z"
   },
   {
    "duration": 558,
    "start_time": "2023-05-13T05:39:15.977Z"
   },
   {
    "duration": 92,
    "start_time": "2023-05-13T05:39:16.537Z"
   },
   {
    "duration": 115228,
    "start_time": "2023-05-13T05:39:16.631Z"
   },
   {
    "duration": 398,
    "start_time": "2023-05-13T05:41:11.861Z"
   },
   {
    "duration": 2220,
    "start_time": "2023-05-13T05:41:12.260Z"
   },
   {
    "duration": 52,
    "start_time": "2023-05-13T05:41:14.482Z"
   },
   {
    "duration": 6,
    "start_time": "2023-05-13T05:41:14.537Z"
   },
   {
    "duration": 1704,
    "start_time": "2023-05-13T16:25:53.176Z"
   },
   {
    "duration": 3847,
    "start_time": "2023-05-13T16:25:58.180Z"
   },
   {
    "duration": 5,
    "start_time": "2023-05-13T16:26:02.029Z"
   },
   {
    "duration": 951,
    "start_time": "2023-05-13T16:26:02.035Z"
   },
   {
    "duration": 18,
    "start_time": "2023-05-13T16:26:02.987Z"
   },
   {
    "duration": 325,
    "start_time": "2023-05-13T16:26:03.446Z"
   },
   {
    "duration": 184,
    "start_time": "2023-05-13T16:26:05.242Z"
   },
   {
    "duration": 229,
    "start_time": "2023-05-13T16:26:07.021Z"
   },
   {
    "duration": 132,
    "start_time": "2023-05-13T16:26:08.873Z"
   },
   {
    "duration": 2020,
    "start_time": "2023-05-13T16:26:10.637Z"
   },
   {
    "duration": 24,
    "start_time": "2023-05-13T16:26:12.659Z"
   },
   {
    "duration": 29,
    "start_time": "2023-05-13T16:26:12.684Z"
   },
   {
    "duration": 5,
    "start_time": "2023-05-13T16:27:12.966Z"
   },
   {
    "duration": 25,
    "start_time": "2023-05-13T16:28:21.147Z"
   },
   {
    "duration": 23,
    "start_time": "2023-05-13T16:29:52.121Z"
   },
   {
    "duration": 51,
    "start_time": "2023-05-13T16:30:54.348Z"
   },
   {
    "duration": 136,
    "start_time": "2023-05-13T16:33:51.990Z"
   },
   {
    "duration": 10,
    "start_time": "2023-05-13T16:34:25.552Z"
   },
   {
    "duration": 10,
    "start_time": "2023-05-13T16:34:33.055Z"
   },
   {
    "duration": 100,
    "start_time": "2023-05-13T16:34:40.136Z"
   },
   {
    "duration": 521,
    "start_time": "2023-05-13T16:34:46.703Z"
   },
   {
    "duration": 96,
    "start_time": "2023-05-13T16:35:14.453Z"
   },
   {
    "duration": 133,
    "start_time": "2023-05-13T16:35:43.916Z"
   },
   {
    "duration": 2,
    "start_time": "2023-05-13T16:56:18.063Z"
   },
   {
    "duration": 1084330,
    "start_time": "2023-05-13T17:15:10.492Z"
   },
   {
    "duration": 10,
    "start_time": "2023-05-13T17:45:01.089Z"
   },
   {
    "duration": 3,
    "start_time": "2023-05-13T17:45:09.158Z"
   },
   {
    "duration": 796,
    "start_time": "2023-05-13T17:45:17.144Z"
   },
   {
    "duration": 166,
    "start_time": "2023-05-13T17:45:30.728Z"
   },
   {
    "duration": 4608,
    "start_time": "2023-05-13T17:46:00.945Z"
   },
   {
    "duration": 450741,
    "start_time": "2023-05-13T17:46:41.679Z"
   },
   {
    "duration": 142,
    "start_time": "2023-05-13T17:57:10.095Z"
   },
   {
    "duration": 2841204,
    "start_time": "2023-05-13T17:57:19.414Z"
   },
   {
    "duration": 1136612,
    "start_time": "2023-05-13T18:45:15.436Z"
   },
   {
    "duration": 2100,
    "start_time": "2023-05-13T19:08:42.566Z"
   },
   {
    "duration": 43,
    "start_time": "2023-05-13T19:09:27.553Z"
   },
   {
    "duration": 47,
    "start_time": "2023-05-13T19:10:25.465Z"
   },
   {
    "duration": 11,
    "start_time": "2023-05-13T19:11:17.633Z"
   },
   {
    "duration": 10,
    "start_time": "2023-05-13T19:11:25.459Z"
   },
   {
    "duration": 4,
    "start_time": "2023-05-13T19:11:33.679Z"
   },
   {
    "duration": 3,
    "start_time": "2023-05-13T19:13:42.994Z"
   },
   {
    "duration": 45122,
    "start_time": "2023-05-13T19:13:46.080Z"
   },
   {
    "duration": 298,
    "start_time": "2023-05-13T19:14:31.205Z"
   },
   {
    "duration": 4,
    "start_time": "2023-05-13T19:14:39.929Z"
   },
   {
    "duration": 3848,
    "start_time": "2023-05-13T19:15:21.212Z"
   },
   {
    "duration": 3742,
    "start_time": "2023-05-13T19:16:10.923Z"
   },
   {
    "duration": 66,
    "start_time": "2023-05-13T19:16:23.810Z"
   },
   {
    "duration": 5,
    "start_time": "2023-05-13T19:16:26.449Z"
   },
   {
    "duration": 3,
    "start_time": "2023-05-13T19:16:59.908Z"
   },
   {
    "duration": 9,
    "start_time": "2023-05-13T19:19:31.986Z"
   },
   {
    "duration": 3,
    "start_time": "2023-05-13T19:19:41.755Z"
   },
   {
    "duration": 3,
    "start_time": "2023-05-13T19:19:45.221Z"
   },
   {
    "duration": 8,
    "start_time": "2023-05-13T19:19:50.587Z"
   },
   {
    "duration": 8,
    "start_time": "2023-05-13T19:20:50.276Z"
   },
   {
    "duration": 5,
    "start_time": "2023-05-13T19:21:34.090Z"
   },
   {
    "duration": 3,
    "start_time": "2023-05-13T19:21:43.266Z"
   },
   {
    "duration": 3,
    "start_time": "2023-05-13T19:21:45.980Z"
   },
   {
    "duration": 77,
    "start_time": "2023-05-13T19:22:59.789Z"
   },
   {
    "duration": 81,
    "start_time": "2023-05-13T19:23:08.444Z"
   },
   {
    "duration": 116,
    "start_time": "2023-05-13T19:23:56.573Z"
   },
   {
    "duration": 78,
    "start_time": "2023-05-13T19:24:08.144Z"
   },
   {
    "duration": 9,
    "start_time": "2023-05-13T19:25:13.452Z"
   },
   {
    "duration": 4,
    "start_time": "2023-05-13T19:26:00.523Z"
   },
   {
    "duration": 3,
    "start_time": "2023-05-13T19:26:04.670Z"
   },
   {
    "duration": 3,
    "start_time": "2023-05-13T19:26:08.011Z"
   },
   {
    "duration": 9,
    "start_time": "2023-05-13T19:26:10.142Z"
   },
   {
    "duration": 1510,
    "start_time": "2023-05-13T19:34:44.641Z"
   },
   {
    "duration": 960,
    "start_time": "2023-05-13T19:34:46.153Z"
   },
   {
    "duration": 5,
    "start_time": "2023-05-13T19:34:47.115Z"
   },
   {
    "duration": 993,
    "start_time": "2023-05-13T19:34:47.121Z"
   },
   {
    "duration": 6,
    "start_time": "2023-05-13T19:34:48.116Z"
   },
   {
    "duration": 334,
    "start_time": "2023-05-13T19:34:48.124Z"
   },
   {
    "duration": 202,
    "start_time": "2023-05-13T19:34:48.460Z"
   },
   {
    "duration": 246,
    "start_time": "2023-05-13T19:34:48.664Z"
   },
   {
    "duration": 128,
    "start_time": "2023-05-13T19:34:48.912Z"
   },
   {
    "duration": 2130,
    "start_time": "2023-05-13T19:34:49.043Z"
   },
   {
    "duration": 28,
    "start_time": "2023-05-13T19:34:51.176Z"
   },
   {
    "duration": 30,
    "start_time": "2023-05-13T19:34:51.206Z"
   },
   {
    "duration": 25,
    "start_time": "2023-05-13T19:34:51.238Z"
   },
   {
    "duration": 56,
    "start_time": "2023-05-13T19:34:51.264Z"
   },
   {
    "duration": 12,
    "start_time": "2023-05-13T19:34:51.321Z"
   },
   {
    "duration": 138,
    "start_time": "2023-05-13T19:34:51.335Z"
   },
   {
    "duration": 552,
    "start_time": "2023-05-13T19:34:51.476Z"
   },
   {
    "duration": 95,
    "start_time": "2023-05-13T19:34:52.029Z"
   },
   {
    "duration": 3,
    "start_time": "2023-05-13T19:34:52.125Z"
   },
   {
    "duration": 747,
    "start_time": "2023-05-13T19:34:52.129Z"
   },
   {
    "duration": 151,
    "start_time": "2023-05-13T19:34:52.878Z"
   },
   {
    "duration": 2050,
    "start_time": "2023-05-13T19:34:53.031Z"
   },
   {
    "duration": 52,
    "start_time": "2023-05-13T19:34:55.083Z"
   },
   {
    "duration": 7,
    "start_time": "2023-05-13T19:34:55.138Z"
   },
   {
    "duration": 14,
    "start_time": "2023-05-13T19:34:55.147Z"
   },
   {
    "duration": 18854,
    "start_time": "2023-05-13T19:34:55.162Z"
   },
   {
    "duration": 298,
    "start_time": "2023-05-13T19:35:14.018Z"
   },
   {
    "duration": 5,
    "start_time": "2023-05-13T19:35:14.320Z"
   },
   {
    "duration": 11,
    "start_time": "2023-05-13T19:35:14.326Z"
   },
   {
    "duration": 3605,
    "start_time": "2023-05-13T19:35:14.338Z"
   },
   {
    "duration": 68,
    "start_time": "2023-05-13T19:35:17.945Z"
   },
   {
    "duration": 10,
    "start_time": "2023-05-13T19:35:18.015Z"
   },
   {
    "duration": 24,
    "start_time": "2023-05-13T19:35:18.027Z"
   },
   {
    "duration": 74,
    "start_time": "2023-05-13T19:35:18.052Z"
   },
   {
    "duration": 42,
    "start_time": "2023-05-13T19:35:18.128Z"
   },
   {
    "duration": 103,
    "start_time": "2023-05-13T19:35:18.171Z"
   },
   {
    "duration": 78,
    "start_time": "2023-05-13T19:45:42.983Z"
   },
   {
    "duration": 1739,
    "start_time": "2023-05-13T19:47:47.883Z"
   },
   {
    "duration": 1008,
    "start_time": "2023-05-13T19:47:49.625Z"
   },
   {
    "duration": 5,
    "start_time": "2023-05-13T19:47:50.635Z"
   },
   {
    "duration": 1106,
    "start_time": "2023-05-13T19:47:50.642Z"
   },
   {
    "duration": 7,
    "start_time": "2023-05-13T19:47:51.750Z"
   },
   {
    "duration": 369,
    "start_time": "2023-05-13T19:47:51.758Z"
   },
   {
    "duration": 233,
    "start_time": "2023-05-13T19:47:52.128Z"
   },
   {
    "duration": 291,
    "start_time": "2023-05-13T19:47:52.364Z"
   },
   {
    "duration": 162,
    "start_time": "2023-05-13T19:47:52.657Z"
   },
   {
    "duration": 2398,
    "start_time": "2023-05-13T19:47:52.822Z"
   },
   {
    "duration": 28,
    "start_time": "2023-05-13T19:47:55.222Z"
   },
   {
    "duration": 26,
    "start_time": "2023-05-13T19:47:55.252Z"
   },
   {
    "duration": 42,
    "start_time": "2023-05-13T19:47:55.280Z"
   },
   {
    "duration": 58,
    "start_time": "2023-05-13T19:47:55.328Z"
   },
   {
    "duration": 19,
    "start_time": "2023-05-13T19:47:55.387Z"
   },
   {
    "duration": 151,
    "start_time": "2023-05-13T19:47:55.410Z"
   },
   {
    "duration": 662,
    "start_time": "2023-05-13T19:47:55.563Z"
   },
   {
    "duration": 103,
    "start_time": "2023-05-13T19:47:56.227Z"
   },
   {
    "duration": 2,
    "start_time": "2023-05-13T19:47:56.332Z"
   },
   {
    "duration": 925,
    "start_time": "2023-05-13T19:47:56.336Z"
   },
   {
    "duration": 176,
    "start_time": "2023-05-13T19:47:57.263Z"
   },
   {
    "duration": 2351,
    "start_time": "2023-05-13T19:47:57.441Z"
   },
   {
    "duration": 54,
    "start_time": "2023-05-13T19:47:59.797Z"
   },
   {
    "duration": 5,
    "start_time": "2023-05-13T19:47:59.853Z"
   },
   {
    "duration": 13,
    "start_time": "2023-05-13T19:47:59.860Z"
   },
   {
    "duration": 70141,
    "start_time": "2023-05-13T19:47:59.875Z"
   },
   {
    "duration": 285,
    "start_time": "2023-05-13T19:49:10.022Z"
   },
   {
    "duration": 12,
    "start_time": "2023-05-13T19:49:10.317Z"
   },
   {
    "duration": 8,
    "start_time": "2023-05-13T19:49:10.331Z"
   },
   {
    "duration": 3623,
    "start_time": "2023-05-13T19:49:10.341Z"
   },
   {
    "duration": 91,
    "start_time": "2023-05-13T19:49:13.966Z"
   },
   {
    "duration": 4,
    "start_time": "2023-05-13T19:49:14.058Z"
   },
   {
    "duration": 7,
    "start_time": "2023-05-13T19:49:14.064Z"
   },
   {
    "duration": 13,
    "start_time": "2023-05-13T19:49:14.073Z"
   },
   {
    "duration": 36,
    "start_time": "2023-05-13T19:49:14.087Z"
   },
   {
    "duration": 94,
    "start_time": "2023-05-13T19:49:14.124Z"
   },
   {
    "duration": 9,
    "start_time": "2023-05-13T19:51:18.580Z"
   },
   {
    "duration": 70,
    "start_time": "2023-05-13T19:51:42.787Z"
   },
   {
    "duration": 1716,
    "start_time": "2023-05-13T19:52:20.536Z"
   },
   {
    "duration": 990,
    "start_time": "2023-05-13T19:52:22.254Z"
   },
   {
    "duration": 5,
    "start_time": "2023-05-13T19:52:23.245Z"
   },
   {
    "duration": 1075,
    "start_time": "2023-05-13T19:52:23.253Z"
   },
   {
    "duration": 7,
    "start_time": "2023-05-13T19:52:24.330Z"
   },
   {
    "duration": 387,
    "start_time": "2023-05-13T19:52:24.338Z"
   },
   {
    "duration": 217,
    "start_time": "2023-05-13T19:52:24.727Z"
   },
   {
    "duration": 287,
    "start_time": "2023-05-13T19:52:24.946Z"
   },
   {
    "duration": 152,
    "start_time": "2023-05-13T19:52:25.235Z"
   },
   {
    "duration": 2434,
    "start_time": "2023-05-13T19:52:25.392Z"
   },
   {
    "duration": 27,
    "start_time": "2023-05-13T19:52:27.828Z"
   },
   {
    "duration": 38,
    "start_time": "2023-05-13T19:52:27.857Z"
   },
   {
    "duration": 48,
    "start_time": "2023-05-13T19:52:27.897Z"
   },
   {
    "duration": 68,
    "start_time": "2023-05-13T19:52:27.948Z"
   },
   {
    "duration": 14,
    "start_time": "2023-05-13T19:52:28.018Z"
   },
   {
    "duration": 152,
    "start_time": "2023-05-13T19:52:28.033Z"
   },
   {
    "duration": 671,
    "start_time": "2023-05-13T19:52:28.187Z"
   },
   {
    "duration": 124,
    "start_time": "2023-05-13T19:52:28.861Z"
   },
   {
    "duration": 2,
    "start_time": "2023-05-13T19:52:28.988Z"
   },
   {
    "duration": 859,
    "start_time": "2023-05-13T19:52:29.000Z"
   },
   {
    "duration": 172,
    "start_time": "2023-05-13T19:52:29.861Z"
   },
   {
    "duration": 2585,
    "start_time": "2023-05-13T19:52:30.034Z"
   },
   {
    "duration": 49,
    "start_time": "2023-05-13T19:52:32.620Z"
   },
   {
    "duration": 4,
    "start_time": "2023-05-13T19:52:32.671Z"
   },
   {
    "duration": 37,
    "start_time": "2023-05-13T19:52:32.677Z"
   },
   {
    "duration": 51186,
    "start_time": "2023-05-13T19:52:32.717Z"
   },
   {
    "duration": 206,
    "start_time": "2023-05-13T19:53:23.909Z"
   },
   {
    "duration": 6,
    "start_time": "2023-05-13T19:53:24.118Z"
   },
   {
    "duration": 4,
    "start_time": "2023-05-13T19:53:24.200Z"
   },
   {
    "duration": 3382,
    "start_time": "2023-05-13T19:53:24.209Z"
   },
   {
    "duration": 71,
    "start_time": "2023-05-13T19:53:27.593Z"
   },
   {
    "duration": 4,
    "start_time": "2023-05-13T19:53:27.666Z"
   },
   {
    "duration": 4,
    "start_time": "2023-05-13T19:53:27.672Z"
   },
   {
    "duration": 35,
    "start_time": "2023-05-13T19:53:27.678Z"
   },
   {
    "duration": 17,
    "start_time": "2023-05-13T19:53:27.714Z"
   },
   {
    "duration": 75,
    "start_time": "2023-05-13T19:53:27.732Z"
   },
   {
    "duration": 10,
    "start_time": "2023-05-13T19:58:01.137Z"
   },
   {
    "duration": 71,
    "start_time": "2023-05-13T19:58:13.954Z"
   }
  ],
  "kernelspec": {
   "display_name": "Python 3 (ipykernel)",
   "language": "python",
   "name": "python3"
  },
  "language_info": {
   "codemirror_mode": {
    "name": "ipython",
    "version": 3
   },
   "file_extension": ".py",
   "mimetype": "text/x-python",
   "name": "python",
   "nbconvert_exporter": "python",
   "pygments_lexer": "ipython3",
   "version": "3.9.15"
  },
  "toc": {
   "base_numbering": 1,
   "nav_menu": {},
   "number_sections": true,
   "sideBar": true,
   "skip_h1_title": true,
   "title_cell": "Table of Contents",
   "title_sidebar": "Contents",
   "toc_cell": false,
   "toc_position": {},
   "toc_section_display": true,
   "toc_window_display": false
  }
 },
 "nbformat": 4,
 "nbformat_minor": 2
}
